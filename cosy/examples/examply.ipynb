{
 "cells": [
  {
   "cell_type": "code",
   "execution_count": 1,
   "outputs": [],
   "source": [
    "import numpy as np\n",
    "import tensorflow as tf\n",
    "import tensorflow_addons as tfa\n",
    "import pandas as pd\n",
    "from sklearn.model_selection import train_test_split\n",
    "from sklearn.preprocessing import StandardScaler\n",
    "from cosy.models import CosyNetMultiInput\n",
    "from cosy.losses import trace_norm_loss, MaskedMeanSquaredError"
   ],
   "metadata": {
    "collapsed": false,
    "pycharm": {
     "name": "#%%\n"
    }
   }
  },
  {
   "cell_type": "code",
   "execution_count": 2,
   "outputs": [
    {
     "data": {
      "text/plain": "   Unnamed: 0     framework  CO2_tp_lod  N2_tp_lod  SO2_tp_lod  \\\n0           0  GIQXUA_clean    1.918899   0.017520    2.747258   \n1           1  JALPAQ_clean    0.050226   0.027788    0.008087   \n2           2  SAQQEH_clean    2.006302   0.249367    0.533491   \n3           3  BEFNEH_clean    1.036156   0.033717    1.343768   \n4           4  GELVID_clean    0.552087   0.064768    0.027879   \n\n   RDF_electronegativity_2.00  RDF_electronegativity_2.00.1  \\\n0                    0.000605                      0.000606   \n1                    0.000861                      0.000870   \n2                    0.000771                      0.000781   \n3                    0.000899                      0.000899   \n4                    0.000820                      0.000831   \n\n   RDF_electronegativity_2.01  RDF_electronegativity_2.03  \\\n0                    0.000607                    0.000609   \n1                    0.000888                    0.000916   \n2                    0.000802                    0.000833   \n3                    0.000900                    0.000903   \n4                    0.000852                    0.000884   \n\n   RDF_electronegativity_2.04  ...  RDF_vdWaalsVolume_28.53  \\\n0                    0.000614  ...                      0.0   \n1                    0.000954  ...                      0.0   \n2                    0.000876  ...                      0.0   \n3                    0.000910  ...                      0.0   \n4                    0.000928  ...                      0.0   \n\n   RDF_vdWaalsVolume_29.01  RDF_vdWaalsVolume_29.51  RDF_vdWaalsVolume_30.00  \\\n0                      0.0                      0.0                      0.0   \n1                      0.0                      0.0                      0.0   \n2                      0.0                      0.0                      0.0   \n3                      0.0                      0.0                      0.0   \n4                      0.0                      0.0                      0.0   \n\n       PLD       LCD   density       VF       SAv       SAg  \n0  3.86870   4.89334  1.792830  0.13844  2675.750  1492.470  \n1  2.90553   3.97550  1.660880  0.01992   841.869   506.881  \n2  9.13279  10.56525  0.914389  0.35942  2030.210  2220.290  \n3  3.33494   4.26940  2.165640  0.07290  1864.990   861.172  \n4  2.43534   3.61901  1.574130  0.02776  1334.150   847.547  \n\n[5 rows x 350 columns]",
      "text/html": "<div>\n<style scoped>\n    .dataframe tbody tr th:only-of-type {\n        vertical-align: middle;\n    }\n\n    .dataframe tbody tr th {\n        vertical-align: top;\n    }\n\n    .dataframe thead th {\n        text-align: right;\n    }\n</style>\n<table border=\"1\" class=\"dataframe\">\n  <thead>\n    <tr style=\"text-align: right;\">\n      <th></th>\n      <th>Unnamed: 0</th>\n      <th>framework</th>\n      <th>CO2_tp_lod</th>\n      <th>N2_tp_lod</th>\n      <th>SO2_tp_lod</th>\n      <th>RDF_electronegativity_2.00</th>\n      <th>RDF_electronegativity_2.00.1</th>\n      <th>RDF_electronegativity_2.01</th>\n      <th>RDF_electronegativity_2.03</th>\n      <th>RDF_electronegativity_2.04</th>\n      <th>...</th>\n      <th>RDF_vdWaalsVolume_28.53</th>\n      <th>RDF_vdWaalsVolume_29.01</th>\n      <th>RDF_vdWaalsVolume_29.51</th>\n      <th>RDF_vdWaalsVolume_30.00</th>\n      <th>PLD</th>\n      <th>LCD</th>\n      <th>density</th>\n      <th>VF</th>\n      <th>SAv</th>\n      <th>SAg</th>\n    </tr>\n  </thead>\n  <tbody>\n    <tr>\n      <th>0</th>\n      <td>0</td>\n      <td>GIQXUA_clean</td>\n      <td>1.918899</td>\n      <td>0.017520</td>\n      <td>2.747258</td>\n      <td>0.000605</td>\n      <td>0.000606</td>\n      <td>0.000607</td>\n      <td>0.000609</td>\n      <td>0.000614</td>\n      <td>...</td>\n      <td>0.0</td>\n      <td>0.0</td>\n      <td>0.0</td>\n      <td>0.0</td>\n      <td>3.86870</td>\n      <td>4.89334</td>\n      <td>1.792830</td>\n      <td>0.13844</td>\n      <td>2675.750</td>\n      <td>1492.470</td>\n    </tr>\n    <tr>\n      <th>1</th>\n      <td>1</td>\n      <td>JALPAQ_clean</td>\n      <td>0.050226</td>\n      <td>0.027788</td>\n      <td>0.008087</td>\n      <td>0.000861</td>\n      <td>0.000870</td>\n      <td>0.000888</td>\n      <td>0.000916</td>\n      <td>0.000954</td>\n      <td>...</td>\n      <td>0.0</td>\n      <td>0.0</td>\n      <td>0.0</td>\n      <td>0.0</td>\n      <td>2.90553</td>\n      <td>3.97550</td>\n      <td>1.660880</td>\n      <td>0.01992</td>\n      <td>841.869</td>\n      <td>506.881</td>\n    </tr>\n    <tr>\n      <th>2</th>\n      <td>2</td>\n      <td>SAQQEH_clean</td>\n      <td>2.006302</td>\n      <td>0.249367</td>\n      <td>0.533491</td>\n      <td>0.000771</td>\n      <td>0.000781</td>\n      <td>0.000802</td>\n      <td>0.000833</td>\n      <td>0.000876</td>\n      <td>...</td>\n      <td>0.0</td>\n      <td>0.0</td>\n      <td>0.0</td>\n      <td>0.0</td>\n      <td>9.13279</td>\n      <td>10.56525</td>\n      <td>0.914389</td>\n      <td>0.35942</td>\n      <td>2030.210</td>\n      <td>2220.290</td>\n    </tr>\n    <tr>\n      <th>3</th>\n      <td>3</td>\n      <td>BEFNEH_clean</td>\n      <td>1.036156</td>\n      <td>0.033717</td>\n      <td>1.343768</td>\n      <td>0.000899</td>\n      <td>0.000899</td>\n      <td>0.000900</td>\n      <td>0.000903</td>\n      <td>0.000910</td>\n      <td>...</td>\n      <td>0.0</td>\n      <td>0.0</td>\n      <td>0.0</td>\n      <td>0.0</td>\n      <td>3.33494</td>\n      <td>4.26940</td>\n      <td>2.165640</td>\n      <td>0.07290</td>\n      <td>1864.990</td>\n      <td>861.172</td>\n    </tr>\n    <tr>\n      <th>4</th>\n      <td>4</td>\n      <td>GELVID_clean</td>\n      <td>0.552087</td>\n      <td>0.064768</td>\n      <td>0.027879</td>\n      <td>0.000820</td>\n      <td>0.000831</td>\n      <td>0.000852</td>\n      <td>0.000884</td>\n      <td>0.000928</td>\n      <td>...</td>\n      <td>0.0</td>\n      <td>0.0</td>\n      <td>0.0</td>\n      <td>0.0</td>\n      <td>2.43534</td>\n      <td>3.61901</td>\n      <td>1.574130</td>\n      <td>0.02776</td>\n      <td>1334.150</td>\n      <td>847.547</td>\n    </tr>\n  </tbody>\n</table>\n<p>5 rows × 350 columns</p>\n</div>"
     },
     "execution_count": 2,
     "metadata": {},
     "output_type": "execute_result"
    }
   ],
   "source": [
    "df = pd.read_csv(\"/Users/tompope/Documents/python_enviroment/SoftwareDevelopment/soft_parameter_sharing/data/desulferization_data_w_tobacc.csv\")\n",
    "df.head()"
   ],
   "metadata": {
    "collapsed": false,
    "pycharm": {
     "name": "#%%\n"
    }
   }
  },
  {
   "cell_type": "code",
   "execution_count": 3,
   "outputs": [],
   "source": [
    "'''\n",
    "  - read data into dataframe\n",
    "  - generate class data\n",
    "  - extract and split feature and class data\n",
    "  - scale feature data\n",
    "'''\n",
    "\n",
    "\n",
    "df = df.sample(frac=1).reset_index(drop=True)\n",
    "df.drop(columns=['Unnamed: 0'], inplace=True)\n",
    "# df = df[df.framework.str.startswith('str_')]\n",
    "\n",
    "\n",
    "train_df_full, test_df = train_test_split(df, test_size=0.2, random_state=2020)\n",
    "\n",
    "train_df, val_df = train_test_split(train_df_full, test_size=0.1, random_state=2020)\n",
    "\n",
    "X_train = train_df.iloc[:, 4:].to_numpy().astype(np.float32)\n",
    "X_train_CO2 = train_df.iloc[:, 4:-6].to_numpy().astype(np.float32)\n",
    "\n",
    "y_CO2 = train_df.CO2_tp_lod.to_numpy().astype(np.float32)\n",
    "y_N2 = train_df.N2_tp_lod.to_numpy().astype(np.float32)\n",
    "y_SO2 = train_df.SO2_tp_lod.to_numpy().astype(np.float32)\n",
    "\n",
    "X_val = val_df.iloc[:, 4:].to_numpy().astype(np.float32)\n",
    "X_val_CO2 = val_df.iloc[:, 4:-6].to_numpy().astype(np.float32)\n",
    "y_CO2_val = val_df.CO2_tp_lod.to_numpy().astype(np.float32)\n",
    "y_N2_val = val_df.N2_tp_lod.to_numpy().astype(np.float32)\n",
    "y_SO2_val = val_df.SO2_tp_lod.to_numpy().astype(np.float32)\n",
    "\n",
    "X_test = test_df.iloc[:, 4:].to_numpy().astype(np.float32)\n",
    "X_test_CO2 = test_df.iloc[:, 4:-6].to_numpy().astype(np.float32)\n",
    "y_CO2_test =  test_df.CO2_tp_lod.to_numpy().astype(np.float32)\n",
    "y_N2_test = test_df.N2_tp_lod.to_numpy().astype(np.float32)\n",
    "y_SO2_test = test_df.SO2_tp_lod.to_numpy().astype(np.float32)\n",
    "\n",
    "\n",
    "# y_CO2[100:1000] = -1\n",
    "\n",
    "sc = StandardScaler()\n",
    "\n",
    "\n",
    "X_train = sc.fit_transform(X_train)\n",
    "X_val = sc.transform(X_val)\n",
    "X_test = sc.transform(X_test)"
   ],
   "metadata": {
    "collapsed": false,
    "pycharm": {
     "name": "#%%\n"
    }
   }
  },
  {
   "cell_type": "code",
   "execution_count": 4,
   "outputs": [
    {
     "data": {
      "text/plain": "                                         framework  CO2_tp_lod  N2_tp_lod  \\\n0                                   VOZVIR01_clean    0.243592   0.118635   \n1  str_m2_o25_o28_f0_nbo_sym_111_faps_mpnn_charges    0.183181   0.317703   \n2                                     CUNWEO_clean    0.952602   0.138539   \n3   str_m2_o13_o22_f0_pcu_sym_64_faps_mpnn_charges    0.434624   0.228501   \n4    str_m3_o3_o9_f0_nbo_sym_117_faps_mpnn_charges    0.336151   0.251086   \n\n   SO2_tp_lod  RDF_electronegativity_2.00  RDF_electronegativity_2.00.1  \\\n0    0.031885                    0.000714                      0.000723   \n1    0.048971                    0.000758                      0.000768   \n2    0.699509                    0.000740                      0.000753   \n3    0.054699                    0.000782                      0.000793   \n4    0.079782                    0.000745                      0.000756   \n\n   RDF_electronegativity_2.01  RDF_electronegativity_2.03  \\\n0                    0.000740                    0.000766   \n1                    0.000790                    0.000824   \n2                    0.000777                    0.000816   \n3                    0.000816                    0.000852   \n4                    0.000778                    0.000811   \n\n   RDF_electronegativity_2.04  RDF_electronegativity_2.07  ...  \\\n0                    0.000802                    0.000848  ...   \n1                    0.000871                    0.000933  ...   \n2                    0.000870                    0.000940  ...   \n3                    0.000900                    0.000963  ...   \n4                    0.000857                    0.000916  ...   \n\n   RDF_vdWaalsVolume_28.53  RDF_vdWaalsVolume_29.01  RDF_vdWaalsVolume_29.51  \\\n0                 0.000000                 0.000000                 0.000000   \n1                 0.001182                 0.001237                 0.001512   \n2                 0.000000                 0.000000                 0.000000   \n3                 0.000000                 0.000000                 0.000000   \n4                 0.000605                 0.000155                 0.000286   \n\n   RDF_vdWaalsVolume_30.00       PLD       LCD   density       VF      SAv  \\\n0                 0.000000   5.57973   8.87661  1.346080  0.24614  2074.24   \n1                 0.001240  16.49478  25.98730  0.177762  0.81886  1013.90   \n2                 0.000000   6.48545   7.07961  1.231460  0.18212  1539.74   \n3                 0.000000   6.08678   8.27915  0.822739  0.28594  2461.09   \n4                 0.000012  12.95626  16.16932  0.289265  0.68368  1568.94   \n\n       SAg  \n0  1540.95  \n1  5703.65  \n2  1250.34  \n3  2991.33  \n4  5423.89  \n\n[5 rows x 349 columns]",
      "text/html": "<div>\n<style scoped>\n    .dataframe tbody tr th:only-of-type {\n        vertical-align: middle;\n    }\n\n    .dataframe tbody tr th {\n        vertical-align: top;\n    }\n\n    .dataframe thead th {\n        text-align: right;\n    }\n</style>\n<table border=\"1\" class=\"dataframe\">\n  <thead>\n    <tr style=\"text-align: right;\">\n      <th></th>\n      <th>framework</th>\n      <th>CO2_tp_lod</th>\n      <th>N2_tp_lod</th>\n      <th>SO2_tp_lod</th>\n      <th>RDF_electronegativity_2.00</th>\n      <th>RDF_electronegativity_2.00.1</th>\n      <th>RDF_electronegativity_2.01</th>\n      <th>RDF_electronegativity_2.03</th>\n      <th>RDF_electronegativity_2.04</th>\n      <th>RDF_electronegativity_2.07</th>\n      <th>...</th>\n      <th>RDF_vdWaalsVolume_28.53</th>\n      <th>RDF_vdWaalsVolume_29.01</th>\n      <th>RDF_vdWaalsVolume_29.51</th>\n      <th>RDF_vdWaalsVolume_30.00</th>\n      <th>PLD</th>\n      <th>LCD</th>\n      <th>density</th>\n      <th>VF</th>\n      <th>SAv</th>\n      <th>SAg</th>\n    </tr>\n  </thead>\n  <tbody>\n    <tr>\n      <th>0</th>\n      <td>VOZVIR01_clean</td>\n      <td>0.243592</td>\n      <td>0.118635</td>\n      <td>0.031885</td>\n      <td>0.000714</td>\n      <td>0.000723</td>\n      <td>0.000740</td>\n      <td>0.000766</td>\n      <td>0.000802</td>\n      <td>0.000848</td>\n      <td>...</td>\n      <td>0.000000</td>\n      <td>0.000000</td>\n      <td>0.000000</td>\n      <td>0.000000</td>\n      <td>5.57973</td>\n      <td>8.87661</td>\n      <td>1.346080</td>\n      <td>0.24614</td>\n      <td>2074.24</td>\n      <td>1540.95</td>\n    </tr>\n    <tr>\n      <th>1</th>\n      <td>str_m2_o25_o28_f0_nbo_sym_111_faps_mpnn_charges</td>\n      <td>0.183181</td>\n      <td>0.317703</td>\n      <td>0.048971</td>\n      <td>0.000758</td>\n      <td>0.000768</td>\n      <td>0.000790</td>\n      <td>0.000824</td>\n      <td>0.000871</td>\n      <td>0.000933</td>\n      <td>...</td>\n      <td>0.001182</td>\n      <td>0.001237</td>\n      <td>0.001512</td>\n      <td>0.001240</td>\n      <td>16.49478</td>\n      <td>25.98730</td>\n      <td>0.177762</td>\n      <td>0.81886</td>\n      <td>1013.90</td>\n      <td>5703.65</td>\n    </tr>\n    <tr>\n      <th>2</th>\n      <td>CUNWEO_clean</td>\n      <td>0.952602</td>\n      <td>0.138539</td>\n      <td>0.699509</td>\n      <td>0.000740</td>\n      <td>0.000753</td>\n      <td>0.000777</td>\n      <td>0.000816</td>\n      <td>0.000870</td>\n      <td>0.000940</td>\n      <td>...</td>\n      <td>0.000000</td>\n      <td>0.000000</td>\n      <td>0.000000</td>\n      <td>0.000000</td>\n      <td>6.48545</td>\n      <td>7.07961</td>\n      <td>1.231460</td>\n      <td>0.18212</td>\n      <td>1539.74</td>\n      <td>1250.34</td>\n    </tr>\n    <tr>\n      <th>3</th>\n      <td>str_m2_o13_o22_f0_pcu_sym_64_faps_mpnn_charges</td>\n      <td>0.434624</td>\n      <td>0.228501</td>\n      <td>0.054699</td>\n      <td>0.000782</td>\n      <td>0.000793</td>\n      <td>0.000816</td>\n      <td>0.000852</td>\n      <td>0.000900</td>\n      <td>0.000963</td>\n      <td>...</td>\n      <td>0.000000</td>\n      <td>0.000000</td>\n      <td>0.000000</td>\n      <td>0.000000</td>\n      <td>6.08678</td>\n      <td>8.27915</td>\n      <td>0.822739</td>\n      <td>0.28594</td>\n      <td>2461.09</td>\n      <td>2991.33</td>\n    </tr>\n    <tr>\n      <th>4</th>\n      <td>str_m3_o3_o9_f0_nbo_sym_117_faps_mpnn_charges</td>\n      <td>0.336151</td>\n      <td>0.251086</td>\n      <td>0.079782</td>\n      <td>0.000745</td>\n      <td>0.000756</td>\n      <td>0.000778</td>\n      <td>0.000811</td>\n      <td>0.000857</td>\n      <td>0.000916</td>\n      <td>...</td>\n      <td>0.000605</td>\n      <td>0.000155</td>\n      <td>0.000286</td>\n      <td>0.000012</td>\n      <td>12.95626</td>\n      <td>16.16932</td>\n      <td>0.289265</td>\n      <td>0.68368</td>\n      <td>1568.94</td>\n      <td>5423.89</td>\n    </tr>\n  </tbody>\n</table>\n<p>5 rows × 349 columns</p>\n</div>"
     },
     "execution_count": 4,
     "metadata": {},
     "output_type": "execute_result"
    }
   ],
   "source": [
    "df.head()"
   ],
   "metadata": {
    "collapsed": false,
    "pycharm": {
     "name": "#%%\n"
    }
   }
  },
  {
   "cell_type": "code",
   "execution_count": 5,
   "outputs": [
    {
     "name": "stdout",
     "output_type": "stream",
     "text": [
      "Metal device set to: Apple M1\n"
     ]
    },
    {
     "name": "stderr",
     "output_type": "stream",
     "text": [
      "2023-02-20 14:44:34.111893: I tensorflow/core/common_runtime/pluggable_device/pluggable_device_factory.cc:305] Could not identify NUMA node of platform GPU ID 0, defaulting to 0. Your kernel may not have been built with NUMA support.\n",
      "2023-02-20 14:44:34.112338: I tensorflow/core/common_runtime/pluggable_device/pluggable_device_factory.cc:271] Created TensorFlow device (/job:localhost/replica:0/task:0/device:GPU:0 with 0 MB memory) -> physical PluggableDevice (device: 0, name: METAL, pci bus id: <undefined>)\n"
     ]
    }
   ],
   "source": [
    "input_ = tf.keras.Input(shape=(X_train.shape[1]))\n",
    "x = tf.keras.layers.Dense(1200, activation='relu')(input_)\n",
    "x = tf.keras.layers.Dropout(0.1)(x)\n",
    "x = tf.keras.layers.Dense(400, activation='relu')(x)\n",
    "x = tf.keras.layers.Dropout(0.1)(x)\n",
    "x = tf.keras.layers.Dense(500, activation='relu')(x)\n",
    "x = tf.keras.layers.Dropout(0.1)(x)\n",
    "x = tf.keras.layers.Dense(1, activation='relu')(x)\n",
    "\n",
    "model = tf.keras.Model(inputs=input_, outputs=x)"
   ],
   "metadata": {
    "collapsed": false,
    "pycharm": {
     "name": "#%%\n"
    }
   }
  },
  {
   "cell_type": "code",
   "execution_count": 6,
   "outputs": [],
   "source": [
    "input_ = tf.keras.Input(shape=(X_train_CO2.shape[1]))\n",
    "x = tf.keras.layers.Dense(1200, activation='relu')(input_)\n",
    "x = tf.keras.layers.Dropout(0.1)(x)\n",
    "x = tf.keras.layers.Dense(400, activation='relu')(x)\n",
    "x = tf.keras.layers.Dropout(0.1)(x)\n",
    "x = tf.keras.layers.Dense(500, activation='relu')(x)\n",
    "x = tf.keras.layers.Dropout(0.1)(x)\n",
    "x = tf.keras.layers.Dense(1, activation='relu')(x)\n",
    "\n",
    "modelco2 = tf.keras.Model(inputs=input_, outputs=x)"
   ],
   "metadata": {
    "collapsed": false,
    "pycharm": {
     "name": "#%%\n"
    }
   }
  },
  {
   "cell_type": "code",
   "execution_count": 7,
   "outputs": [],
   "source": [
    "cosy_model = CosyNetMultiInput(\n",
    "    model_config=[model.get_config(), modelco2.get_config(), model.get_config()],\n",
    "    number_models=3,\n",
    "    scalar=1.0,\n",
    "    max_layer_cutoff=-1,\n",
    "    min_layer_cutoff=1\n",
    ")"
   ],
   "metadata": {
    "collapsed": false,
    "pycharm": {
     "name": "#%%\n"
    }
   }
  },
  {
   "cell_type": "code",
   "execution_count": 8,
   "outputs": [],
   "source": [
    "opt = tf.keras.optimizers.Adam(learning_rate=0.00025)\n",
    "\n",
    "losses = {\n",
    "    'output_1':MaskedMeanSquaredError(),\n",
    "    'output_2': MaskedMeanSquaredError(),\n",
    "    'output_3': MaskedMeanSquaredError(),\n",
    "    }\n",
    "\n",
    "R2 = tfa.metrics.RSquare()\n",
    "\n",
    "cosy_model.compile(\n",
    "            optimizer=opt,\n",
    "            loss=losses,\n",
    "            metrics=[R2],\n",
    "            )"
   ],
   "metadata": {
    "collapsed": false,
    "pycharm": {
     "name": "#%%\n"
    }
   }
  },
  {
   "cell_type": "code",
   "execution_count": 9,
   "outputs": [
    {
     "name": "stdout",
     "output_type": "stream",
     "text": [
      "Epoch 1/4\n"
     ]
    },
    {
     "name": "stderr",
     "output_type": "stream",
     "text": [
      "2023-02-20 14:44:34.558499: W tensorflow/core/platform/profile_utils/cpu_utils.cc:128] Failed to get CPU frequency: 0 Hz\n",
      "2023-02-20 14:44:35.732045: I tensorflow/core/grappler/optimizers/custom_graph_optimizer_registry.cc:113] Plugin optimizer for device_type GPU is enabled.\n"
     ]
    },
    {
     "name": "stdout",
     "output_type": "stream",
     "text": [
      "878/878 [==============================] - ETA: 0s - loss: 7.6086 - output_1_loss: 0.0216 - output_2_loss: 0.3518 - output_3_loss: 0.6907 - output_1_r_square: -1.8708 - output_2_r_square: 0.0515 - output_3_r_square: 0.4757 - scaled_soft_loss: 2.1797"
     ]
    },
    {
     "name": "stderr",
     "output_type": "stream",
     "text": [
      "2023-02-20 14:44:57.414230: I tensorflow/core/grappler/optimizers/custom_graph_optimizer_registry.cc:113] Plugin optimizer for device_type GPU is enabled.\n"
     ]
    },
    {
     "name": "stdout",
     "output_type": "stream",
     "text": [
      "878/878 [==============================] - 24s 25ms/step - loss: 7.6086 - output_1_loss: 0.0216 - output_2_loss: 0.3518 - output_3_loss: 0.6907 - output_1_r_square: -1.8708 - output_2_r_square: 0.0515 - output_3_r_square: 0.4757 - scaled_soft_loss: 2.1797 - val_loss: 0.9545 - val_output_1_loss: 0.0157 - val_output_2_loss: 0.2996 - val_output_3_loss: 0.5499 - val_output_1_r_square: -1.1535 - val_output_2_r_square: 0.1323 - val_output_3_r_square: 0.5718 - val_scaled_soft_loss: 0.0298\n",
      "Epoch 2/4\n",
      "353/878 [===========>..................] - ETA: 12s - loss: 0.9910 - output_1_loss: 0.0173 - output_2_loss: 0.3047 - output_3_loss: 0.5632 - output_1_r_square: -1.2400 - output_2_r_square: 0.1454 - output_3_r_square: 0.5648 - scaled_soft_loss: 0.0353"
     ]
    },
    {
     "ename": "KeyboardInterrupt",
     "evalue": "",
     "output_type": "error",
     "traceback": [
      "\u001B[0;31m---------------------------------------------------------------------------\u001B[0m",
      "\u001B[0;31mKeyboardInterrupt\u001B[0m                         Traceback (most recent call last)",
      "Cell \u001B[0;32mIn[9], line 1\u001B[0m\n\u001B[0;32m----> 1\u001B[0m \u001B[43mcosy_model\u001B[49m\u001B[38;5;241;43m.\u001B[39;49m\u001B[43mfit\u001B[49m\u001B[43m(\u001B[49m\n\u001B[1;32m      2\u001B[0m \u001B[43m    \u001B[49m\u001B[43mx\u001B[49m\u001B[38;5;241;43m=\u001B[39;49m\u001B[43m[\u001B[49m\u001B[43mX_train\u001B[49m\u001B[43m,\u001B[49m\u001B[43m \u001B[49m\u001B[43mX_train_CO2\u001B[49m\u001B[43m,\u001B[49m\u001B[43m \u001B[49m\u001B[43mX_train\u001B[49m\u001B[43m]\u001B[49m\u001B[43m,\u001B[49m\u001B[43m \u001B[49m\u001B[43my\u001B[49m\u001B[38;5;241;43m=\u001B[39;49m\u001B[43m[\u001B[49m\u001B[43my_N2\u001B[49m\u001B[43m,\u001B[49m\u001B[43m \u001B[49m\u001B[43my_CO2\u001B[49m\u001B[43m,\u001B[49m\u001B[43m \u001B[49m\u001B[43my_SO2\u001B[49m\u001B[43m]\u001B[49m\u001B[43m,\u001B[49m\n\u001B[1;32m      3\u001B[0m \u001B[43m    \u001B[49m\u001B[43mvalidation_data\u001B[49m\u001B[38;5;241;43m=\u001B[39;49m\u001B[43m(\u001B[49m\u001B[43m[\u001B[49m\u001B[43mX_val\u001B[49m\u001B[43m,\u001B[49m\u001B[43m \u001B[49m\u001B[43mX_val_CO2\u001B[49m\u001B[43m,\u001B[49m\u001B[43m \u001B[49m\u001B[43mX_val\u001B[49m\u001B[43m]\u001B[49m\u001B[43m,\u001B[49m\u001B[43m \u001B[49m\u001B[43m[\u001B[49m\u001B[43my_N2_val\u001B[49m\u001B[43m,\u001B[49m\u001B[43m \u001B[49m\u001B[43my_CO2_val\u001B[49m\u001B[43m,\u001B[49m\u001B[43m \u001B[49m\u001B[43my_SO2_val\u001B[49m\u001B[43m]\u001B[49m\u001B[43m)\u001B[49m\u001B[43m,\u001B[49m\n\u001B[1;32m      4\u001B[0m \u001B[43m    \u001B[49m\u001B[43mbatch_size\u001B[49m\u001B[38;5;241;43m=\u001B[39;49m\u001B[38;5;241;43m32\u001B[39;49m\u001B[43m,\u001B[49m\u001B[43m \u001B[49m\u001B[43mepochs\u001B[49m\u001B[43m \u001B[49m\u001B[38;5;241;43m=\u001B[39;49m\u001B[43m \u001B[49m\u001B[38;5;241;43m4\u001B[39;49m\u001B[43m,\u001B[49m\u001B[43m \u001B[49m\u001B[43mverbose\u001B[49m\u001B[38;5;241;43m=\u001B[39;49m\u001B[38;5;241;43m1\u001B[39;49m\n\u001B[1;32m      5\u001B[0m \u001B[43m)\u001B[49m\n",
      "File \u001B[0;32m~/.local/share/virtualenvs/Cosy-QaLDgKkW/lib/python3.9/site-packages/keras/utils/traceback_utils.py:64\u001B[0m, in \u001B[0;36mfilter_traceback.<locals>.error_handler\u001B[0;34m(*args, **kwargs)\u001B[0m\n\u001B[1;32m     62\u001B[0m filtered_tb \u001B[38;5;241m=\u001B[39m \u001B[38;5;28;01mNone\u001B[39;00m\n\u001B[1;32m     63\u001B[0m \u001B[38;5;28;01mtry\u001B[39;00m:\n\u001B[0;32m---> 64\u001B[0m   \u001B[38;5;28;01mreturn\u001B[39;00m \u001B[43mfn\u001B[49m\u001B[43m(\u001B[49m\u001B[38;5;241;43m*\u001B[39;49m\u001B[43margs\u001B[49m\u001B[43m,\u001B[49m\u001B[43m \u001B[49m\u001B[38;5;241;43m*\u001B[39;49m\u001B[38;5;241;43m*\u001B[39;49m\u001B[43mkwargs\u001B[49m\u001B[43m)\u001B[49m\n\u001B[1;32m     65\u001B[0m \u001B[38;5;28;01mexcept\u001B[39;00m \u001B[38;5;167;01mException\u001B[39;00m \u001B[38;5;28;01mas\u001B[39;00m e:  \u001B[38;5;66;03m# pylint: disable=broad-except\u001B[39;00m\n\u001B[1;32m     66\u001B[0m   filtered_tb \u001B[38;5;241m=\u001B[39m _process_traceback_frames(e\u001B[38;5;241m.\u001B[39m__traceback__)\n",
      "File \u001B[0;32m~/.local/share/virtualenvs/Cosy-QaLDgKkW/lib/python3.9/site-packages/keras/engine/training.py:1409\u001B[0m, in \u001B[0;36mModel.fit\u001B[0;34m(self, x, y, batch_size, epochs, verbose, callbacks, validation_split, validation_data, shuffle, class_weight, sample_weight, initial_epoch, steps_per_epoch, validation_steps, validation_batch_size, validation_freq, max_queue_size, workers, use_multiprocessing)\u001B[0m\n\u001B[1;32m   1402\u001B[0m \u001B[38;5;28;01mwith\u001B[39;00m tf\u001B[38;5;241m.\u001B[39mprofiler\u001B[38;5;241m.\u001B[39mexperimental\u001B[38;5;241m.\u001B[39mTrace(\n\u001B[1;32m   1403\u001B[0m     \u001B[38;5;124m'\u001B[39m\u001B[38;5;124mtrain\u001B[39m\u001B[38;5;124m'\u001B[39m,\n\u001B[1;32m   1404\u001B[0m     epoch_num\u001B[38;5;241m=\u001B[39mepoch,\n\u001B[1;32m   1405\u001B[0m     step_num\u001B[38;5;241m=\u001B[39mstep,\n\u001B[1;32m   1406\u001B[0m     batch_size\u001B[38;5;241m=\u001B[39mbatch_size,\n\u001B[1;32m   1407\u001B[0m     _r\u001B[38;5;241m=\u001B[39m\u001B[38;5;241m1\u001B[39m):\n\u001B[1;32m   1408\u001B[0m   callbacks\u001B[38;5;241m.\u001B[39mon_train_batch_begin(step)\n\u001B[0;32m-> 1409\u001B[0m   tmp_logs \u001B[38;5;241m=\u001B[39m \u001B[38;5;28;43mself\u001B[39;49m\u001B[38;5;241;43m.\u001B[39;49m\u001B[43mtrain_function\u001B[49m\u001B[43m(\u001B[49m\u001B[43miterator\u001B[49m\u001B[43m)\u001B[49m\n\u001B[1;32m   1410\u001B[0m   \u001B[38;5;28;01mif\u001B[39;00m data_handler\u001B[38;5;241m.\u001B[39mshould_sync:\n\u001B[1;32m   1411\u001B[0m     context\u001B[38;5;241m.\u001B[39masync_wait()\n",
      "File \u001B[0;32m~/.local/share/virtualenvs/Cosy-QaLDgKkW/lib/python3.9/site-packages/tensorflow/python/util/traceback_utils.py:150\u001B[0m, in \u001B[0;36mfilter_traceback.<locals>.error_handler\u001B[0;34m(*args, **kwargs)\u001B[0m\n\u001B[1;32m    148\u001B[0m filtered_tb \u001B[38;5;241m=\u001B[39m \u001B[38;5;28;01mNone\u001B[39;00m\n\u001B[1;32m    149\u001B[0m \u001B[38;5;28;01mtry\u001B[39;00m:\n\u001B[0;32m--> 150\u001B[0m   \u001B[38;5;28;01mreturn\u001B[39;00m \u001B[43mfn\u001B[49m\u001B[43m(\u001B[49m\u001B[38;5;241;43m*\u001B[39;49m\u001B[43margs\u001B[49m\u001B[43m,\u001B[49m\u001B[43m \u001B[49m\u001B[38;5;241;43m*\u001B[39;49m\u001B[38;5;241;43m*\u001B[39;49m\u001B[43mkwargs\u001B[49m\u001B[43m)\u001B[49m\n\u001B[1;32m    151\u001B[0m \u001B[38;5;28;01mexcept\u001B[39;00m \u001B[38;5;167;01mException\u001B[39;00m \u001B[38;5;28;01mas\u001B[39;00m e:\n\u001B[1;32m    152\u001B[0m   filtered_tb \u001B[38;5;241m=\u001B[39m _process_traceback_frames(e\u001B[38;5;241m.\u001B[39m__traceback__)\n",
      "File \u001B[0;32m~/.local/share/virtualenvs/Cosy-QaLDgKkW/lib/python3.9/site-packages/tensorflow/python/eager/def_function.py:915\u001B[0m, in \u001B[0;36mFunction.__call__\u001B[0;34m(self, *args, **kwds)\u001B[0m\n\u001B[1;32m    912\u001B[0m compiler \u001B[38;5;241m=\u001B[39m \u001B[38;5;124m\"\u001B[39m\u001B[38;5;124mxla\u001B[39m\u001B[38;5;124m\"\u001B[39m \u001B[38;5;28;01mif\u001B[39;00m \u001B[38;5;28mself\u001B[39m\u001B[38;5;241m.\u001B[39m_jit_compile \u001B[38;5;28;01melse\u001B[39;00m \u001B[38;5;124m\"\u001B[39m\u001B[38;5;124mnonXla\u001B[39m\u001B[38;5;124m\"\u001B[39m\n\u001B[1;32m    914\u001B[0m \u001B[38;5;28;01mwith\u001B[39;00m OptionalXlaContext(\u001B[38;5;28mself\u001B[39m\u001B[38;5;241m.\u001B[39m_jit_compile):\n\u001B[0;32m--> 915\u001B[0m   result \u001B[38;5;241m=\u001B[39m \u001B[38;5;28;43mself\u001B[39;49m\u001B[38;5;241;43m.\u001B[39;49m\u001B[43m_call\u001B[49m\u001B[43m(\u001B[49m\u001B[38;5;241;43m*\u001B[39;49m\u001B[43margs\u001B[49m\u001B[43m,\u001B[49m\u001B[43m \u001B[49m\u001B[38;5;241;43m*\u001B[39;49m\u001B[38;5;241;43m*\u001B[39;49m\u001B[43mkwds\u001B[49m\u001B[43m)\u001B[49m\n\u001B[1;32m    917\u001B[0m new_tracing_count \u001B[38;5;241m=\u001B[39m \u001B[38;5;28mself\u001B[39m\u001B[38;5;241m.\u001B[39mexperimental_get_tracing_count()\n\u001B[1;32m    918\u001B[0m without_tracing \u001B[38;5;241m=\u001B[39m (tracing_count \u001B[38;5;241m==\u001B[39m new_tracing_count)\n",
      "File \u001B[0;32m~/.local/share/virtualenvs/Cosy-QaLDgKkW/lib/python3.9/site-packages/tensorflow/python/eager/def_function.py:947\u001B[0m, in \u001B[0;36mFunction._call\u001B[0;34m(self, *args, **kwds)\u001B[0m\n\u001B[1;32m    944\u001B[0m   \u001B[38;5;28mself\u001B[39m\u001B[38;5;241m.\u001B[39m_lock\u001B[38;5;241m.\u001B[39mrelease()\n\u001B[1;32m    945\u001B[0m   \u001B[38;5;66;03m# In this case we have created variables on the first call, so we run the\u001B[39;00m\n\u001B[1;32m    946\u001B[0m   \u001B[38;5;66;03m# defunned version which is guaranteed to never create variables.\u001B[39;00m\n\u001B[0;32m--> 947\u001B[0m   \u001B[38;5;28;01mreturn\u001B[39;00m \u001B[38;5;28;43mself\u001B[39;49m\u001B[38;5;241;43m.\u001B[39;49m\u001B[43m_stateless_fn\u001B[49m\u001B[43m(\u001B[49m\u001B[38;5;241;43m*\u001B[39;49m\u001B[43margs\u001B[49m\u001B[43m,\u001B[49m\u001B[43m \u001B[49m\u001B[38;5;241;43m*\u001B[39;49m\u001B[38;5;241;43m*\u001B[39;49m\u001B[43mkwds\u001B[49m\u001B[43m)\u001B[49m  \u001B[38;5;66;03m# pylint: disable=not-callable\u001B[39;00m\n\u001B[1;32m    948\u001B[0m \u001B[38;5;28;01melif\u001B[39;00m \u001B[38;5;28mself\u001B[39m\u001B[38;5;241m.\u001B[39m_stateful_fn \u001B[38;5;129;01mis\u001B[39;00m \u001B[38;5;129;01mnot\u001B[39;00m \u001B[38;5;28;01mNone\u001B[39;00m:\n\u001B[1;32m    949\u001B[0m   \u001B[38;5;66;03m# Release the lock early so that multiple threads can perform the call\u001B[39;00m\n\u001B[1;32m    950\u001B[0m   \u001B[38;5;66;03m# in parallel.\u001B[39;00m\n\u001B[1;32m    951\u001B[0m   \u001B[38;5;28mself\u001B[39m\u001B[38;5;241m.\u001B[39m_lock\u001B[38;5;241m.\u001B[39mrelease()\n",
      "File \u001B[0;32m~/.local/share/virtualenvs/Cosy-QaLDgKkW/lib/python3.9/site-packages/tensorflow/python/eager/function.py:2453\u001B[0m, in \u001B[0;36mFunction.__call__\u001B[0;34m(self, *args, **kwargs)\u001B[0m\n\u001B[1;32m   2450\u001B[0m \u001B[38;5;28;01mwith\u001B[39;00m \u001B[38;5;28mself\u001B[39m\u001B[38;5;241m.\u001B[39m_lock:\n\u001B[1;32m   2451\u001B[0m   (graph_function,\n\u001B[1;32m   2452\u001B[0m    filtered_flat_args) \u001B[38;5;241m=\u001B[39m \u001B[38;5;28mself\u001B[39m\u001B[38;5;241m.\u001B[39m_maybe_define_function(args, kwargs)\n\u001B[0;32m-> 2453\u001B[0m \u001B[38;5;28;01mreturn\u001B[39;00m \u001B[43mgraph_function\u001B[49m\u001B[38;5;241;43m.\u001B[39;49m\u001B[43m_call_flat\u001B[49m\u001B[43m(\u001B[49m\n\u001B[1;32m   2454\u001B[0m \u001B[43m    \u001B[49m\u001B[43mfiltered_flat_args\u001B[49m\u001B[43m,\u001B[49m\u001B[43m \u001B[49m\u001B[43mcaptured_inputs\u001B[49m\u001B[38;5;241;43m=\u001B[39;49m\u001B[43mgraph_function\u001B[49m\u001B[38;5;241;43m.\u001B[39;49m\u001B[43mcaptured_inputs\u001B[49m\u001B[43m)\u001B[49m\n",
      "File \u001B[0;32m~/.local/share/virtualenvs/Cosy-QaLDgKkW/lib/python3.9/site-packages/tensorflow/python/eager/function.py:1860\u001B[0m, in \u001B[0;36mConcreteFunction._call_flat\u001B[0;34m(self, args, captured_inputs, cancellation_manager)\u001B[0m\n\u001B[1;32m   1856\u001B[0m possible_gradient_type \u001B[38;5;241m=\u001B[39m gradients_util\u001B[38;5;241m.\u001B[39mPossibleTapeGradientTypes(args)\n\u001B[1;32m   1857\u001B[0m \u001B[38;5;28;01mif\u001B[39;00m (possible_gradient_type \u001B[38;5;241m==\u001B[39m gradients_util\u001B[38;5;241m.\u001B[39mPOSSIBLE_GRADIENT_TYPES_NONE\n\u001B[1;32m   1858\u001B[0m     \u001B[38;5;129;01mand\u001B[39;00m executing_eagerly):\n\u001B[1;32m   1859\u001B[0m   \u001B[38;5;66;03m# No tape is watching; skip to running the function.\u001B[39;00m\n\u001B[0;32m-> 1860\u001B[0m   \u001B[38;5;28;01mreturn\u001B[39;00m \u001B[38;5;28mself\u001B[39m\u001B[38;5;241m.\u001B[39m_build_call_outputs(\u001B[38;5;28;43mself\u001B[39;49m\u001B[38;5;241;43m.\u001B[39;49m\u001B[43m_inference_function\u001B[49m\u001B[38;5;241;43m.\u001B[39;49m\u001B[43mcall\u001B[49m\u001B[43m(\u001B[49m\n\u001B[1;32m   1861\u001B[0m \u001B[43m      \u001B[49m\u001B[43mctx\u001B[49m\u001B[43m,\u001B[49m\u001B[43m \u001B[49m\u001B[43margs\u001B[49m\u001B[43m,\u001B[49m\u001B[43m \u001B[49m\u001B[43mcancellation_manager\u001B[49m\u001B[38;5;241;43m=\u001B[39;49m\u001B[43mcancellation_manager\u001B[49m\u001B[43m)\u001B[49m)\n\u001B[1;32m   1862\u001B[0m forward_backward \u001B[38;5;241m=\u001B[39m \u001B[38;5;28mself\u001B[39m\u001B[38;5;241m.\u001B[39m_select_forward_and_backward_functions(\n\u001B[1;32m   1863\u001B[0m     args,\n\u001B[1;32m   1864\u001B[0m     possible_gradient_type,\n\u001B[1;32m   1865\u001B[0m     executing_eagerly)\n\u001B[1;32m   1866\u001B[0m forward_function, args_with_tangents \u001B[38;5;241m=\u001B[39m forward_backward\u001B[38;5;241m.\u001B[39mforward()\n",
      "File \u001B[0;32m~/.local/share/virtualenvs/Cosy-QaLDgKkW/lib/python3.9/site-packages/tensorflow/python/eager/function.py:497\u001B[0m, in \u001B[0;36m_EagerDefinedFunction.call\u001B[0;34m(self, ctx, args, cancellation_manager)\u001B[0m\n\u001B[1;32m    495\u001B[0m \u001B[38;5;28;01mwith\u001B[39;00m _InterpolateFunctionError(\u001B[38;5;28mself\u001B[39m):\n\u001B[1;32m    496\u001B[0m   \u001B[38;5;28;01mif\u001B[39;00m cancellation_manager \u001B[38;5;129;01mis\u001B[39;00m \u001B[38;5;28;01mNone\u001B[39;00m:\n\u001B[0;32m--> 497\u001B[0m     outputs \u001B[38;5;241m=\u001B[39m \u001B[43mexecute\u001B[49m\u001B[38;5;241;43m.\u001B[39;49m\u001B[43mexecute\u001B[49m\u001B[43m(\u001B[49m\n\u001B[1;32m    498\u001B[0m \u001B[43m        \u001B[49m\u001B[38;5;28;43mstr\u001B[39;49m\u001B[43m(\u001B[49m\u001B[38;5;28;43mself\u001B[39;49m\u001B[38;5;241;43m.\u001B[39;49m\u001B[43msignature\u001B[49m\u001B[38;5;241;43m.\u001B[39;49m\u001B[43mname\u001B[49m\u001B[43m)\u001B[49m\u001B[43m,\u001B[49m\n\u001B[1;32m    499\u001B[0m \u001B[43m        \u001B[49m\u001B[43mnum_outputs\u001B[49m\u001B[38;5;241;43m=\u001B[39;49m\u001B[38;5;28;43mself\u001B[39;49m\u001B[38;5;241;43m.\u001B[39;49m\u001B[43m_num_outputs\u001B[49m\u001B[43m,\u001B[49m\n\u001B[1;32m    500\u001B[0m \u001B[43m        \u001B[49m\u001B[43minputs\u001B[49m\u001B[38;5;241;43m=\u001B[39;49m\u001B[43margs\u001B[49m\u001B[43m,\u001B[49m\n\u001B[1;32m    501\u001B[0m \u001B[43m        \u001B[49m\u001B[43mattrs\u001B[49m\u001B[38;5;241;43m=\u001B[39;49m\u001B[43mattrs\u001B[49m\u001B[43m,\u001B[49m\n\u001B[1;32m    502\u001B[0m \u001B[43m        \u001B[49m\u001B[43mctx\u001B[49m\u001B[38;5;241;43m=\u001B[39;49m\u001B[43mctx\u001B[49m\u001B[43m)\u001B[49m\n\u001B[1;32m    503\u001B[0m   \u001B[38;5;28;01melse\u001B[39;00m:\n\u001B[1;32m    504\u001B[0m     outputs \u001B[38;5;241m=\u001B[39m execute\u001B[38;5;241m.\u001B[39mexecute_with_cancellation(\n\u001B[1;32m    505\u001B[0m         \u001B[38;5;28mstr\u001B[39m(\u001B[38;5;28mself\u001B[39m\u001B[38;5;241m.\u001B[39msignature\u001B[38;5;241m.\u001B[39mname),\n\u001B[1;32m    506\u001B[0m         num_outputs\u001B[38;5;241m=\u001B[39m\u001B[38;5;28mself\u001B[39m\u001B[38;5;241m.\u001B[39m_num_outputs,\n\u001B[0;32m   (...)\u001B[0m\n\u001B[1;32m    509\u001B[0m         ctx\u001B[38;5;241m=\u001B[39mctx,\n\u001B[1;32m    510\u001B[0m         cancellation_manager\u001B[38;5;241m=\u001B[39mcancellation_manager)\n",
      "File \u001B[0;32m~/.local/share/virtualenvs/Cosy-QaLDgKkW/lib/python3.9/site-packages/tensorflow/python/eager/execute.py:54\u001B[0m, in \u001B[0;36mquick_execute\u001B[0;34m(op_name, num_outputs, inputs, attrs, ctx, name)\u001B[0m\n\u001B[1;32m     52\u001B[0m \u001B[38;5;28;01mtry\u001B[39;00m:\n\u001B[1;32m     53\u001B[0m   ctx\u001B[38;5;241m.\u001B[39mensure_initialized()\n\u001B[0;32m---> 54\u001B[0m   tensors \u001B[38;5;241m=\u001B[39m \u001B[43mpywrap_tfe\u001B[49m\u001B[38;5;241;43m.\u001B[39;49m\u001B[43mTFE_Py_Execute\u001B[49m\u001B[43m(\u001B[49m\u001B[43mctx\u001B[49m\u001B[38;5;241;43m.\u001B[39;49m\u001B[43m_handle\u001B[49m\u001B[43m,\u001B[49m\u001B[43m \u001B[49m\u001B[43mdevice_name\u001B[49m\u001B[43m,\u001B[49m\u001B[43m \u001B[49m\u001B[43mop_name\u001B[49m\u001B[43m,\u001B[49m\n\u001B[1;32m     55\u001B[0m \u001B[43m                                      \u001B[49m\u001B[43minputs\u001B[49m\u001B[43m,\u001B[49m\u001B[43m \u001B[49m\u001B[43mattrs\u001B[49m\u001B[43m,\u001B[49m\u001B[43m \u001B[49m\u001B[43mnum_outputs\u001B[49m\u001B[43m)\u001B[49m\n\u001B[1;32m     56\u001B[0m \u001B[38;5;28;01mexcept\u001B[39;00m core\u001B[38;5;241m.\u001B[39m_NotOkStatusException \u001B[38;5;28;01mas\u001B[39;00m e:\n\u001B[1;32m     57\u001B[0m   \u001B[38;5;28;01mif\u001B[39;00m name \u001B[38;5;129;01mis\u001B[39;00m \u001B[38;5;129;01mnot\u001B[39;00m \u001B[38;5;28;01mNone\u001B[39;00m:\n",
      "\u001B[0;31mKeyboardInterrupt\u001B[0m: "
     ]
    }
   ],
   "source": [
    "cosy_model.fit(\n",
    "    x=[X_train, X_train_CO2, X_train], y=[y_N2, y_CO2, y_SO2],\n",
    "    validation_data=([X_val, X_val_CO2, X_val], [y_N2_val, y_CO2_val, y_SO2_val]),\n",
    "    batch_size=32, epochs = 4, verbose=1\n",
    ")"
   ],
   "metadata": {
    "collapsed": false,
    "pycharm": {
     "name": "#%%\n"
    }
   }
  },
  {
   "cell_type": "code",
   "execution_count": null,
   "outputs": [],
   "source": [
    "models = cosy_model.get_models()"
   ],
   "metadata": {
    "collapsed": false,
    "pycharm": {
     "name": "#%%\n"
    }
   }
  },
  {
   "cell_type": "code",
   "execution_count": null,
   "outputs": [],
   "source": [
    "from sklearn.metrics import r2_score\n",
    "cosy_model.evaluate([X_test, X_test_CO2, X_test], [y_N2_test, y_CO2_test, y_SO2_test])\n",
    "predictions = cosy_model.predict([X_test, X_test_CO2, X_test])\n",
    "\n",
    "R2 = tfa.metrics.RSquare()\n",
    "\n",
    "pred1 = np.array(predictions[0]).reshape(-1)\n",
    "pred2 = np.array(predictions[1]).reshape(-1)\n",
    "pred3 = np.array(predictions[2]).reshape(-1)\n",
    "\n",
    "\n",
    "print(r2_score(y_N2_test, pred1))\n",
    "print(r2_score(y_CO2_test, pred2))\n",
    "print(r2_score(y_SO2_test, pred3))"
   ],
   "metadata": {
    "collapsed": false,
    "pycharm": {
     "name": "#%%\n"
    }
   }
  },
  {
   "cell_type": "code",
   "execution_count": null,
   "outputs": [],
   "source": [
    "y = y_N2"
   ],
   "metadata": {
    "collapsed": false,
    "pycharm": {
     "name": "#%%\n"
    }
   }
  },
  {
   "cell_type": "code",
   "execution_count": null,
   "outputs": [],
   "source": [
    "np.shape(y)"
   ],
   "metadata": {
    "collapsed": false,
    "pycharm": {
     "name": "#%%\n"
    }
   }
  },
  {
   "cell_type": "code",
   "execution_count": null,
   "outputs": [],
   "source": [
    "y_N2"
   ],
   "metadata": {
    "collapsed": false,
    "pycharm": {
     "name": "#%%\n"
    }
   }
  },
  {
   "cell_type": "code",
   "execution_count": null,
   "outputs": [],
   "source": [
    "masker = tf.not_equal(y, -1)"
   ],
   "metadata": {
    "collapsed": false,
    "pycharm": {
     "name": "#%%\n"
    }
   }
  },
  {
   "cell_type": "code",
   "execution_count": null,
   "outputs": [],
   "source": [
    "masker"
   ],
   "metadata": {
    "collapsed": false,
    "pycharm": {
     "name": "#%%\n"
    }
   }
  },
  {
   "cell_type": "code",
   "execution_count": null,
   "outputs": [],
   "source": [],
   "metadata": {
    "collapsed": false,
    "pycharm": {
     "name": "#%%\n"
    }
   }
  },
  {
   "cell_type": "code",
   "execution_count": null,
   "outputs": [],
   "source": [
    "y = tf.boolean_mask(y, masker)"
   ],
   "metadata": {
    "collapsed": false,
    "pycharm": {
     "name": "#%%\n"
    }
   }
  },
  {
   "cell_type": "code",
   "execution_count": null,
   "outputs": [],
   "source": [
    "y"
   ],
   "metadata": {
    "collapsed": false,
    "pycharm": {
     "name": "#%%\n"
    }
   }
  },
  {
   "cell_type": "code",
   "execution_count": null,
   "outputs": [],
   "source": [
    "models = cosy_model.get_models()"
   ],
   "metadata": {
    "collapsed": false,
    "pycharm": {
     "name": "#%%\n"
    }
   }
  },
  {
   "cell_type": "code",
   "execution_count": null,
   "outputs": [],
   "source": [
    "models[2].layers[1].weights"
   ],
   "metadata": {
    "collapsed": false,
    "pycharm": {
     "name": "#%%\n"
    }
   }
  },
  {
   "cell_type": "code",
   "execution_count": null,
   "outputs": [],
   "source": [
    "for idx, params in enumerate(zip(*[layer.weights for layer in cosy_model.task_nets.layers])):\n",
    "    if \"kernel\" in params[1].name and idx > 0:\n",
    "        print(params)"
   ],
   "metadata": {
    "collapsed": false,
    "pycharm": {
     "name": "#%%\n"
    }
   }
  },
  {
   "cell_type": "code",
   "execution_count": 10,
   "outputs": [
    {
     "data": {
      "text/plain": "<cosy.models.cosy_net.CosyNetMultiInput at 0x16bf48f70>"
     },
     "execution_count": 10,
     "metadata": {},
     "output_type": "execute_result"
    }
   ],
   "source": [
    "cosy_model"
   ],
   "metadata": {
    "collapsed": false,
    "pycharm": {
     "name": "#%%\n"
    }
   }
  },
  {
   "cell_type": "code",
   "execution_count": 17,
   "outputs": [
    {
     "ename": "TypeError",
     "evalue": "Cannot convert 'kernel' to EagerTensor of dtype float",
     "output_type": "error",
     "traceback": [
      "\u001B[0;31m---------------------------------------------------------------------------\u001B[0m",
      "\u001B[0;31mTypeError\u001B[0m                                 Traceback (most recent call last)",
      "Cell \u001B[0;32mIn[17], line 1\u001B[0m\n\u001B[0;32m----> 1\u001B[0m all_weights \u001B[38;5;241m=\u001B[39m [\n\u001B[1;32m      2\u001B[0m             layer\n\u001B[1;32m      3\u001B[0m             \u001B[38;5;28;01mfor\u001B[39;00m layer \u001B[38;5;129;01min\u001B[39;00m cosy_model\u001B[38;5;241m.\u001B[39mget_models()[\u001B[38;5;241m0\u001B[39m]\u001B[38;5;241m.\u001B[39mlayers\n\u001B[1;32m      4\u001B[0m             \u001B[38;5;28;01mif\u001B[39;00m \u001B[38;5;124m\"\u001B[39m\u001B[38;5;124mkernel\u001B[39m\u001B[38;5;124m\"\u001B[39m \u001B[38;5;129;01min\u001B[39;00m layer\u001B[38;5;241m.\u001B[39mweights\n\u001B[1;32m      5\u001B[0m         ]\n",
      "Cell \u001B[0;32mIn[17], line 4\u001B[0m, in \u001B[0;36m<listcomp>\u001B[0;34m(.0)\u001B[0m\n\u001B[1;32m      1\u001B[0m all_weights \u001B[38;5;241m=\u001B[39m [\n\u001B[1;32m      2\u001B[0m             layer\n\u001B[1;32m      3\u001B[0m             \u001B[38;5;28;01mfor\u001B[39;00m layer \u001B[38;5;129;01min\u001B[39;00m cosy_model\u001B[38;5;241m.\u001B[39mget_models()[\u001B[38;5;241m0\u001B[39m]\u001B[38;5;241m.\u001B[39mlayers\n\u001B[0;32m----> 4\u001B[0m             \u001B[38;5;28;01mif\u001B[39;00m \u001B[38;5;124;43m\"\u001B[39;49m\u001B[38;5;124;43mkernel\u001B[39;49m\u001B[38;5;124;43m\"\u001B[39;49m\u001B[43m \u001B[49m\u001B[38;5;129;43;01min\u001B[39;49;00m\u001B[43m \u001B[49m\u001B[43mlayer\u001B[49m\u001B[38;5;241;43m.\u001B[39;49m\u001B[43mweights\u001B[49m\n\u001B[1;32m      5\u001B[0m         ]\n",
      "File \u001B[0;32m~/.local/share/virtualenvs/Cosy-QaLDgKkW/lib/python3.9/site-packages/tensorflow/python/ops/variables.py:1091\u001B[0m, in \u001B[0;36mVariable.__eq__\u001B[0;34m(self, other)\u001B[0m\n\u001B[1;32m   1089\u001B[0m \u001B[38;5;250m\u001B[39m\u001B[38;5;124;03m\"\"\"Compares two variables element-wise for equality.\"\"\"\u001B[39;00m\n\u001B[1;32m   1090\u001B[0m \u001B[38;5;28;01mif\u001B[39;00m ops\u001B[38;5;241m.\u001B[39mTensor\u001B[38;5;241m.\u001B[39m_USE_EQUALITY \u001B[38;5;129;01mand\u001B[39;00m ops\u001B[38;5;241m.\u001B[39mexecuting_eagerly_outside_functions():  \u001B[38;5;66;03m# pylint: disable=protected-access\u001B[39;00m\n\u001B[0;32m-> 1091\u001B[0m   \u001B[38;5;28;01mreturn\u001B[39;00m \u001B[43mgen_math_ops\u001B[49m\u001B[38;5;241;43m.\u001B[39;49m\u001B[43mequal\u001B[49m\u001B[43m(\u001B[49m\u001B[38;5;28;43mself\u001B[39;49m\u001B[43m,\u001B[49m\u001B[43m \u001B[49m\u001B[43mother\u001B[49m\u001B[43m,\u001B[49m\u001B[43m \u001B[49m\u001B[43mincompatible_shape_error\u001B[49m\u001B[38;5;241;43m=\u001B[39;49m\u001B[38;5;28;43;01mFalse\u001B[39;49;00m\u001B[43m)\u001B[49m\n\u001B[1;32m   1092\u001B[0m \u001B[38;5;28;01melse\u001B[39;00m:\n\u001B[1;32m   1093\u001B[0m   \u001B[38;5;66;03m# In legacy graph mode, tensor equality is object equality\u001B[39;00m\n\u001B[1;32m   1094\u001B[0m   \u001B[38;5;28;01mreturn\u001B[39;00m \u001B[38;5;28mself\u001B[39m \u001B[38;5;129;01mis\u001B[39;00m other\n",
      "File \u001B[0;32m~/.local/share/virtualenvs/Cosy-QaLDgKkW/lib/python3.9/site-packages/tensorflow/python/ops/gen_math_ops.py:3310\u001B[0m, in \u001B[0;36mequal\u001B[0;34m(x, y, incompatible_shape_error, name)\u001B[0m\n\u001B[1;32m   3308\u001B[0m   \u001B[38;5;28;01mpass\u001B[39;00m\n\u001B[1;32m   3309\u001B[0m \u001B[38;5;28;01mtry\u001B[39;00m:\n\u001B[0;32m-> 3310\u001B[0m   \u001B[38;5;28;01mreturn\u001B[39;00m \u001B[43mequal_eager_fallback\u001B[49m\u001B[43m(\u001B[49m\n\u001B[1;32m   3311\u001B[0m \u001B[43m      \u001B[49m\u001B[43mx\u001B[49m\u001B[43m,\u001B[49m\u001B[43m \u001B[49m\u001B[43my\u001B[49m\u001B[43m,\u001B[49m\u001B[43m \u001B[49m\u001B[43mincompatible_shape_error\u001B[49m\u001B[38;5;241;43m=\u001B[39;49m\u001B[43mincompatible_shape_error\u001B[49m\u001B[43m,\u001B[49m\u001B[43m \u001B[49m\u001B[43mname\u001B[49m\u001B[38;5;241;43m=\u001B[39;49m\u001B[43mname\u001B[49m\u001B[43m,\u001B[49m\n\u001B[1;32m   3312\u001B[0m \u001B[43m      \u001B[49m\u001B[43mctx\u001B[49m\u001B[38;5;241;43m=\u001B[39;49m\u001B[43m_ctx\u001B[49m\u001B[43m)\u001B[49m\n\u001B[1;32m   3313\u001B[0m \u001B[38;5;28;01mexcept\u001B[39;00m _core\u001B[38;5;241m.\u001B[39m_SymbolicException:\n\u001B[1;32m   3314\u001B[0m   \u001B[38;5;28;01mpass\u001B[39;00m  \u001B[38;5;66;03m# Add nodes to the TensorFlow graph.\u001B[39;00m\n",
      "File \u001B[0;32m~/.local/share/virtualenvs/Cosy-QaLDgKkW/lib/python3.9/site-packages/tensorflow/python/ops/gen_math_ops.py:3339\u001B[0m, in \u001B[0;36mequal_eager_fallback\u001B[0;34m(x, y, incompatible_shape_error, name, ctx)\u001B[0m\n\u001B[1;32m   3337\u001B[0m   incompatible_shape_error \u001B[38;5;241m=\u001B[39m \u001B[38;5;28;01mTrue\u001B[39;00m\n\u001B[1;32m   3338\u001B[0m incompatible_shape_error \u001B[38;5;241m=\u001B[39m _execute\u001B[38;5;241m.\u001B[39mmake_bool(incompatible_shape_error, \u001B[38;5;124m\"\u001B[39m\u001B[38;5;124mincompatible_shape_error\u001B[39m\u001B[38;5;124m\"\u001B[39m)\n\u001B[0;32m-> 3339\u001B[0m _attr_T, _inputs_T \u001B[38;5;241m=\u001B[39m \u001B[43m_execute\u001B[49m\u001B[38;5;241;43m.\u001B[39;49m\u001B[43margs_to_matching_eager\u001B[49m\u001B[43m(\u001B[49m\u001B[43m[\u001B[49m\u001B[43mx\u001B[49m\u001B[43m,\u001B[49m\u001B[43m \u001B[49m\u001B[43my\u001B[49m\u001B[43m]\u001B[49m\u001B[43m,\u001B[49m\u001B[43m \u001B[49m\u001B[43mctx\u001B[49m\u001B[43m,\u001B[49m\u001B[43m \u001B[49m\u001B[43m[\u001B[49m\u001B[43m]\u001B[49m\u001B[43m)\u001B[49m\n\u001B[1;32m   3340\u001B[0m (x, y) \u001B[38;5;241m=\u001B[39m _inputs_T\n\u001B[1;32m   3341\u001B[0m _inputs_flat \u001B[38;5;241m=\u001B[39m [x, y]\n",
      "File \u001B[0;32m~/.local/share/virtualenvs/Cosy-QaLDgKkW/lib/python3.9/site-packages/tensorflow/python/eager/execute.py:264\u001B[0m, in \u001B[0;36margs_to_matching_eager\u001B[0;34m(l, ctx, allowed_dtypes, default_dtype)\u001B[0m\n\u001B[1;32m    261\u001B[0m     tensor \u001B[38;5;241m=\u001B[39m \u001B[38;5;28;01mNone\u001B[39;00m\n\u001B[1;32m    263\u001B[0m \u001B[38;5;28;01mif\u001B[39;00m tensor \u001B[38;5;129;01mis\u001B[39;00m \u001B[38;5;28;01mNone\u001B[39;00m:\n\u001B[0;32m--> 264\u001B[0m   tensor \u001B[38;5;241m=\u001B[39m \u001B[43mops\u001B[49m\u001B[38;5;241;43m.\u001B[39;49m\u001B[43mconvert_to_tensor\u001B[49m\u001B[43m(\u001B[49m\n\u001B[1;32m    265\u001B[0m \u001B[43m      \u001B[49m\u001B[43mt\u001B[49m\u001B[43m,\u001B[49m\u001B[43m \u001B[49m\u001B[43mdtype\u001B[49m\u001B[43m,\u001B[49m\u001B[43m \u001B[49m\u001B[43mpreferred_dtype\u001B[49m\u001B[38;5;241;43m=\u001B[39;49m\u001B[43mdefault_dtype\u001B[49m\u001B[43m,\u001B[49m\u001B[43m \u001B[49m\u001B[43mctx\u001B[49m\u001B[38;5;241;43m=\u001B[39;49m\u001B[43mctx\u001B[49m\u001B[43m)\u001B[49m\n\u001B[1;32m    267\u001B[0m ret\u001B[38;5;241m.\u001B[39mappend(tensor)\n\u001B[1;32m    268\u001B[0m \u001B[38;5;28;01mif\u001B[39;00m dtype \u001B[38;5;129;01mis\u001B[39;00m \u001B[38;5;28;01mNone\u001B[39;00m:\n",
      "File \u001B[0;32m~/.local/share/virtualenvs/Cosy-QaLDgKkW/lib/python3.9/site-packages/tensorflow/python/profiler/trace.py:183\u001B[0m, in \u001B[0;36mtrace_wrapper.<locals>.inner_wrapper.<locals>.wrapped\u001B[0;34m(*args, **kwargs)\u001B[0m\n\u001B[1;32m    181\u001B[0m   \u001B[38;5;28;01mwith\u001B[39;00m Trace(trace_name, \u001B[38;5;241m*\u001B[39m\u001B[38;5;241m*\u001B[39mtrace_kwargs):\n\u001B[1;32m    182\u001B[0m     \u001B[38;5;28;01mreturn\u001B[39;00m func(\u001B[38;5;241m*\u001B[39margs, \u001B[38;5;241m*\u001B[39m\u001B[38;5;241m*\u001B[39mkwargs)\n\u001B[0;32m--> 183\u001B[0m \u001B[38;5;28;01mreturn\u001B[39;00m \u001B[43mfunc\u001B[49m\u001B[43m(\u001B[49m\u001B[38;5;241;43m*\u001B[39;49m\u001B[43margs\u001B[49m\u001B[43m,\u001B[49m\u001B[43m \u001B[49m\u001B[38;5;241;43m*\u001B[39;49m\u001B[38;5;241;43m*\u001B[39;49m\u001B[43mkwargs\u001B[49m\u001B[43m)\u001B[49m\n",
      "File \u001B[0;32m~/.local/share/virtualenvs/Cosy-QaLDgKkW/lib/python3.9/site-packages/tensorflow/python/framework/ops.py:1640\u001B[0m, in \u001B[0;36mconvert_to_tensor\u001B[0;34m(value, dtype, name, as_ref, preferred_dtype, dtype_hint, ctx, accepted_result_types)\u001B[0m\n\u001B[1;32m   1631\u001B[0m       \u001B[38;5;28;01mraise\u001B[39;00m \u001B[38;5;167;01mRuntimeError\u001B[39;00m(\n\u001B[1;32m   1632\u001B[0m           _add_error_prefix(\n\u001B[1;32m   1633\u001B[0m               \u001B[38;5;124mf\u001B[39m\u001B[38;5;124m\"\u001B[39m\u001B[38;5;124mConversion function \u001B[39m\u001B[38;5;132;01m{\u001B[39;00mconversion_func\u001B[38;5;132;01m!r}\u001B[39;00m\u001B[38;5;124m for type \u001B[39m\u001B[38;5;124m\"\u001B[39m\n\u001B[0;32m   (...)\u001B[0m\n\u001B[1;32m   1636\u001B[0m               \u001B[38;5;124mf\u001B[39m\u001B[38;5;124m\"\u001B[39m\u001B[38;5;124mactual = \u001B[39m\u001B[38;5;132;01m{\u001B[39;00mret\u001B[38;5;241m.\u001B[39mdtype\u001B[38;5;241m.\u001B[39mbase_dtype\u001B[38;5;241m.\u001B[39mname\u001B[38;5;132;01m}\u001B[39;00m\u001B[38;5;124m\"\u001B[39m,\n\u001B[1;32m   1637\u001B[0m               name\u001B[38;5;241m=\u001B[39mname))\n\u001B[1;32m   1639\u001B[0m \u001B[38;5;28;01mif\u001B[39;00m ret \u001B[38;5;129;01mis\u001B[39;00m \u001B[38;5;28;01mNone\u001B[39;00m:\n\u001B[0;32m-> 1640\u001B[0m   ret \u001B[38;5;241m=\u001B[39m \u001B[43mconversion_func\u001B[49m\u001B[43m(\u001B[49m\u001B[43mvalue\u001B[49m\u001B[43m,\u001B[49m\u001B[43m \u001B[49m\u001B[43mdtype\u001B[49m\u001B[38;5;241;43m=\u001B[39;49m\u001B[43mdtype\u001B[49m\u001B[43m,\u001B[49m\u001B[43m \u001B[49m\u001B[43mname\u001B[49m\u001B[38;5;241;43m=\u001B[39;49m\u001B[43mname\u001B[49m\u001B[43m,\u001B[49m\u001B[43m \u001B[49m\u001B[43mas_ref\u001B[49m\u001B[38;5;241;43m=\u001B[39;49m\u001B[43mas_ref\u001B[49m\u001B[43m)\u001B[49m\n\u001B[1;32m   1642\u001B[0m \u001B[38;5;28;01mif\u001B[39;00m ret \u001B[38;5;129;01mis\u001B[39;00m \u001B[38;5;28mNotImplemented\u001B[39m:\n\u001B[1;32m   1643\u001B[0m   \u001B[38;5;28;01mcontinue\u001B[39;00m\n",
      "File \u001B[0;32m~/.local/share/virtualenvs/Cosy-QaLDgKkW/lib/python3.9/site-packages/tensorflow/python/framework/constant_op.py:343\u001B[0m, in \u001B[0;36m_constant_tensor_conversion_function\u001B[0;34m(v, dtype, name, as_ref)\u001B[0m\n\u001B[1;32m    340\u001B[0m \u001B[38;5;28;01mdef\u001B[39;00m \u001B[38;5;21m_constant_tensor_conversion_function\u001B[39m(v, dtype\u001B[38;5;241m=\u001B[39m\u001B[38;5;28;01mNone\u001B[39;00m, name\u001B[38;5;241m=\u001B[39m\u001B[38;5;28;01mNone\u001B[39;00m,\n\u001B[1;32m    341\u001B[0m                                          as_ref\u001B[38;5;241m=\u001B[39m\u001B[38;5;28;01mFalse\u001B[39;00m):\n\u001B[1;32m    342\u001B[0m   _ \u001B[38;5;241m=\u001B[39m as_ref\n\u001B[0;32m--> 343\u001B[0m   \u001B[38;5;28;01mreturn\u001B[39;00m \u001B[43mconstant\u001B[49m\u001B[43m(\u001B[49m\u001B[43mv\u001B[49m\u001B[43m,\u001B[49m\u001B[43m \u001B[49m\u001B[43mdtype\u001B[49m\u001B[38;5;241;43m=\u001B[39;49m\u001B[43mdtype\u001B[49m\u001B[43m,\u001B[49m\u001B[43m \u001B[49m\u001B[43mname\u001B[49m\u001B[38;5;241;43m=\u001B[39;49m\u001B[43mname\u001B[49m\u001B[43m)\u001B[49m\n",
      "File \u001B[0;32m~/.local/share/virtualenvs/Cosy-QaLDgKkW/lib/python3.9/site-packages/tensorflow/python/framework/constant_op.py:267\u001B[0m, in \u001B[0;36mconstant\u001B[0;34m(value, dtype, shape, name)\u001B[0m\n\u001B[1;32m    170\u001B[0m \u001B[38;5;129m@tf_export\u001B[39m(\u001B[38;5;124m\"\u001B[39m\u001B[38;5;124mconstant\u001B[39m\u001B[38;5;124m\"\u001B[39m, v1\u001B[38;5;241m=\u001B[39m[])\n\u001B[1;32m    171\u001B[0m \u001B[38;5;28;01mdef\u001B[39;00m \u001B[38;5;21mconstant\u001B[39m(value, dtype\u001B[38;5;241m=\u001B[39m\u001B[38;5;28;01mNone\u001B[39;00m, shape\u001B[38;5;241m=\u001B[39m\u001B[38;5;28;01mNone\u001B[39;00m, name\u001B[38;5;241m=\u001B[39m\u001B[38;5;124m\"\u001B[39m\u001B[38;5;124mConst\u001B[39m\u001B[38;5;124m\"\u001B[39m):\n\u001B[1;32m    172\u001B[0m \u001B[38;5;250m  \u001B[39m\u001B[38;5;124;03m\"\"\"Creates a constant tensor from a tensor-like object.\u001B[39;00m\n\u001B[1;32m    173\u001B[0m \n\u001B[1;32m    174\u001B[0m \u001B[38;5;124;03m  Note: All eager `tf.Tensor` values are immutable (in contrast to\u001B[39;00m\n\u001B[0;32m   (...)\u001B[0m\n\u001B[1;32m    265\u001B[0m \u001B[38;5;124;03m    ValueError: if called on a symbolic tensor.\u001B[39;00m\n\u001B[1;32m    266\u001B[0m \u001B[38;5;124;03m  \"\"\"\u001B[39;00m\n\u001B[0;32m--> 267\u001B[0m   \u001B[38;5;28;01mreturn\u001B[39;00m \u001B[43m_constant_impl\u001B[49m\u001B[43m(\u001B[49m\u001B[43mvalue\u001B[49m\u001B[43m,\u001B[49m\u001B[43m \u001B[49m\u001B[43mdtype\u001B[49m\u001B[43m,\u001B[49m\u001B[43m \u001B[49m\u001B[43mshape\u001B[49m\u001B[43m,\u001B[49m\u001B[43m \u001B[49m\u001B[43mname\u001B[49m\u001B[43m,\u001B[49m\u001B[43m \u001B[49m\u001B[43mverify_shape\u001B[49m\u001B[38;5;241;43m=\u001B[39;49m\u001B[38;5;28;43;01mFalse\u001B[39;49;00m\u001B[43m,\u001B[49m\n\u001B[1;32m    268\u001B[0m \u001B[43m                        \u001B[49m\u001B[43mallow_broadcast\u001B[49m\u001B[38;5;241;43m=\u001B[39;49m\u001B[38;5;28;43;01mTrue\u001B[39;49;00m\u001B[43m)\u001B[49m\n",
      "File \u001B[0;32m~/.local/share/virtualenvs/Cosy-QaLDgKkW/lib/python3.9/site-packages/tensorflow/python/framework/constant_op.py:279\u001B[0m, in \u001B[0;36m_constant_impl\u001B[0;34m(value, dtype, shape, name, verify_shape, allow_broadcast)\u001B[0m\n\u001B[1;32m    277\u001B[0m     \u001B[38;5;28;01mwith\u001B[39;00m trace\u001B[38;5;241m.\u001B[39mTrace(\u001B[38;5;124m\"\u001B[39m\u001B[38;5;124mtf.constant\u001B[39m\u001B[38;5;124m\"\u001B[39m):\n\u001B[1;32m    278\u001B[0m       \u001B[38;5;28;01mreturn\u001B[39;00m _constant_eager_impl(ctx, value, dtype, shape, verify_shape)\n\u001B[0;32m--> 279\u001B[0m   \u001B[38;5;28;01mreturn\u001B[39;00m \u001B[43m_constant_eager_impl\u001B[49m\u001B[43m(\u001B[49m\u001B[43mctx\u001B[49m\u001B[43m,\u001B[49m\u001B[43m \u001B[49m\u001B[43mvalue\u001B[49m\u001B[43m,\u001B[49m\u001B[43m \u001B[49m\u001B[43mdtype\u001B[49m\u001B[43m,\u001B[49m\u001B[43m \u001B[49m\u001B[43mshape\u001B[49m\u001B[43m,\u001B[49m\u001B[43m \u001B[49m\u001B[43mverify_shape\u001B[49m\u001B[43m)\u001B[49m\n\u001B[1;32m    281\u001B[0m g \u001B[38;5;241m=\u001B[39m ops\u001B[38;5;241m.\u001B[39mget_default_graph()\n\u001B[1;32m    282\u001B[0m tensor_value \u001B[38;5;241m=\u001B[39m attr_value_pb2\u001B[38;5;241m.\u001B[39mAttrValue()\n",
      "File \u001B[0;32m~/.local/share/virtualenvs/Cosy-QaLDgKkW/lib/python3.9/site-packages/tensorflow/python/framework/constant_op.py:304\u001B[0m, in \u001B[0;36m_constant_eager_impl\u001B[0;34m(ctx, value, dtype, shape, verify_shape)\u001B[0m\n\u001B[1;32m    302\u001B[0m \u001B[38;5;28;01mdef\u001B[39;00m \u001B[38;5;21m_constant_eager_impl\u001B[39m(ctx, value, dtype, shape, verify_shape):\n\u001B[1;32m    303\u001B[0m \u001B[38;5;250m  \u001B[39m\u001B[38;5;124;03m\"\"\"Creates a constant on the current device.\"\"\"\u001B[39;00m\n\u001B[0;32m--> 304\u001B[0m   t \u001B[38;5;241m=\u001B[39m \u001B[43mconvert_to_eager_tensor\u001B[49m\u001B[43m(\u001B[49m\u001B[43mvalue\u001B[49m\u001B[43m,\u001B[49m\u001B[43m \u001B[49m\u001B[43mctx\u001B[49m\u001B[43m,\u001B[49m\u001B[43m \u001B[49m\u001B[43mdtype\u001B[49m\u001B[43m)\u001B[49m\n\u001B[1;32m    305\u001B[0m   \u001B[38;5;28;01mif\u001B[39;00m shape \u001B[38;5;129;01mis\u001B[39;00m \u001B[38;5;28;01mNone\u001B[39;00m:\n\u001B[1;32m    306\u001B[0m     \u001B[38;5;28;01mreturn\u001B[39;00m t\n",
      "File \u001B[0;32m~/.local/share/virtualenvs/Cosy-QaLDgKkW/lib/python3.9/site-packages/tensorflow/python/framework/constant_op.py:102\u001B[0m, in \u001B[0;36mconvert_to_eager_tensor\u001B[0;34m(value, ctx, dtype)\u001B[0m\n\u001B[1;32m    100\u001B[0m     dtype \u001B[38;5;241m=\u001B[39m dtypes\u001B[38;5;241m.\u001B[39mas_dtype(dtype)\u001B[38;5;241m.\u001B[39mas_datatype_enum\n\u001B[1;32m    101\u001B[0m ctx\u001B[38;5;241m.\u001B[39mensure_initialized()\n\u001B[0;32m--> 102\u001B[0m \u001B[38;5;28;01mreturn\u001B[39;00m \u001B[43mops\u001B[49m\u001B[38;5;241;43m.\u001B[39;49m\u001B[43mEagerTensor\u001B[49m\u001B[43m(\u001B[49m\u001B[43mvalue\u001B[49m\u001B[43m,\u001B[49m\u001B[43m \u001B[49m\u001B[43mctx\u001B[49m\u001B[38;5;241;43m.\u001B[39;49m\u001B[43mdevice_name\u001B[49m\u001B[43m,\u001B[49m\u001B[43m \u001B[49m\u001B[43mdtype\u001B[49m\u001B[43m)\u001B[49m\n",
      "\u001B[0;31mTypeError\u001B[0m: Cannot convert 'kernel' to EagerTensor of dtype float"
     ]
    }
   ],
   "source": [
    "all_weights = [\n",
    "            layer\n",
    "            for layer in cosy_model.get_models()[0].layers\n",
    "            # if \"kernel\" in layer.weights\n",
    "        ]"
   ],
   "metadata": {
    "collapsed": false,
    "pycharm": {
     "name": "#%%\n"
    }
   }
  },
  {
   "cell_type": "code",
   "execution_count": 25,
   "outputs": [
    {
     "name": "stdout",
     "output_type": "stream",
     "text": [
      "[]\n",
      "[<tf.Variable 'dense/kernel:0' shape=(345, 1200) dtype=float32, numpy=\n",
      "array([[-0.01514168,  0.04906128,  0.01946328, ..., -0.02703662,\n",
      "         0.05521812, -0.0523131 ],\n",
      "       [-0.0532867 , -0.04593742,  0.0477429 , ...,  0.01824075,\n",
      "         0.05604015,  0.04978141],\n",
      "       [ 0.00157958,  0.04079344, -0.02539153, ...,  0.05700975,\n",
      "        -0.04277142, -0.03173221],\n",
      "       ...,\n",
      "       [ 0.03064074, -0.01263676, -0.01946   , ..., -0.042841  ,\n",
      "        -0.00439206,  0.03778353],\n",
      "       [-0.01934196, -0.01862761,  0.01766437, ..., -0.04586348,\n",
      "         0.02547225,  0.02775244],\n",
      "       [ 0.02913373, -0.03622467, -0.01667222, ...,  0.03764926,\n",
      "         0.02948315, -0.06398466]], dtype=float32)>, <tf.Variable 'dense/bias:0' shape=(1200,) dtype=float32, numpy=\n",
      "array([ 0.01152364, -0.00109134,  0.02565357, ..., -0.00709428,\n",
      "       -0.0101028 , -0.01753984], dtype=float32)>]\n",
      "[]\n",
      "[<tf.Variable 'dense_1/kernel:0' shape=(1200, 400) dtype=float32, numpy=\n",
      "array([[-0.03462267,  0.05343335,  0.03014721, ...,  0.06565823,\n",
      "        -0.01760328, -0.05919046],\n",
      "       [ 0.0211397 ,  0.04045515,  0.05915708, ...,  0.06925385,\n",
      "         0.02277987,  0.06244554],\n",
      "       [-0.04753574,  0.06921035,  0.05000529, ..., -0.04772094,\n",
      "         0.07578383, -0.06084146],\n",
      "       ...,\n",
      "       [-0.02931945, -0.01475697,  0.01463737, ..., -0.0813999 ,\n",
      "         0.03774987,  0.05959634],\n",
      "       [ 0.08456778, -0.01178546,  0.02480553, ...,  0.01382569,\n",
      "         0.07983927, -0.05428344],\n",
      "       [-0.04607709,  0.06814488,  0.06070862, ...,  0.04424335,\n",
      "         0.00498066,  0.03396383]], dtype=float32)>, <tf.Variable 'dense_1/bias:0' shape=(400,) dtype=float32, numpy=\n",
      "array([-5.19135734e-03, -1.10815167e-02, -1.04830712e-02, -9.25900694e-03,\n",
      "       -6.64037373e-03, -1.57202948e-02, -1.57285426e-02, -2.66337544e-02,\n",
      "       -1.42627414e-02,  7.76865333e-03, -7.48533057e-03, -2.02172808e-02,\n",
      "       -2.24150438e-03, -7.21362978e-03,  1.23424793e-03, -2.07514148e-02,\n",
      "       -1.17997462e-02, -9.41926893e-03, -7.91301392e-03, -8.49420205e-03,\n",
      "       -6.70523522e-03, -1.31231714e-02, -2.22928682e-03, -6.25246344e-03,\n",
      "       -7.67026097e-03,  2.50665820e-03, -1.73941087e-02, -1.32314321e-02,\n",
      "       -1.13594765e-02, -1.02691269e-02, -1.19963186e-02, -8.84857494e-03,\n",
      "        2.58396473e-03, -8.34706426e-03, -1.45591665e-02,  5.27325086e-03,\n",
      "       -1.63769070e-02, -6.73915958e-03,  1.09352497e-03, -4.99432627e-03,\n",
      "       -9.25756376e-06, -9.92262736e-03, -1.06339119e-02,  2.25213845e-03,\n",
      "        7.56384805e-03, -1.68323554e-02, -6.70698099e-03,  1.25752471e-03,\n",
      "       -4.63943742e-03, -8.80507194e-03, -1.23463534e-02, -6.81569381e-03,\n",
      "       -8.40321649e-03, -6.32386655e-03, -9.91612114e-03, -9.44287796e-03,\n",
      "       -1.01384800e-02, -9.82306805e-03, -7.83784129e-03, -2.61927256e-03,\n",
      "        2.35218666e-02, -1.38656292e-02, -1.13681816e-02, -4.31423541e-03,\n",
      "       -6.97543984e-03, -4.10469621e-03, -1.36280786e-02, -1.64438915e-02,\n",
      "        1.71920168e-04,  7.38962740e-03, -1.34706520e-03, -1.53547497e-02,\n",
      "       -1.28623424e-03, -1.88580398e-02, -4.77180537e-03, -2.49894392e-02,\n",
      "        8.71604215e-03,  4.64410242e-03, -1.52402930e-02,  1.14404364e-02,\n",
      "       -1.60733927e-02, -1.76546129e-03,  3.91491585e-06, -5.86335920e-03,\n",
      "       -2.09027529e-02, -2.85796802e-02, -7.82027747e-03, -1.85218900e-02,\n",
      "       -1.05508687e-02, -1.83406882e-02, -1.68498512e-02, -8.07973556e-03,\n",
      "        9.22746584e-03, -1.55683020e-02, -1.92060955e-02, -5.89551218e-03,\n",
      "        3.13920114e-04, -2.03665048e-02, -1.46930187e-03,  1.87487155e-02,\n",
      "       -4.80788061e-03, -5.02893282e-03, -1.82346012e-02, -1.21622179e-02,\n",
      "       -1.02843475e-02,  1.71898410e-03, -1.27772167e-02,  2.73540244e-03,\n",
      "       -1.42399017e-02, -8.09522066e-03, -1.44643001e-02,  1.12610431e-02,\n",
      "        1.59462709e-02, -8.31087958e-03,  4.07069456e-03, -1.17040798e-02,\n",
      "       -1.41998753e-03, -8.08221940e-03, -9.88294836e-03, -8.61008372e-03,\n",
      "       -1.70698538e-02, -6.64350251e-03, -1.83619969e-02, -2.28948146e-03,\n",
      "       -2.72952449e-02, -1.62083991e-02, -1.10973576e-02, -2.58048717e-02,\n",
      "       -1.29020158e-02, -6.01410493e-03,  6.63224561e-03, -1.41078758e-03,\n",
      "       -1.22274449e-02, -1.09485944e-03, -1.73331965e-02, -4.98349220e-03,\n",
      "       -1.43796187e-02, -6.23857975e-03, -5.66115836e-04, -8.81461333e-03,\n",
      "       -1.33059165e-02, -4.38386854e-03,  8.35832034e-04,  1.82395207e-03,\n",
      "        2.55557173e-03,  7.68401055e-03, -1.07729845e-02, -3.54291149e-03,\n",
      "        4.03225888e-03, -1.63081810e-02,  1.74856950e-02, -8.30296800e-03,\n",
      "       -1.84511803e-02, -1.46991815e-02, -1.43540762e-02,  5.47046354e-03,\n",
      "       -9.40694474e-03, -1.81389730e-02,  3.51056387e-03,  3.82252270e-03,\n",
      "        1.36530015e-03,  4.35192836e-03, -1.38103031e-02, -1.02018276e-02,\n",
      "       -2.07115375e-02, -1.12777883e-02, -1.02796610e-02, -1.22868083e-02,\n",
      "        1.02458689e-02, -1.59588866e-02, -6.33329386e-03,  5.59765496e-04,\n",
      "        9.51826863e-04, -8.91885161e-03, -2.41235700e-02,  9.14593786e-03,\n",
      "       -4.87874169e-03, -1.17711704e-02, -1.12609158e-03, -2.59535294e-03,\n",
      "       -1.06990710e-02, -6.63966732e-03, -6.62252726e-03, -1.19294017e-03,\n",
      "        4.37043281e-03, -5.52206812e-03, -1.52927134e-02,  5.47385891e-04,\n",
      "       -1.26814088e-02, -6.78607030e-03, -9.56624839e-03,  3.84370284e-03,\n",
      "       -7.84644764e-03, -1.16408188e-02, -7.38602644e-03,  3.89560102e-03,\n",
      "       -1.66264083e-02, -1.59176346e-02,  6.17181230e-03,  1.59185461e-03,\n",
      "       -2.03713942e-02, -1.19362539e-02, -2.48300023e-02, -1.33351944e-02,\n",
      "        7.42047001e-03, -3.75524885e-03, -8.85634311e-03, -6.65453915e-03,\n",
      "        3.34717496e-03, -1.04107801e-02, -3.06854071e-03, -1.68177765e-02,\n",
      "       -1.21368477e-02, -5.15856640e-03, -9.67350882e-03,  1.76494149e-03,\n",
      "       -1.61127206e-02, -1.95154008e-02, -1.91389415e-02, -7.55031500e-03,\n",
      "       -4.72944090e-03, -1.19136907e-02, -1.15312506e-02, -9.49561037e-03,\n",
      "       -5.10600349e-03, -1.15077076e-02, -9.36353952e-03, -1.55438613e-02,\n",
      "       -1.51275666e-02, -2.10251436e-02, -1.57694779e-02, -9.56356619e-03,\n",
      "       -1.29279569e-02, -5.66053856e-03, -1.53758493e-03, -9.80423111e-03,\n",
      "       -1.27784368e-02, -2.42812354e-02,  1.46441197e-03, -1.78487673e-02,\n",
      "       -1.32131521e-02, -1.40565308e-02, -6.25751307e-03, -3.92034603e-03,\n",
      "       -1.67458245e-04, -4.20043711e-03, -9.53327119e-03, -9.67988092e-03,\n",
      "       -6.62311120e-03, -2.03669369e-02, -1.79362092e-02, -9.07350425e-03,\n",
      "       -2.50397343e-02, -1.73415132e-02, -9.53532103e-03, -1.95948146e-02,\n",
      "       -1.71830021e-02, -6.03679428e-03, -1.52961742e-02, -6.94708014e-03,\n",
      "       -1.24343047e-02, -3.43998335e-03,  9.61712655e-03,  3.65938456e-03,\n",
      "       -3.56548326e-03, -1.13092819e-02, -1.87556483e-02,  8.61682277e-03,\n",
      "       -1.20604681e-02, -4.77518514e-03,  1.84558425e-03, -1.41366096e-02,\n",
      "        4.55429917e-03, -8.20765737e-03, -1.18901785e-02, -1.21924225e-02,\n",
      "       -1.20719457e-02, -2.37291716e-02, -2.26718616e-02, -1.35297831e-02,\n",
      "       -7.94619974e-03, -1.10637909e-02, -5.94880339e-03, -1.20778196e-02,\n",
      "       -7.95237254e-03, -1.24933347e-02, -1.00501953e-02, -1.86350998e-02,\n",
      "       -3.51812737e-03, -1.95689555e-02, -1.07643353e-02,  5.17973385e-04,\n",
      "        6.07741531e-03,  6.58614561e-04, -8.52212217e-03, -1.36371246e-02,\n",
      "       -1.17646819e-02, -2.79097655e-03, -1.11763347e-02, -1.60711296e-02,\n",
      "        6.77069463e-03, -2.57219132e-02, -1.71499681e-02, -6.97962288e-03,\n",
      "       -4.74501774e-03, -7.58390222e-03,  3.38541053e-04, -7.12306798e-03,\n",
      "       -1.73664428e-02,  7.36567099e-03,  2.14607585e-02,  4.12236946e-03,\n",
      "       -5.43212658e-03, -9.61543806e-03, -5.13655227e-03, -1.26712667e-02,\n",
      "       -2.83399277e-04, -7.19679578e-04, -5.86001109e-03, -1.27970967e-02,\n",
      "        3.69182299e-03, -2.23544845e-03, -1.20071564e-02, -1.62664484e-02,\n",
      "       -1.95847894e-03, -1.66105330e-02, -2.18068566e-02,  8.02101276e-04,\n",
      "       -6.98317913e-03,  1.17185889e-02, -1.00738639e-02, -3.83287226e-03,\n",
      "       -1.05807735e-02, -8.21259432e-03, -7.40342960e-03, -5.49456710e-03,\n",
      "       -5.85594587e-03, -4.43817489e-03, -5.55219082e-03, -1.42954849e-02,\n",
      "       -6.01525512e-03, -1.53731694e-02,  1.37062673e-03, -6.55839313e-03,\n",
      "       -5.25115849e-03, -5.53598953e-03, -1.48647195e-02, -1.21334679e-02,\n",
      "       -4.39491449e-03, -9.16426815e-03, -2.36300589e-03, -1.19331563e-02,\n",
      "       -1.24051757e-02,  1.51725924e-02, -1.60424355e-02, -4.04353580e-03,\n",
      "        9.84133687e-03, -2.81746004e-04, -1.50991036e-02, -1.42688211e-02,\n",
      "       -1.49794323e-02, -9.74754058e-03, -9.33557190e-03, -8.78489669e-03,\n",
      "       -1.68945435e-02, -1.08115114e-02, -2.89889611e-03, -7.67006679e-03,\n",
      "        8.92916135e-03, -1.36528024e-02, -1.13061881e-02, -4.38225316e-03,\n",
      "       -6.12257794e-03,  1.42042432e-03, -9.63992532e-03,  5.75751951e-03,\n",
      "       -8.70596990e-03, -6.98589161e-03, -1.86177215e-03, -5.83564024e-03,\n",
      "       -1.21163158e-02,  6.70167431e-03, -1.02022216e-02, -2.15876810e-02,\n",
      "       -1.73964612e-02, -6.90374244e-03, -8.09275825e-03, -1.53355934e-02,\n",
      "       -1.45228272e-02, -3.01848329e-03, -1.17073476e-03, -1.76648032e-02,\n",
      "       -1.67081431e-02, -6.11640885e-03, -1.36147542e-02,  1.86695950e-03,\n",
      "       -5.43940766e-03, -2.16647564e-03, -1.90149155e-02, -1.58883967e-02],\n",
      "      dtype=float32)>]\n",
      "[]\n",
      "[<tf.Variable 'dense_2/kernel:0' shape=(400, 500) dtype=float32, numpy=\n",
      "array([[-0.04368866,  0.07708768,  0.05112243, ..., -0.03814425,\n",
      "         0.1005305 , -0.00064434],\n",
      "       [ 0.09471839,  0.06231194,  0.05579372, ..., -0.10433528,\n",
      "        -0.07499484,  0.10428665],\n",
      "       [ 0.06594805, -0.01589178,  0.02695593, ...,  0.04543252,\n",
      "         0.09802835,  0.05343907],\n",
      "       ...,\n",
      "       [ 0.03083459, -0.01609666, -0.09772508, ...,  0.05472056,\n",
      "         0.08647519, -0.04253361],\n",
      "       [ 0.02072253, -0.02606608,  0.06299761, ..., -0.00997002,\n",
      "        -0.01778999,  0.07721384],\n",
      "       [ 0.02511757, -0.09826779,  0.0020565 , ...,  0.07965951,\n",
      "        -0.04930398,  0.05917507]], dtype=float32)>, <tf.Variable 'dense_2/bias:0' shape=(500,) dtype=float32, numpy=\n",
      "array([-1.15141477e-02, -1.38818624e-03, -9.16567724e-03, -1.46739883e-02,\n",
      "       -7.97644374e-04, -5.81988040e-03, -4.60860878e-03, -2.25388724e-02,\n",
      "        4.92176786e-03, -5.08451229e-03,  4.28380910e-03,  6.79398561e-03,\n",
      "       -2.65891338e-03,  9.11766384e-03,  7.57992500e-03, -2.20043920e-02,\n",
      "       -6.05693413e-03, -6.84080459e-03, -8.91787745e-03, -1.31479716e-02,\n",
      "        7.76687032e-03, -7.08021317e-03, -5.57508494e-04,  7.57816574e-03,\n",
      "       -3.57152545e-03, -1.41268168e-02,  6.44333195e-03,  1.40653178e-03,\n",
      "       -1.19180586e-02, -4.85322904e-03, -2.32648384e-03, -3.47297429e-03,\n",
      "       -2.23024818e-03, -9.29627474e-03, -1.19200302e-03, -8.55663139e-03,\n",
      "       -7.18274061e-03,  5.96922962e-03, -1.72215272e-02, -8.36134329e-03,\n",
      "       -7.40824221e-03, -2.07547704e-03, -1.06253596e-02, -3.26059051e-02,\n",
      "       -1.27103701e-02,  6.00664737e-03,  2.94238725e-03, -1.41606135e-02,\n",
      "        1.57741141e-02, -1.19730094e-02, -5.74142020e-03, -6.43998198e-03,\n",
      "        6.22978294e-03, -3.10925976e-03, -9.27004730e-04, -1.29973674e-02,\n",
      "       -5.97381499e-03, -7.41178915e-03, -1.12741981e-02, -2.03070487e-03,\n",
      "        6.63013151e-03, -1.02090305e-02, -9.64700524e-03, -1.25488034e-02,\n",
      "       -6.42672600e-03, -4.75470442e-03, -1.37173403e-02,  4.73222462e-03,\n",
      "       -4.36015753e-03, -5.10038901e-03, -1.69859361e-02, -6.92778267e-03,\n",
      "       -2.70675332e-03, -3.86600080e-03,  3.76419746e-03, -1.64839951e-03,\n",
      "        5.80974482e-03, -9.57040582e-03, -9.13611986e-03, -1.21945972e-02,\n",
      "       -1.10097919e-02, -5.80113893e-03, -6.40550908e-03, -1.23383813e-02,\n",
      "       -1.19760372e-02,  3.84223717e-03, -5.39716799e-03, -6.64477469e-03,\n",
      "       -1.15562393e-03,  4.09507251e-04,  5.57497097e-03, -1.14040924e-02,\n",
      "       -1.02219535e-02, -5.99130290e-03, -8.55555478e-03, -1.57739036e-02,\n",
      "        1.57348390e-04, -5.36497589e-03, -1.29741542e-02,  9.51144961e-04,\n",
      "        1.23331940e-03, -5.24663832e-03, -5.41058555e-03, -1.29714534e-02,\n",
      "        1.66231170e-02, -1.04365144e-02, -6.09884690e-03,  4.90352325e-03,\n",
      "        7.54668508e-05, -1.21765526e-03, -7.79653480e-03, -1.92337576e-02,\n",
      "       -1.29006831e-02, -1.70479715e-02,  8.19890411e-04,  9.11107939e-03,\n",
      "       -4.62538097e-03, -1.60592999e-02,  5.26145974e-04, -1.87532522e-03,\n",
      "       -3.76193388e-03, -1.84660102e-03, -7.62976473e-03, -9.94842732e-04,\n",
      "       -1.56216556e-02, -2.35744193e-02,  4.81228065e-03, -1.31839076e-02,\n",
      "       -3.51016014e-03, -1.81559213e-02, -6.67511672e-03, -7.42417295e-03,\n",
      "       -1.45622818e-02, -4.13222890e-03, -9.04282276e-03, -1.21081872e-02,\n",
      "       -7.39808613e-03, -1.28934206e-02, -1.33289099e-02, -6.69932272e-03,\n",
      "       -4.40950785e-03, -1.47110233e-02, -1.72155462e-02, -1.40695116e-02,\n",
      "       -5.80277480e-03, -4.99666296e-03,  2.88451510e-03,  4.82694013e-03,\n",
      "       -1.33303204e-03, -2.12420058e-03, -2.04543434e-02, -3.00046150e-03,\n",
      "       -1.09825970e-03, -3.13370898e-02, -2.12695096e-02, -6.28513191e-03,\n",
      "       -1.42800412e-03, -2.03490118e-03, -7.98903685e-03, -1.30603397e-02,\n",
      "        7.60329794e-03, -2.04839893e-02,  5.02347655e-04,  5.15526813e-03,\n",
      "       -9.78703983e-03, -6.75430521e-03, -5.31127630e-03, -1.23679843e-02,\n",
      "       -1.17753688e-02, -3.89845320e-03, -1.29373288e-02, -7.43125612e-03,\n",
      "       -2.21380815e-02, -1.63207371e-02, -3.08783319e-06, -8.56167730e-03,\n",
      "        4.21489170e-03, -6.10842649e-03,  1.82746747e-03, -1.75823420e-02,\n",
      "       -8.58425163e-03, -1.16733811e-03, -1.16607277e-02,  2.61363829e-03,\n",
      "       -1.18847303e-02, -7.14872964e-03, -2.71146074e-02,  2.36700871e-03,\n",
      "       -8.40420090e-03, -1.92969218e-02, -1.10938279e-02,  1.28848171e-02,\n",
      "        2.30931435e-02, -2.25742022e-03, -1.33546600e-02,  2.46973964e-03,\n",
      "       -1.29988445e-02, -3.08741030e-04, -2.19723936e-02, -8.25565495e-03,\n",
      "       -1.77466832e-02, -1.64232701e-02, -7.61675555e-03, -5.13007585e-03,\n",
      "       -1.89103168e-02, -1.87582262e-02,  7.79028051e-04,  7.30096782e-03,\n",
      "        6.03390671e-03, -1.11837126e-02, -1.58127758e-03, -1.31760454e-02,\n",
      "       -1.19612860e-02, -1.48825115e-04,  3.96925630e-03, -1.00739747e-02,\n",
      "       -6.68394100e-03, -1.94236811e-03, -8.00794456e-03, -6.24323590e-03,\n",
      "       -2.94865435e-03, -4.93854377e-03, -1.13556208e-02, -8.84246174e-03,\n",
      "       -4.66585734e-05, -1.62776727e-02, -7.79473176e-03, -4.02457174e-03,\n",
      "       -1.41852414e-02, -1.64768491e-02,  2.77790683e-03, -1.42083745e-02,\n",
      "       -1.11745056e-02,  5.13420440e-03, -1.89310987e-03, -1.56313479e-02,\n",
      "       -1.53727382e-02,  1.28732072e-02, -1.36335995e-02, -5.05316583e-03,\n",
      "       -7.23697478e-03,  2.19517434e-03, -1.12881865e-02,  5.14443079e-03,\n",
      "       -1.54253549e-03, -1.44535303e-03, -1.29828667e-02,  1.52909127e-03,\n",
      "       -2.18532644e-02,  8.75389203e-03, -8.40340834e-03, -6.13381108e-03,\n",
      "       -9.34774242e-03, -6.44062227e-03, -1.78857299e-03, -8.48179311e-03,\n",
      "        1.51493296e-04, -6.36853743e-03, -1.33344810e-02, -8.36646417e-04,\n",
      "       -1.09641273e-02,  2.76396307e-03,  3.30398488e-03, -1.50328893e-02,\n",
      "        5.18835368e-05, -5.98795339e-03, -3.44299036e-03, -1.29885906e-02,\n",
      "       -4.56434255e-03, -3.60473804e-03,  9.40649014e-04, -4.44778008e-03,\n",
      "        1.27588809e-02, -1.91842820e-02, -2.23308560e-02, -5.49996505e-03,\n",
      "       -5.56397717e-03, -1.00121452e-02, -5.32708946e-04, -1.18669891e-03,\n",
      "       -5.61475754e-03, -2.07139296e-03,  1.22704515e-02, -1.71353910e-02,\n",
      "       -5.18022478e-03,  1.19361719e-02, -5.63858822e-03, -4.14299779e-03,\n",
      "       -2.28942949e-02, -6.17728662e-03, -1.55400373e-02, -5.26073575e-03,\n",
      "        1.05137599e-03,  3.37172620e-04, -1.06019881e-02, -1.09488249e-03,\n",
      "       -6.73006428e-03, -5.33030927e-03, -1.04175769e-02,  3.39702179e-04,\n",
      "        5.89783158e-05, -1.58476420e-02, -2.06333995e-02, -2.75191255e-02,\n",
      "       -2.56933621e-03, -2.59491941e-03,  3.71206843e-04, -6.01236429e-03,\n",
      "       -7.48084951e-03, -1.75616480e-02,  4.92431177e-03, -7.15117669e-03,\n",
      "       -1.88011844e-02,  6.35361858e-03,  9.31530166e-03, -1.05805472e-02,\n",
      "        7.41239684e-03, -2.60122563e-03, -1.37789082e-02, -1.57543493e-03,\n",
      "       -3.37580335e-03, -5.34528983e-04, -6.35715527e-03, -1.33582465e-02,\n",
      "        6.04344951e-03,  5.59039041e-03, -7.44280173e-03, -9.57993232e-03,\n",
      "       -8.04483984e-03,  3.57047399e-03, -1.86328422e-02, -1.26173561e-02,\n",
      "        7.97260460e-03, -9.18806996e-03, -4.46376530e-03, -9.50862560e-03,\n",
      "       -2.25507375e-02, -2.90871575e-03, -2.13654060e-02, -1.50225479e-02,\n",
      "       -1.66018959e-02,  3.34405573e-03, -1.77855212e-02, -1.10830814e-02,\n",
      "        3.48705403e-03, -4.97343997e-03, -1.30230617e-02, -4.51995246e-03,\n",
      "       -3.87069792e-03, -1.26561020e-02, -2.31284536e-02, -9.14243795e-03,\n",
      "       -1.19544249e-02, -1.56963039e-02,  5.52564627e-03, -1.08490679e-02,\n",
      "        4.70382540e-04, -1.26614245e-02, -2.66114082e-02, -1.12043694e-02,\n",
      "       -4.84454352e-03, -7.70934578e-03,  3.26302275e-03, -6.39577536e-03,\n",
      "       -5.38650341e-03,  2.27228869e-02, -2.76106913e-02, -1.26208011e-02,\n",
      "       -1.37702636e-02,  3.57911759e-03,  5.03284857e-03, -1.19962161e-02,\n",
      "       -1.42878974e-02, -8.70955829e-03,  4.08237427e-03, -3.08289123e-03,\n",
      "        7.51808332e-03, -1.01924455e-02,  2.27097771e-03, -8.72332975e-03,\n",
      "       -3.59174609e-03, -8.77640117e-03, -4.85227443e-03, -1.16283055e-02,\n",
      "       -8.88646301e-03, -1.41139068e-02, -5.77815389e-03, -6.70499541e-03,\n",
      "       -6.10016892e-03, -5.31592825e-03,  5.82991540e-03, -7.64781144e-05,\n",
      "        7.92176928e-03, -1.87637378e-03, -2.74997600e-03, -7.50419823e-03,\n",
      "       -8.04801192e-03, -9.02956538e-03,  2.98463297e-03, -1.38710635e-02,\n",
      "       -1.25986533e-02, -4.93218470e-03,  4.28564101e-03,  4.71118488e-04,\n",
      "       -2.42790766e-02, -1.01599675e-02, -2.58968538e-03, -7.10666459e-03,\n",
      "       -4.14318917e-03,  1.92049332e-03, -1.41001400e-02, -1.04740961e-02,\n",
      "       -1.45079251e-02, -2.39627250e-02, -1.29877997e-03,  2.94999313e-03,\n",
      "       -4.88876458e-03, -1.22879473e-02, -1.21139763e-02, -1.91723322e-03,\n",
      "        1.87773642e-03, -2.34057917e-03, -1.69796660e-03, -9.85215046e-03,\n",
      "       -9.18964576e-03, -1.15940124e-02, -1.98370852e-02, -5.33531606e-03,\n",
      "       -5.47680864e-03, -5.21965884e-03, -1.07890265e-02, -5.95460273e-03,\n",
      "       -4.41965088e-03,  1.31765803e-04,  5.21690026e-03, -5.74168423e-03,\n",
      "       -9.18897334e-03,  7.72116799e-03, -2.51335744e-02, -1.84303499e-03,\n",
      "       -1.33248102e-02,  1.42040139e-03, -1.36332531e-02, -2.90650246e-03,\n",
      "       -1.04518235e-02,  3.81149614e-04, -1.01904739e-02, -1.00262817e-02,\n",
      "        4.45017312e-03, -2.57537467e-03, -7.23528489e-03, -1.10116629e-02,\n",
      "        1.50792748e-02, -1.22220442e-03,  6.03739684e-03, -1.27842641e-02,\n",
      "       -1.17523978e-02,  8.98594689e-03, -5.68977231e-03, -4.30351077e-03,\n",
      "       -1.31887645e-02, -1.00690546e-02, -9.87198204e-03,  8.43978836e-04,\n",
      "       -1.42868161e-02, -5.66642405e-03, -9.64245526e-04, -2.18136120e-03,\n",
      "        2.55125831e-03, -2.17968156e-03, -1.61054917e-02,  2.79888354e-05,\n",
      "        3.03662708e-03,  1.16504189e-02,  4.18804167e-03, -6.99628284e-03,\n",
      "       -1.60478540e-02, -4.64445120e-03, -1.02856765e-02, -1.38779441e-02,\n",
      "       -1.08758807e-02, -6.05871715e-03,  3.59472609e-03, -1.28791053e-02,\n",
      "       -1.64084844e-02, -6.14025863e-04, -7.12548557e-04, -5.64546417e-03,\n",
      "       -6.15335582e-03, -1.10784797e-02, -2.55280752e-02, -5.60282031e-04,\n",
      "        1.16731075e-03, -3.61510599e-03, -2.03985944e-02, -5.57406247e-03,\n",
      "       -5.60805667e-03,  5.47187030e-03,  4.44873562e-03, -9.26443934e-03],\n",
      "      dtype=float32)>]\n",
      "[]\n",
      "[<tf.Variable 'dense_3/kernel:0' shape=(500, 1) dtype=float32, numpy=\n",
      "array([[-4.66820896e-02],\n",
      "       [ 4.98138778e-02],\n",
      "       [ 2.69128811e-02],\n",
      "       [-9.12975743e-02],\n",
      "       [ 4.47617769e-02],\n",
      "       [-2.56857909e-02],\n",
      "       [-4.38678674e-02],\n",
      "       [ 7.25956261e-02],\n",
      "       [ 7.32837319e-02],\n",
      "       [-5.21275820e-03],\n",
      "       [-7.94440880e-02],\n",
      "       [-8.00864100e-02],\n",
      "       [-7.35439211e-02],\n",
      "       [ 6.63034618e-03],\n",
      "       [ 2.22459566e-02],\n",
      "       [-1.12121867e-03],\n",
      "       [-4.83113481e-03],\n",
      "       [-7.10387826e-02],\n",
      "       [-2.88912058e-02],\n",
      "       [-8.37949011e-03],\n",
      "       [ 1.20918490e-02],\n",
      "       [-6.47982806e-02],\n",
      "       [-6.43742234e-02],\n",
      "       [ 9.17582214e-02],\n",
      "       [-2.63555478e-02],\n",
      "       [-3.07387728e-02],\n",
      "       [ 4.50965986e-02],\n",
      "       [ 2.68573295e-02],\n",
      "       [-1.19296219e-02],\n",
      "       [ 4.82040271e-02],\n",
      "       [ 2.22587883e-02],\n",
      "       [ 3.80283669e-02],\n",
      "       [ 2.49451934e-03],\n",
      "       [-7.43246973e-02],\n",
      "       [ 2.33665742e-02],\n",
      "       [ 9.38531831e-02],\n",
      "       [ 5.52042238e-02],\n",
      "       [ 3.83227542e-02],\n",
      "       [ 7.45868459e-02],\n",
      "       [-9.72208902e-02],\n",
      "       [ 7.84283876e-02],\n",
      "       [ 3.22132595e-02],\n",
      "       [-3.10078468e-02],\n",
      "       [-9.09921229e-02],\n",
      "       [ 7.24816173e-02],\n",
      "       [-2.73795426e-02],\n",
      "       [ 4.81969677e-02],\n",
      "       [ 7.58617595e-02],\n",
      "       [ 2.03612857e-02],\n",
      "       [ 4.29794565e-02],\n",
      "       [-6.90713758e-03],\n",
      "       [-5.60811833e-02],\n",
      "       [ 4.31197993e-02],\n",
      "       [-2.60782670e-02],\n",
      "       [ 5.79343624e-02],\n",
      "       [-6.32756948e-02],\n",
      "       [ 1.41797224e-02],\n",
      "       [-6.79564849e-02],\n",
      "       [-8.92362650e-03],\n",
      "       [ 1.38785550e-02],\n",
      "       [ 5.60503714e-02],\n",
      "       [-1.57553554e-02],\n",
      "       [-4.43686694e-02],\n",
      "       [-7.00423717e-02],\n",
      "       [ 4.01917286e-02],\n",
      "       [ 6.76640943e-02],\n",
      "       [ 1.58898998e-03],\n",
      "       [ 4.55672853e-02],\n",
      "       [-4.12472375e-02],\n",
      "       [-4.95162793e-02],\n",
      "       [ 4.47145626e-02],\n",
      "       [ 9.58258100e-03],\n",
      "       [-7.96081275e-02],\n",
      "       [-8.25549848e-03],\n",
      "       [ 3.14961523e-02],\n",
      "       [ 8.82899016e-02],\n",
      "       [ 7.66973943e-02],\n",
      "       [ 3.48224631e-03],\n",
      "       [-5.75393550e-02],\n",
      "       [-5.14187338e-03],\n",
      "       [-7.32516125e-02],\n",
      "       [-2.35768538e-02],\n",
      "       [ 1.49785811e-02],\n",
      "       [-5.24194837e-02],\n",
      "       [-2.15697419e-02],\n",
      "       [ 4.68412079e-02],\n",
      "       [ 6.64954111e-02],\n",
      "       [ 8.30901340e-02],\n",
      "       [-8.50879475e-02],\n",
      "       [ 7.30225071e-02],\n",
      "       [ 2.88819559e-02],\n",
      "       [ 8.96745399e-02],\n",
      "       [ 9.55742300e-02],\n",
      "       [-6.06573634e-02],\n",
      "       [-5.12890033e-02],\n",
      "       [ 4.99555282e-02],\n",
      "       [ 3.90721634e-02],\n",
      "       [-9.41836275e-03],\n",
      "       [-5.86843342e-02],\n",
      "       [ 6.68242425e-02],\n",
      "       [ 7.32265934e-02],\n",
      "       [ 5.97236969e-04],\n",
      "       [-1.02907084e-02],\n",
      "       [-4.56333533e-02],\n",
      "       [ 2.04929765e-02],\n",
      "       [-9.00100321e-02],\n",
      "       [ 2.49430872e-02],\n",
      "       [ 2.03955546e-02],\n",
      "       [-3.68079878e-02],\n",
      "       [ 6.49749413e-02],\n",
      "       [-6.93719983e-02],\n",
      "       [-8.44120234e-02],\n",
      "       [-7.27389231e-02],\n",
      "       [ 6.37190491e-02],\n",
      "       [ 2.60328650e-02],\n",
      "       [ 1.29763186e-02],\n",
      "       [-9.89131704e-02],\n",
      "       [ 3.47371064e-02],\n",
      "       [-3.07035856e-02],\n",
      "       [-5.14448099e-02],\n",
      "       [ 2.26449501e-02],\n",
      "       [-6.99519217e-02],\n",
      "       [-9.81069207e-02],\n",
      "       [-2.06250455e-02],\n",
      "       [-8.22784528e-02],\n",
      "       [-1.27426395e-02],\n",
      "       [ 9.64199100e-03],\n",
      "       [-2.43569352e-03],\n",
      "       [-6.42848089e-02],\n",
      "       [-8.26772898e-02],\n",
      "       [ 6.22806735e-02],\n",
      "       [-6.27528131e-02],\n",
      "       [-1.21573200e-02],\n",
      "       [ 8.32562372e-02],\n",
      "       [-7.95479864e-03],\n",
      "       [-6.45037517e-02],\n",
      "       [-8.42438638e-02],\n",
      "       [ 7.51208365e-02],\n",
      "       [-6.95360601e-02],\n",
      "       [-4.07512449e-02],\n",
      "       [ 4.11540940e-02],\n",
      "       [-8.92586354e-03],\n",
      "       [-1.07193872e-01],\n",
      "       [ 6.76828548e-02],\n",
      "       [ 5.53739406e-02],\n",
      "       [ 5.14654070e-02],\n",
      "       [ 7.36413673e-02],\n",
      "       [ 8.69751498e-02],\n",
      "       [ 7.55748674e-02],\n",
      "       [-7.27111921e-02],\n",
      "       [-5.41692739e-03],\n",
      "       [ 6.02390468e-02],\n",
      "       [ 5.12401424e-02],\n",
      "       [-6.95507005e-02],\n",
      "       [-9.12234634e-02],\n",
      "       [ 1.91555973e-02],\n",
      "       [-3.40092108e-02],\n",
      "       [-9.04820561e-02],\n",
      "       [-3.87087092e-02],\n",
      "       [-9.26157385e-02],\n",
      "       [ 2.88677365e-02],\n",
      "       [-6.02538921e-02],\n",
      "       [ 2.23016851e-02],\n",
      "       [ 7.31371045e-02],\n",
      "       [-4.16078679e-02],\n",
      "       [-1.18617518e-02],\n",
      "       [-3.89352590e-02],\n",
      "       [-9.67559870e-03],\n",
      "       [ 3.62725146e-02],\n",
      "       [ 3.44072543e-02],\n",
      "       [-6.55422499e-03],\n",
      "       [-9.63824429e-03],\n",
      "       [-5.46354316e-02],\n",
      "       [-5.18171769e-03],\n",
      "       [ 6.26299977e-02],\n",
      "       [-7.76497740e-03],\n",
      "       [ 2.27947757e-02],\n",
      "       [ 1.23790354e-02],\n",
      "       [ 8.29342529e-02],\n",
      "       [-5.54531533e-03],\n",
      "       [ 6.40175268e-02],\n",
      "       [ 7.40289465e-02],\n",
      "       [-4.37330529e-02],\n",
      "       [ 6.01113029e-02],\n",
      "       [-6.69198930e-02],\n",
      "       [-3.75942923e-02],\n",
      "       [-8.65936801e-02],\n",
      "       [ 5.68755120e-02],\n",
      "       [ 3.98465060e-02],\n",
      "       [-2.52683647e-03],\n",
      "       [-6.19277060e-02],\n",
      "       [ 1.86467990e-02],\n",
      "       [ 7.31950030e-02],\n",
      "       [ 1.19854510e-02],\n",
      "       [-4.68055680e-02],\n",
      "       [ 6.32238016e-02],\n",
      "       [-3.30032110e-02],\n",
      "       [ 3.69296409e-02],\n",
      "       [-4.02350575e-02],\n",
      "       [-1.98649447e-02],\n",
      "       [-6.46698708e-03],\n",
      "       [-8.55005533e-02],\n",
      "       [-2.78738029e-02],\n",
      "       [ 3.06463428e-02],\n",
      "       [-7.74811506e-02],\n",
      "       [-5.51894531e-02],\n",
      "       [-3.67425941e-02],\n",
      "       [ 1.50408139e-02],\n",
      "       [ 1.81573834e-02],\n",
      "       [-6.39351085e-02],\n",
      "       [ 3.81506654e-03],\n",
      "       [-9.44221094e-02],\n",
      "       [-8.75274763e-02],\n",
      "       [-2.59184092e-02],\n",
      "       [ 6.10233583e-02],\n",
      "       [-8.68931115e-02],\n",
      "       [ 8.73658136e-02],\n",
      "       [ 5.76701807e-03],\n",
      "       [-2.78693121e-02],\n",
      "       [-2.26250477e-02],\n",
      "       [-1.05893314e-01],\n",
      "       [ 9.02248770e-02],\n",
      "       [-5.64112328e-03],\n",
      "       [-5.86927235e-02],\n",
      "       [ 3.84788848e-02],\n",
      "       [ 5.58801852e-02],\n",
      "       [ 8.29209238e-02],\n",
      "       [ 7.32595995e-02],\n",
      "       [ 1.71014350e-02],\n",
      "       [-8.59914795e-02],\n",
      "       [ 7.54016079e-03],\n",
      "       [-4.10729833e-02],\n",
      "       [-6.51577637e-02],\n",
      "       [ 2.82928795e-02],\n",
      "       [ 2.42538806e-02],\n",
      "       [-9.38437209e-02],\n",
      "       [ 4.18376614e-04],\n",
      "       [ 2.78925039e-02],\n",
      "       [-3.37774158e-02],\n",
      "       [-4.14542221e-02],\n",
      "       [-3.43112834e-02],\n",
      "       [ 4.27905582e-02],\n",
      "       [-7.51883090e-02],\n",
      "       [-1.98237989e-02],\n",
      "       [ 4.54078652e-02],\n",
      "       [ 1.10103958e-03],\n",
      "       [-6.18716842e-03],\n",
      "       [ 5.60199330e-03],\n",
      "       [-7.57960677e-02],\n",
      "       [ 4.31924425e-02],\n",
      "       [-5.47508039e-02],\n",
      "       [-3.90688740e-02],\n",
      "       [-3.92657816e-02],\n",
      "       [-8.22490156e-02],\n",
      "       [ 3.93191241e-02],\n",
      "       [-1.74874254e-02],\n",
      "       [ 4.58771847e-02],\n",
      "       [-7.57744312e-02],\n",
      "       [-3.55002731e-02],\n",
      "       [ 1.16676670e-02],\n",
      "       [-7.79464915e-02],\n",
      "       [ 6.65631099e-03],\n",
      "       [ 4.30312194e-03],\n",
      "       [-6.75610527e-02],\n",
      "       [ 4.52708453e-02],\n",
      "       [-3.01299226e-02],\n",
      "       [-5.06927483e-02],\n",
      "       [ 8.58901441e-02],\n",
      "       [-2.15938836e-02],\n",
      "       [-4.17249510e-03],\n",
      "       [ 6.06096350e-02],\n",
      "       [-5.82592264e-02],\n",
      "       [ 4.64211926e-02],\n",
      "       [-8.50014091e-02],\n",
      "       [-2.33384373e-04],\n",
      "       [ 8.70355442e-02],\n",
      "       [-3.75551879e-02],\n",
      "       [-7.64111727e-02],\n",
      "       [-4.63692658e-02],\n",
      "       [ 1.03431707e-02],\n",
      "       [ 4.17843796e-02],\n",
      "       [ 3.53680290e-02],\n",
      "       [ 2.76846718e-02],\n",
      "       [-7.93568417e-03],\n",
      "       [ 5.64134531e-02],\n",
      "       [ 4.84590940e-02],\n",
      "       [-1.39891205e-03],\n",
      "       [ 8.70994851e-03],\n",
      "       [ 5.33023812e-02],\n",
      "       [-2.07953788e-02],\n",
      "       [ 2.31502019e-02],\n",
      "       [-7.01722875e-02],\n",
      "       [-2.74317488e-02],\n",
      "       [ 5.64818382e-02],\n",
      "       [-4.98786606e-02],\n",
      "       [-7.44893178e-02],\n",
      "       [-5.74913844e-02],\n",
      "       [ 6.82749879e-03],\n",
      "       [-2.38951296e-02],\n",
      "       [-2.21666452e-02],\n",
      "       [ 1.35632651e-02],\n",
      "       [-9.31675825e-03],\n",
      "       [-2.00501550e-02],\n",
      "       [-7.49683678e-02],\n",
      "       [ 7.16228969e-04],\n",
      "       [-6.81771934e-02],\n",
      "       [ 2.35205609e-02],\n",
      "       [ 3.65652815e-02],\n",
      "       [ 5.46162724e-02],\n",
      "       [ 7.14181960e-02],\n",
      "       [ 1.90178566e-02],\n",
      "       [-7.90600255e-02],\n",
      "       [-7.59670809e-02],\n",
      "       [ 2.03748588e-02],\n",
      "       [ 7.99372513e-03],\n",
      "       [-4.00033966e-02],\n",
      "       [-3.99714559e-02],\n",
      "       [ 7.24053085e-02],\n",
      "       [ 8.16566870e-02],\n",
      "       [ 5.11659086e-02],\n",
      "       [ 5.07634059e-02],\n",
      "       [-2.91583017e-02],\n",
      "       [-8.31019878e-03],\n",
      "       [-5.25678322e-02],\n",
      "       [ 1.10701900e-02],\n",
      "       [ 7.58452266e-02],\n",
      "       [ 7.65450224e-02],\n",
      "       [-4.85816486e-02],\n",
      "       [-4.03852435e-03],\n",
      "       [ 2.60944273e-02],\n",
      "       [-6.93127438e-02],\n",
      "       [-8.86879712e-02],\n",
      "       [ 3.04463115e-02],\n",
      "       [ 1.03532393e-02],\n",
      "       [ 8.40517953e-02],\n",
      "       [-5.34140691e-03],\n",
      "       [-8.23784620e-02],\n",
      "       [ 1.59128476e-03],\n",
      "       [-6.79396018e-02],\n",
      "       [-9.94190052e-02],\n",
      "       [-8.35127532e-02],\n",
      "       [-4.77324761e-02],\n",
      "       [-7.17289522e-02],\n",
      "       [-9.35198963e-02],\n",
      "       [ 1.82447322e-02],\n",
      "       [-2.21587066e-02],\n",
      "       [-3.08395140e-02],\n",
      "       [ 5.23428507e-02],\n",
      "       [ 2.99170357e-03],\n",
      "       [-9.59420875e-02],\n",
      "       [ 6.97461292e-02],\n",
      "       [-3.78274433e-02],\n",
      "       [-2.01957840e-02],\n",
      "       [ 6.20432943e-02],\n",
      "       [ 7.91226402e-02],\n",
      "       [-8.56106058e-02],\n",
      "       [ 3.91875878e-02],\n",
      "       [-3.25741284e-02],\n",
      "       [ 6.23599254e-02],\n",
      "       [ 5.56328557e-02],\n",
      "       [ 5.11697382e-02],\n",
      "       [-5.96835166e-02],\n",
      "       [ 5.10897078e-02],\n",
      "       [ 2.16752593e-03],\n",
      "       [-5.68948761e-02],\n",
      "       [ 5.84788620e-02],\n",
      "       [-7.48097301e-02],\n",
      "       [-4.32524364e-03],\n",
      "       [-3.33595686e-02],\n",
      "       [ 6.83961809e-02],\n",
      "       [ 2.67623682e-02],\n",
      "       [ 6.67203739e-02],\n",
      "       [-6.88551143e-02],\n",
      "       [-1.09339528e-01],\n",
      "       [ 2.06201803e-02],\n",
      "       [ 2.29100604e-02],\n",
      "       [ 1.11467810e-02],\n",
      "       [-7.23170908e-03],\n",
      "       [ 3.15163955e-02],\n",
      "       [-6.80462718e-02],\n",
      "       [-5.51451743e-02],\n",
      "       [-4.47061174e-02],\n",
      "       [-1.26066227e-02],\n",
      "       [-6.70567453e-02],\n",
      "       [ 1.77575457e-05],\n",
      "       [ 9.34717804e-02],\n",
      "       [-5.68597168e-02],\n",
      "       [-6.92343861e-02],\n",
      "       [-4.32749689e-02],\n",
      "       [ 1.31824994e-02],\n",
      "       [ 8.70414823e-02],\n",
      "       [-1.80884078e-02],\n",
      "       [ 6.52175099e-02],\n",
      "       [-1.83949503e-03],\n",
      "       [ 8.56078565e-02],\n",
      "       [ 2.73644440e-02],\n",
      "       [-5.83403073e-02],\n",
      "       [ 7.65837058e-02],\n",
      "       [-3.59070823e-02],\n",
      "       [-6.65148646e-02],\n",
      "       [ 1.39043108e-02],\n",
      "       [ 4.44323532e-02],\n",
      "       [ 6.82140142e-02],\n",
      "       [ 6.10582121e-02],\n",
      "       [-4.47390676e-02],\n",
      "       [-6.59402367e-03],\n",
      "       [ 3.68831120e-02],\n",
      "       [ 4.97135632e-02],\n",
      "       [ 3.98127772e-02],\n",
      "       [ 2.83040330e-02],\n",
      "       [ 6.95608556e-02],\n",
      "       [ 3.55711468e-02],\n",
      "       [-3.30790202e-03],\n",
      "       [-7.83174857e-02],\n",
      "       [ 1.41062047e-02],\n",
      "       [ 4.32175351e-03],\n",
      "       [ 1.70424655e-02],\n",
      "       [-3.03920545e-02],\n",
      "       [-9.38628614e-03],\n",
      "       [-5.45308255e-02],\n",
      "       [ 4.60098609e-02],\n",
      "       [ 4.44064615e-04],\n",
      "       [ 4.94317501e-04],\n",
      "       [ 1.01985456e-02],\n",
      "       [ 5.90437315e-02],\n",
      "       [ 7.47204050e-02],\n",
      "       [ 7.26976246e-02],\n",
      "       [ 7.39835799e-02],\n",
      "       [-6.35350347e-02],\n",
      "       [ 2.66359337e-02],\n",
      "       [-5.95579371e-02],\n",
      "       [-3.84012610e-02],\n",
      "       [-8.99259225e-02],\n",
      "       [ 2.81199384e-02],\n",
      "       [ 3.33205760e-02],\n",
      "       [ 7.01951087e-02],\n",
      "       [-5.06836362e-02],\n",
      "       [ 2.16417592e-02],\n",
      "       [-6.33974597e-02],\n",
      "       [-6.52006939e-02],\n",
      "       [ 7.59591833e-02],\n",
      "       [ 1.69644374e-02],\n",
      "       [-6.16625920e-02],\n",
      "       [ 8.88673812e-02],\n",
      "       [ 2.00150423e-02],\n",
      "       [ 6.26943186e-02],\n",
      "       [-4.92990203e-02],\n",
      "       [-3.24802324e-02],\n",
      "       [-7.54632577e-02],\n",
      "       [ 5.03130928e-02],\n",
      "       [-5.54635413e-02],\n",
      "       [ 7.89229050e-02],\n",
      "       [ 3.07639372e-02],\n",
      "       [ 1.56850759e-02],\n",
      "       [ 6.68764189e-02],\n",
      "       [-1.64508950e-02],\n",
      "       [-5.10580800e-02],\n",
      "       [-1.30747091e-02],\n",
      "       [ 8.21029767e-02],\n",
      "       [-3.39193456e-02],\n",
      "       [ 8.55913088e-02],\n",
      "       [-2.38749990e-03],\n",
      "       [-5.41789196e-02],\n",
      "       [ 5.19426987e-02],\n",
      "       [-3.33925639e-03],\n",
      "       [ 1.91551889e-03],\n",
      "       [ 1.37683994e-04],\n",
      "       [ 3.69271822e-02],\n",
      "       [ 2.04236731e-02],\n",
      "       [ 2.28365008e-02],\n",
      "       [-7.86502808e-02],\n",
      "       [ 3.14038694e-02],\n",
      "       [ 1.25592817e-02],\n",
      "       [ 7.25073293e-02],\n",
      "       [-2.25785095e-02],\n",
      "       [ 2.27835719e-02],\n",
      "       [-8.61754119e-02],\n",
      "       [ 4.65855896e-02],\n",
      "       [-1.14867678e-02],\n",
      "       [ 3.41040343e-02],\n",
      "       [-7.93922469e-02],\n",
      "       [ 6.05097860e-02],\n",
      "       [ 8.55879262e-02],\n",
      "       [-7.41495341e-02],\n",
      "       [-7.96500221e-02],\n",
      "       [ 3.38931978e-02],\n",
      "       [ 5.73440827e-02],\n",
      "       [-4.76469584e-02],\n",
      "       [ 2.03876290e-03],\n",
      "       [-7.20591620e-02],\n",
      "       [-8.35745484e-02],\n",
      "       [-1.30899008e-02],\n",
      "       [ 2.59856135e-02],\n",
      "       [-5.56212403e-02],\n",
      "       [-3.39385234e-02],\n",
      "       [ 7.54497061e-03],\n",
      "       [-3.01099867e-02],\n",
      "       [-4.44976389e-02],\n",
      "       [ 8.58826041e-02],\n",
      "       [-8.06889310e-03]], dtype=float32)>, <tf.Variable 'dense_3/bias:0' shape=(1,) dtype=float32, numpy=array([0.00639042], dtype=float32)>]\n"
     ]
    }
   ],
   "source": [
    "for layer in cosy_model.get_models()[0].layers:\n",
    "    # if \"kernel\" in layer.weights:\n",
    "    print(layer.weights)"
   ],
   "metadata": {
    "collapsed": false,
    "pycharm": {
     "name": "#%%\n"
    }
   }
  },
  {
   "cell_type": "code",
   "execution_count": 16,
   "outputs": [
    {
     "data": {
      "text/plain": "[<keras.engine.input_layer.InputLayer at 0x16bf6c5e0>,\n <keras.layers.core.dense.Dense at 0x16bf6c670>,\n <keras.layers.regularization.dropout.Dropout at 0x16bf484c0>,\n <keras.layers.core.dense.Dense at 0x16bf48760>,\n <keras.layers.regularization.dropout.Dropout at 0x16bf48a00>,\n <keras.layers.core.dense.Dense at 0x16bf48130>,\n <keras.layers.regularization.dropout.Dropout at 0x16bf48880>,\n <keras.layers.core.dense.Dense at 0x16bf48460>]"
     },
     "execution_count": 16,
     "metadata": {},
     "output_type": "execute_result"
    }
   ],
   "source": [
    "cosy_model.get_models()[0].layers"
   ],
   "metadata": {
    "collapsed": false,
    "pycharm": {
     "name": "#%%\n"
    }
   }
  },
  {
   "cell_type": "code",
   "execution_count": null,
   "outputs": [],
   "source": [],
   "metadata": {
    "collapsed": false,
    "pycharm": {
     "name": "#%%\n"
    }
   }
  }
 ],
 "metadata": {
  "kernelspec": {
   "display_name": "Python 3",
   "language": "python",
   "name": "python3"
  },
  "language_info": {
   "codemirror_mode": {
    "name": "ipython",
    "version": 2
   },
   "file_extension": ".py",
   "mimetype": "text/x-python",
   "name": "python",
   "nbconvert_exporter": "python",
   "pygments_lexer": "ipython2",
   "version": "2.7.6"
  }
 },
 "nbformat": 4,
 "nbformat_minor": 0
}
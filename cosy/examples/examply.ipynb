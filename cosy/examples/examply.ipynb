{
 "cells": [
  {
   "cell_type": "code",
   "execution_count": 1,
   "outputs": [],
   "source": [
    "import numpy as np\n",
    "import tensorflow as tf\n",
    "import tensorflow_addons as tfa\n",
    "import pandas as pd\n",
    "from sklearn.model_selection import train_test_split\n",
    "from sklearn.preprocessing import StandardScaler\n",
    "from cosy.models import CosyNet\n",
    "from cosy.losses import trace_norm, MaskedMeanSquaredError, mutual_information, l1_norm, wasserstein_distance\n",
    "from cosy.callbacks import EarlyStoppingMultiLoss"
   ],
   "metadata": {
    "collapsed": false,
    "pycharm": {
     "name": "#%%\n"
    }
   }
  },
  {
   "cell_type": "code",
   "execution_count": 2,
   "outputs": [
    {
     "data": {
      "text/plain": "   Unnamed: 0     framework  CO2_tp_lod  N2_tp_lod  SO2_tp_lod  \\\n0           0  GIQXUA_clean    1.918899   0.017520    2.747258   \n1           1  JALPAQ_clean    0.050226   0.027788    0.008087   \n2           2  SAQQEH_clean    2.006302   0.249367    0.533491   \n3           3  BEFNEH_clean    1.036156   0.033717    1.343768   \n4           4  GELVID_clean    0.552087   0.064768    0.027879   \n\n   RDF_electronegativity_2.00  RDF_electronegativity_2.00.1  \\\n0                    0.000605                      0.000606   \n1                    0.000861                      0.000870   \n2                    0.000771                      0.000781   \n3                    0.000899                      0.000899   \n4                    0.000820                      0.000831   \n\n   RDF_electronegativity_2.01  RDF_electronegativity_2.03  \\\n0                    0.000607                    0.000609   \n1                    0.000888                    0.000916   \n2                    0.000802                    0.000833   \n3                    0.000900                    0.000903   \n4                    0.000852                    0.000884   \n\n   RDF_electronegativity_2.04  ...  RDF_vdWaalsVolume_28.53  \\\n0                    0.000614  ...                      0.0   \n1                    0.000954  ...                      0.0   \n2                    0.000876  ...                      0.0   \n3                    0.000910  ...                      0.0   \n4                    0.000928  ...                      0.0   \n\n   RDF_vdWaalsVolume_29.01  RDF_vdWaalsVolume_29.51  RDF_vdWaalsVolume_30.00  \\\n0                      0.0                      0.0                      0.0   \n1                      0.0                      0.0                      0.0   \n2                      0.0                      0.0                      0.0   \n3                      0.0                      0.0                      0.0   \n4                      0.0                      0.0                      0.0   \n\n       PLD       LCD   density       VF       SAv       SAg  \n0  3.86870   4.89334  1.792830  0.13844  2675.750  1492.470  \n1  2.90553   3.97550  1.660880  0.01992   841.869   506.881  \n2  9.13279  10.56525  0.914389  0.35942  2030.210  2220.290  \n3  3.33494   4.26940  2.165640  0.07290  1864.990   861.172  \n4  2.43534   3.61901  1.574130  0.02776  1334.150   847.547  \n\n[5 rows x 350 columns]",
      "text/html": "<div>\n<style scoped>\n    .dataframe tbody tr th:only-of-type {\n        vertical-align: middle;\n    }\n\n    .dataframe tbody tr th {\n        vertical-align: top;\n    }\n\n    .dataframe thead th {\n        text-align: right;\n    }\n</style>\n<table border=\"1\" class=\"dataframe\">\n  <thead>\n    <tr style=\"text-align: right;\">\n      <th></th>\n      <th>Unnamed: 0</th>\n      <th>framework</th>\n      <th>CO2_tp_lod</th>\n      <th>N2_tp_lod</th>\n      <th>SO2_tp_lod</th>\n      <th>RDF_electronegativity_2.00</th>\n      <th>RDF_electronegativity_2.00.1</th>\n      <th>RDF_electronegativity_2.01</th>\n      <th>RDF_electronegativity_2.03</th>\n      <th>RDF_electronegativity_2.04</th>\n      <th>...</th>\n      <th>RDF_vdWaalsVolume_28.53</th>\n      <th>RDF_vdWaalsVolume_29.01</th>\n      <th>RDF_vdWaalsVolume_29.51</th>\n      <th>RDF_vdWaalsVolume_30.00</th>\n      <th>PLD</th>\n      <th>LCD</th>\n      <th>density</th>\n      <th>VF</th>\n      <th>SAv</th>\n      <th>SAg</th>\n    </tr>\n  </thead>\n  <tbody>\n    <tr>\n      <th>0</th>\n      <td>0</td>\n      <td>GIQXUA_clean</td>\n      <td>1.918899</td>\n      <td>0.017520</td>\n      <td>2.747258</td>\n      <td>0.000605</td>\n      <td>0.000606</td>\n      <td>0.000607</td>\n      <td>0.000609</td>\n      <td>0.000614</td>\n      <td>...</td>\n      <td>0.0</td>\n      <td>0.0</td>\n      <td>0.0</td>\n      <td>0.0</td>\n      <td>3.86870</td>\n      <td>4.89334</td>\n      <td>1.792830</td>\n      <td>0.13844</td>\n      <td>2675.750</td>\n      <td>1492.470</td>\n    </tr>\n    <tr>\n      <th>1</th>\n      <td>1</td>\n      <td>JALPAQ_clean</td>\n      <td>0.050226</td>\n      <td>0.027788</td>\n      <td>0.008087</td>\n      <td>0.000861</td>\n      <td>0.000870</td>\n      <td>0.000888</td>\n      <td>0.000916</td>\n      <td>0.000954</td>\n      <td>...</td>\n      <td>0.0</td>\n      <td>0.0</td>\n      <td>0.0</td>\n      <td>0.0</td>\n      <td>2.90553</td>\n      <td>3.97550</td>\n      <td>1.660880</td>\n      <td>0.01992</td>\n      <td>841.869</td>\n      <td>506.881</td>\n    </tr>\n    <tr>\n      <th>2</th>\n      <td>2</td>\n      <td>SAQQEH_clean</td>\n      <td>2.006302</td>\n      <td>0.249367</td>\n      <td>0.533491</td>\n      <td>0.000771</td>\n      <td>0.000781</td>\n      <td>0.000802</td>\n      <td>0.000833</td>\n      <td>0.000876</td>\n      <td>...</td>\n      <td>0.0</td>\n      <td>0.0</td>\n      <td>0.0</td>\n      <td>0.0</td>\n      <td>9.13279</td>\n      <td>10.56525</td>\n      <td>0.914389</td>\n      <td>0.35942</td>\n      <td>2030.210</td>\n      <td>2220.290</td>\n    </tr>\n    <tr>\n      <th>3</th>\n      <td>3</td>\n      <td>BEFNEH_clean</td>\n      <td>1.036156</td>\n      <td>0.033717</td>\n      <td>1.343768</td>\n      <td>0.000899</td>\n      <td>0.000899</td>\n      <td>0.000900</td>\n      <td>0.000903</td>\n      <td>0.000910</td>\n      <td>...</td>\n      <td>0.0</td>\n      <td>0.0</td>\n      <td>0.0</td>\n      <td>0.0</td>\n      <td>3.33494</td>\n      <td>4.26940</td>\n      <td>2.165640</td>\n      <td>0.07290</td>\n      <td>1864.990</td>\n      <td>861.172</td>\n    </tr>\n    <tr>\n      <th>4</th>\n      <td>4</td>\n      <td>GELVID_clean</td>\n      <td>0.552087</td>\n      <td>0.064768</td>\n      <td>0.027879</td>\n      <td>0.000820</td>\n      <td>0.000831</td>\n      <td>0.000852</td>\n      <td>0.000884</td>\n      <td>0.000928</td>\n      <td>...</td>\n      <td>0.0</td>\n      <td>0.0</td>\n      <td>0.0</td>\n      <td>0.0</td>\n      <td>2.43534</td>\n      <td>3.61901</td>\n      <td>1.574130</td>\n      <td>0.02776</td>\n      <td>1334.150</td>\n      <td>847.547</td>\n    </tr>\n  </tbody>\n</table>\n<p>5 rows × 350 columns</p>\n</div>"
     },
     "execution_count": 2,
     "metadata": {},
     "output_type": "execute_result"
    }
   ],
   "source": [
    "df = pd.read_csv(\"/Users/tompope/Documents/python_enviroment/SoftwareDevelopment/soft_parameter_sharing/data/desulferization_data_w_tobacc.csv\")\n",
    "df.head()"
   ],
   "metadata": {
    "collapsed": false,
    "pycharm": {
     "name": "#%%\n"
    }
   }
  },
  {
   "cell_type": "code",
   "execution_count": 3,
   "outputs": [],
   "source": [
    "'''\n",
    "  - read data into dataframe\n",
    "  - generate class data\n",
    "  - extract and split feature and class data\n",
    "  - scale feature data\n",
    "'''\n",
    "\n",
    "\n",
    "df = df.sample(frac=1).reset_index(drop=True)\n",
    "df.drop(columns=['Unnamed: 0'], inplace=True)\n",
    "# df = df[df.framework.str.startswith('str_')]\n",
    "\n",
    "\n",
    "train_df_full, test_df = train_test_split(df, test_size=0.2, random_state=2020)\n",
    "\n",
    "train_df, val_df = train_test_split(train_df_full, test_size=0.1, random_state=2020)\n",
    "\n",
    "X_train = train_df.iloc[:, 4:].to_numpy().astype(np.float32)\n",
    "X_train_CO2 = train_df.iloc[:, 4:].to_numpy().astype(np.float32)\n",
    "\n",
    "y_CO2 = train_df.CO2_tp_lod.to_numpy().astype(np.float32)\n",
    "y_N2 = train_df.N2_tp_lod.to_numpy().astype(np.float32)\n",
    "y_SO2 = train_df.SO2_tp_lod.to_numpy().astype(np.float32)\n",
    "\n",
    "X_val = val_df.iloc[:, 4:].to_numpy().astype(np.float32)\n",
    "X_val_CO2 = val_df.iloc[:, 4:].to_numpy().astype(np.float32)\n",
    "y_CO2_val = val_df.CO2_tp_lod.to_numpy().astype(np.float32)\n",
    "y_N2_val = val_df.N2_tp_lod.to_numpy().astype(np.float32)\n",
    "y_SO2_val = val_df.SO2_tp_lod.to_numpy().astype(np.float32)\n",
    "\n",
    "X_test = test_df.iloc[:, 4:].to_numpy().astype(np.float32)\n",
    "X_test_CO2 = test_df.iloc[:, 4:].to_numpy().astype(np.float32)\n",
    "y_CO2_test =  test_df.CO2_tp_lod.to_numpy().astype(np.float32)\n",
    "y_N2_test = test_df.N2_tp_lod.to_numpy().astype(np.float32)\n",
    "y_SO2_test = test_df.SO2_tp_lod.to_numpy().astype(np.float32)\n",
    "\n",
    "\n",
    "# y_CO2[100:1000] = -1\n",
    "\n",
    "sc = StandardScaler()\n",
    "\n",
    "\n",
    "X_train = sc.fit_transform(X_train)\n",
    "X_val = sc.transform(X_val)\n",
    "X_test = sc.transform(X_test)"
   ],
   "metadata": {
    "collapsed": false,
    "pycharm": {
     "name": "#%%\n"
    }
   }
  },
  {
   "cell_type": "code",
   "execution_count": 4,
   "outputs": [
    {
     "data": {
      "text/plain": "                                          framework  CO2_tp_lod  N2_tp_lod  \\\n0     str_m3_o6_o22_f0_nbo_sym_88_faps_mpnn_charges    0.220230   0.240675   \n1  str_m29_o92_o101_f0_pts_sym_53_faps_mpnn_charges    0.615981   0.258884   \n2                                      GESNOI_clean    3.262913   0.010957   \n3  str_m3_o153_o155_f0_fsc_sym_75_faps_mpnn_charges    1.609211   0.439934   \n4   str_m3_o153_o164_f0_fsc_sym_1_faps_mpnn_charges    0.628296   0.232043   \n\n   SO2_tp_lod  RDF_electronegativity_2.00  RDF_electronegativity_2.00.1  \\\n0    0.023841                    0.000736                      0.000746   \n1    2.902255                    0.000699                      0.000712   \n2    1.645783                    0.000920                      0.000924   \n3    0.874886                    0.000717                      0.000730   \n4    0.153936                    0.000693                      0.000705   \n\n   RDF_electronegativity_2.01  RDF_electronegativity_2.03  \\\n0                    0.000766                    0.000796   \n1                    0.000737                    0.000778   \n2                    0.000933                    0.000947   \n3                    0.000757                    0.000799   \n4                    0.000728                    0.000765   \n\n   RDF_electronegativity_2.04  RDF_electronegativity_2.07  ...  \\\n0                    0.000837                    0.000889  ...   \n1                    0.000834                    0.000908  ...   \n2                    0.000967                    0.000993  ...   \n3                    0.000857                    0.000934  ...   \n4                    0.000815                    0.000881  ...   \n\n   RDF_vdWaalsVolume_28.53  RDF_vdWaalsVolume_29.01  RDF_vdWaalsVolume_29.51  \\\n0                      0.0                      0.0                      0.0   \n1                      0.0                      0.0                      0.0   \n2                      0.0                      0.0                      0.0   \n3                      0.0                      0.0                      0.0   \n4                      0.0                      0.0                      0.0   \n\n   RDF_vdWaalsVolume_30.00       PLD       LCD   density       VF      SAv  \\\n0                      0.0  12.85588  16.84391  0.292539  0.67916  1633.04   \n1                      0.0   9.54271  11.16429  0.609476  0.42774  1950.97   \n2                      0.0   3.48820   6.06741  1.684730  0.06924  1427.64   \n3                      0.0   5.20687   8.06086  0.756559  0.36200  2489.46   \n4                      0.0   7.37181   8.00676  0.791728  0.30210  2230.90   \n\n        SAg  \n0  5582.300  \n1  3201.070  \n2   847.399  \n3  3290.510  \n4  2817.770  \n\n[5 rows x 349 columns]",
      "text/html": "<div>\n<style scoped>\n    .dataframe tbody tr th:only-of-type {\n        vertical-align: middle;\n    }\n\n    .dataframe tbody tr th {\n        vertical-align: top;\n    }\n\n    .dataframe thead th {\n        text-align: right;\n    }\n</style>\n<table border=\"1\" class=\"dataframe\">\n  <thead>\n    <tr style=\"text-align: right;\">\n      <th></th>\n      <th>framework</th>\n      <th>CO2_tp_lod</th>\n      <th>N2_tp_lod</th>\n      <th>SO2_tp_lod</th>\n      <th>RDF_electronegativity_2.00</th>\n      <th>RDF_electronegativity_2.00.1</th>\n      <th>RDF_electronegativity_2.01</th>\n      <th>RDF_electronegativity_2.03</th>\n      <th>RDF_electronegativity_2.04</th>\n      <th>RDF_electronegativity_2.07</th>\n      <th>...</th>\n      <th>RDF_vdWaalsVolume_28.53</th>\n      <th>RDF_vdWaalsVolume_29.01</th>\n      <th>RDF_vdWaalsVolume_29.51</th>\n      <th>RDF_vdWaalsVolume_30.00</th>\n      <th>PLD</th>\n      <th>LCD</th>\n      <th>density</th>\n      <th>VF</th>\n      <th>SAv</th>\n      <th>SAg</th>\n    </tr>\n  </thead>\n  <tbody>\n    <tr>\n      <th>0</th>\n      <td>str_m3_o6_o22_f0_nbo_sym_88_faps_mpnn_charges</td>\n      <td>0.220230</td>\n      <td>0.240675</td>\n      <td>0.023841</td>\n      <td>0.000736</td>\n      <td>0.000746</td>\n      <td>0.000766</td>\n      <td>0.000796</td>\n      <td>0.000837</td>\n      <td>0.000889</td>\n      <td>...</td>\n      <td>0.0</td>\n      <td>0.0</td>\n      <td>0.0</td>\n      <td>0.0</td>\n      <td>12.85588</td>\n      <td>16.84391</td>\n      <td>0.292539</td>\n      <td>0.67916</td>\n      <td>1633.04</td>\n      <td>5582.300</td>\n    </tr>\n    <tr>\n      <th>1</th>\n      <td>str_m29_o92_o101_f0_pts_sym_53_faps_mpnn_charges</td>\n      <td>0.615981</td>\n      <td>0.258884</td>\n      <td>2.902255</td>\n      <td>0.000699</td>\n      <td>0.000712</td>\n      <td>0.000737</td>\n      <td>0.000778</td>\n      <td>0.000834</td>\n      <td>0.000908</td>\n      <td>...</td>\n      <td>0.0</td>\n      <td>0.0</td>\n      <td>0.0</td>\n      <td>0.0</td>\n      <td>9.54271</td>\n      <td>11.16429</td>\n      <td>0.609476</td>\n      <td>0.42774</td>\n      <td>1950.97</td>\n      <td>3201.070</td>\n    </tr>\n    <tr>\n      <th>2</th>\n      <td>GESNOI_clean</td>\n      <td>3.262913</td>\n      <td>0.010957</td>\n      <td>1.645783</td>\n      <td>0.000920</td>\n      <td>0.000924</td>\n      <td>0.000933</td>\n      <td>0.000947</td>\n      <td>0.000967</td>\n      <td>0.000993</td>\n      <td>...</td>\n      <td>0.0</td>\n      <td>0.0</td>\n      <td>0.0</td>\n      <td>0.0</td>\n      <td>3.48820</td>\n      <td>6.06741</td>\n      <td>1.684730</td>\n      <td>0.06924</td>\n      <td>1427.64</td>\n      <td>847.399</td>\n    </tr>\n    <tr>\n      <th>3</th>\n      <td>str_m3_o153_o155_f0_fsc_sym_75_faps_mpnn_charges</td>\n      <td>1.609211</td>\n      <td>0.439934</td>\n      <td>0.874886</td>\n      <td>0.000717</td>\n      <td>0.000730</td>\n      <td>0.000757</td>\n      <td>0.000799</td>\n      <td>0.000857</td>\n      <td>0.000934</td>\n      <td>...</td>\n      <td>0.0</td>\n      <td>0.0</td>\n      <td>0.0</td>\n      <td>0.0</td>\n      <td>5.20687</td>\n      <td>8.06086</td>\n      <td>0.756559</td>\n      <td>0.36200</td>\n      <td>2489.46</td>\n      <td>3290.510</td>\n    </tr>\n    <tr>\n      <th>4</th>\n      <td>str_m3_o153_o164_f0_fsc_sym_1_faps_mpnn_charges</td>\n      <td>0.628296</td>\n      <td>0.232043</td>\n      <td>0.153936</td>\n      <td>0.000693</td>\n      <td>0.000705</td>\n      <td>0.000728</td>\n      <td>0.000765</td>\n      <td>0.000815</td>\n      <td>0.000881</td>\n      <td>...</td>\n      <td>0.0</td>\n      <td>0.0</td>\n      <td>0.0</td>\n      <td>0.0</td>\n      <td>7.37181</td>\n      <td>8.00676</td>\n      <td>0.791728</td>\n      <td>0.30210</td>\n      <td>2230.90</td>\n      <td>2817.770</td>\n    </tr>\n  </tbody>\n</table>\n<p>5 rows × 349 columns</p>\n</div>"
     },
     "execution_count": 4,
     "metadata": {},
     "output_type": "execute_result"
    }
   ],
   "source": [
    "df.head()"
   ],
   "metadata": {
    "collapsed": false,
    "pycharm": {
     "name": "#%%\n"
    }
   }
  },
  {
   "cell_type": "code",
   "execution_count": 5,
   "outputs": [
    {
     "name": "stdout",
     "output_type": "stream",
     "text": [
      "Metal device set to: Apple M1\n"
     ]
    },
    {
     "name": "stderr",
     "output_type": "stream",
     "text": [
      "2023-02-21 18:04:14.160440: I tensorflow/core/common_runtime/pluggable_device/pluggable_device_factory.cc:305] Could not identify NUMA node of platform GPU ID 0, defaulting to 0. Your kernel may not have been built with NUMA support.\n",
      "2023-02-21 18:04:14.161136: I tensorflow/core/common_runtime/pluggable_device/pluggable_device_factory.cc:271] Created TensorFlow device (/job:localhost/replica:0/task:0/device:GPU:0 with 0 MB memory) -> physical PluggableDevice (device: 0, name: METAL, pci bus id: <undefined>)\n"
     ]
    }
   ],
   "source": [
    "input_ = tf.keras.Input(shape=(X_train.shape[1]))\n",
    "x = tf.keras.layers.Dense(1200, activation='relu')(input_)\n",
    "x = tf.keras.layers.Dropout(0.1)(x)\n",
    "x = tf.keras.layers.Dense(400, activation='relu')(x)\n",
    "x = tf.keras.layers.Dropout(0.1)(x)\n",
    "x = tf.keras.layers.Dense(500, activation='relu')(x)\n",
    "x = tf.keras.layers.Dropout(0.1)(x)\n",
    "x = tf.keras.layers.Dense(1, activation='relu')(x)\n",
    "\n",
    "model = tf.keras.Model(inputs=input_, outputs=x)"
   ],
   "metadata": {
    "collapsed": false,
    "pycharm": {
     "name": "#%%\n"
    }
   }
  },
  {
   "cell_type": "code",
   "execution_count": 6,
   "outputs": [],
   "source": [
    "input_ = tf.keras.Input(shape=(X_train_CO2.shape[1]))\n",
    "x = tf.keras.layers.Dense(1200, activation='relu')(input_)\n",
    "x = tf.keras.layers.Dropout(0.1)(x)\n",
    "x = tf.keras.layers.Dense(400, activation='relu')(x)\n",
    "x = tf.keras.layers.Dropout(0.1)(x)\n",
    "x = tf.keras.layers.Dense(500, activation='relu')(x)\n",
    "x = tf.keras.layers.Dropout(0.1)(x)\n",
    "x = tf.keras.layers.Dense(1, activation='relu')(x)\n",
    "\n",
    "modelco2 = tf.keras.Model(inputs=input_, outputs=x)"
   ],
   "metadata": {
    "collapsed": false,
    "pycharm": {
     "name": "#%%\n"
    }
   }
  },
  {
   "cell_type": "code",
   "execution_count": 7,
   "outputs": [],
   "source": [
    "cosy_model = CosyNet(\n",
    "    model_config=[model.get_config(), modelco2.get_config(), model.get_config()],\n",
    "    scalar=[1.0, 1.0, 1.0],\n",
    "    max_layer_cutoff=-1,\n",
    "    min_layer_cutoff=1,\n",
    "    loss_fn=wasserstein_distance,\n",
    ")"
   ],
   "metadata": {
    "collapsed": false,
    "pycharm": {
     "name": "#%%\n"
    }
   }
  },
  {
   "cell_type": "code",
   "execution_count": 8,
   "outputs": [],
   "source": [
    "opt = tf.keras.optimizers.Adam(learning_rate=0.00025)\n",
    "\n",
    "losses = {\n",
    "    'output_1':MaskedMeanSquaredError(),\n",
    "    'output_2': MaskedMeanSquaredError(),\n",
    "    'output_3': MaskedMeanSquaredError(),\n",
    "    }\n",
    "\n",
    "R2 = tfa.metrics.RSquare()\n",
    "\n",
    "cosy_model.compile(\n",
    "            optimizer=opt,\n",
    "            loss=losses,\n",
    "            metrics=[R2],\n",
    "            )"
   ],
   "metadata": {
    "collapsed": false,
    "pycharm": {
     "name": "#%%\n"
    }
   }
  },
  {
   "cell_type": "code",
   "execution_count": 9,
   "outputs": [
    {
     "name": "stdout",
     "output_type": "stream",
     "text": [
      "Epoch 1/4\n"
     ]
    },
    {
     "name": "stderr",
     "output_type": "stream",
     "text": [
      "2023-02-21 18:04:14.664560: W tensorflow/core/platform/profile_utils/cpu_utils.cc:128] Failed to get CPU frequency: 0 Hz\n",
      "2023-02-21 18:04:14.833353: W tensorflow/core/framework/op_kernel.cc:1745] OP_REQUIRES failed at functional_ops.cc:374 : INTERNAL: No function library\n",
      "2023-02-21 18:04:14.835557: W tensorflow/core/framework/op_kernel.cc:1745] OP_REQUIRES failed at functional_ops.cc:374 : INTERNAL: No function library\n",
      "2023-02-21 18:04:14.869584: W tensorflow/core/framework/op_kernel.cc:1745] OP_REQUIRES failed at functional_ops.cc:374 : INTERNAL: No function library\n",
      "2023-02-21 18:04:14.871894: W tensorflow/core/framework/op_kernel.cc:1745] OP_REQUIRES failed at functional_ops.cc:374 : INTERNAL: No function library\n",
      "2023-02-21 18:04:14.910068: W tensorflow/core/framework/op_kernel.cc:1745] OP_REQUIRES failed at functional_ops.cc:374 : INTERNAL: No function library\n",
      "2023-02-21 18:04:14.912980: W tensorflow/core/framework/op_kernel.cc:1745] OP_REQUIRES failed at functional_ops.cc:374 : INTERNAL: No function library\n",
      "2023-02-21 18:04:14.951241: W tensorflow/core/framework/op_kernel.cc:1745] OP_REQUIRES failed at functional_ops.cc:374 : INTERNAL: No function library\n",
      "2023-02-21 18:04:14.953637: W tensorflow/core/framework/op_kernel.cc:1745] OP_REQUIRES failed at functional_ops.cc:374 : INTERNAL: No function library\n",
      "2023-02-21 18:04:14.988728: W tensorflow/core/framework/op_kernel.cc:1745] OP_REQUIRES failed at functional_ops.cc:374 : INTERNAL: No function library\n",
      "2023-02-21 18:04:14.992681: W tensorflow/core/framework/op_kernel.cc:1745] OP_REQUIRES failed at functional_ops.cc:374 : INTERNAL: No function library\n",
      "2023-02-21 18:04:15.038317: W tensorflow/core/framework/op_kernel.cc:1745] OP_REQUIRES failed at functional_ops.cc:374 : INTERNAL: No function library\n",
      "2023-02-21 18:04:15.040302: W tensorflow/core/framework/op_kernel.cc:1745] OP_REQUIRES failed at functional_ops.cc:374 : INTERNAL: No function library\n",
      "2023-02-21 18:04:15.263528: W tensorflow/core/framework/op_kernel.cc:1745] OP_REQUIRES failed at functional_ops.cc:374 : INTERNAL: No function library\n",
      "2023-02-21 18:04:15.264867: W tensorflow/core/framework/op_kernel.cc:1745] OP_REQUIRES failed at functional_ops.cc:374 : INTERNAL: No function library\n",
      "2023-02-21 18:04:15.266610: W tensorflow/core/framework/op_kernel.cc:1745] OP_REQUIRES failed at functional_ops.cc:374 : INTERNAL: No function library\n",
      "2023-02-21 18:04:15.267984: W tensorflow/core/framework/op_kernel.cc:1745] OP_REQUIRES failed at functional_ops.cc:374 : INTERNAL: No function library\n",
      "2023-02-21 18:04:15.270585: W tensorflow/core/framework/op_kernel.cc:1745] OP_REQUIRES failed at functional_ops.cc:374 : INTERNAL: No function library\n",
      "2023-02-21 18:04:15.272999: W tensorflow/core/framework/op_kernel.cc:1745] OP_REQUIRES failed at functional_ops.cc:374 : INTERNAL: No function library\n",
      "2023-02-21 18:04:15.293729: W tensorflow/core/framework/op_kernel.cc:1745] OP_REQUIRES failed at functional_ops.cc:374 : INTERNAL: No function library\n",
      "2023-02-21 18:04:15.296541: W tensorflow/core/framework/op_kernel.cc:1745] OP_REQUIRES failed at functional_ops.cc:374 : INTERNAL: No function library\n",
      "2023-02-21 18:04:15.299490: W tensorflow/core/framework/op_kernel.cc:1745] OP_REQUIRES failed at functional_ops.cc:374 : INTERNAL: No function library\n",
      "2023-02-21 18:04:15.305227: W tensorflow/core/framework/op_kernel.cc:1745] OP_REQUIRES failed at functional_ops.cc:374 : INTERNAL: No function library\n",
      "2023-02-21 18:04:15.310212: W tensorflow/core/framework/op_kernel.cc:1745] OP_REQUIRES failed at functional_ops.cc:374 : INTERNAL: No function library\n",
      "2023-02-21 18:04:15.313021: W tensorflow/core/framework/op_kernel.cc:1745] OP_REQUIRES failed at functional_ops.cc:374 : INTERNAL: No function library\n",
      "2023-02-21 18:04:15.964191: W tensorflow/core/framework/op_kernel.cc:1745] OP_REQUIRES failed at functional_ops.cc:374 : INTERNAL: No function library\n",
      "2023-02-21 18:04:15.967399: W tensorflow/core/framework/op_kernel.cc:1745] OP_REQUIRES failed at functional_ops.cc:374 : INTERNAL: No function library\n",
      "2023-02-21 18:04:16.018136: W tensorflow/core/framework/op_kernel.cc:1745] OP_REQUIRES failed at functional_ops.cc:374 : INTERNAL: No function library\n",
      "2023-02-21 18:04:16.020388: W tensorflow/core/framework/op_kernel.cc:1745] OP_REQUIRES failed at functional_ops.cc:374 : INTERNAL: No function library\n",
      "2023-02-21 18:04:16.059954: W tensorflow/core/framework/op_kernel.cc:1745] OP_REQUIRES failed at functional_ops.cc:374 : INTERNAL: No function library\n",
      "2023-02-21 18:04:16.061806: W tensorflow/core/framework/op_kernel.cc:1745] OP_REQUIRES failed at functional_ops.cc:374 : INTERNAL: No function library\n",
      "2023-02-21 18:04:16.098484: W tensorflow/core/framework/op_kernel.cc:1745] OP_REQUIRES failed at functional_ops.cc:374 : INTERNAL: No function library\n",
      "2023-02-21 18:04:16.100980: W tensorflow/core/framework/op_kernel.cc:1745] OP_REQUIRES failed at functional_ops.cc:374 : INTERNAL: No function library\n",
      "2023-02-21 18:04:16.139089: W tensorflow/core/framework/op_kernel.cc:1745] OP_REQUIRES failed at functional_ops.cc:374 : INTERNAL: No function library\n",
      "2023-02-21 18:04:16.141085: W tensorflow/core/framework/op_kernel.cc:1745] OP_REQUIRES failed at functional_ops.cc:374 : INTERNAL: No function library\n",
      "2023-02-21 18:04:16.175839: W tensorflow/core/framework/op_kernel.cc:1745] OP_REQUIRES failed at functional_ops.cc:374 : INTERNAL: No function library\n",
      "2023-02-21 18:04:16.178577: W tensorflow/core/framework/op_kernel.cc:1745] OP_REQUIRES failed at functional_ops.cc:374 : INTERNAL: No function library\n",
      "2023-02-21 18:04:16.408171: W tensorflow/core/framework/op_kernel.cc:1745] OP_REQUIRES failed at functional_ops.cc:374 : INTERNAL: No function library\n",
      "2023-02-21 18:04:16.411813: W tensorflow/core/framework/op_kernel.cc:1745] OP_REQUIRES failed at functional_ops.cc:374 : INTERNAL: No function library\n",
      "2023-02-21 18:04:16.415855: W tensorflow/core/framework/op_kernel.cc:1745] OP_REQUIRES failed at functional_ops.cc:374 : INTERNAL: No function library\n",
      "2023-02-21 18:04:16.419197: W tensorflow/core/framework/op_kernel.cc:1745] OP_REQUIRES failed at functional_ops.cc:374 : INTERNAL: No function library\n",
      "2023-02-21 18:04:16.425534: W tensorflow/core/framework/op_kernel.cc:1745] OP_REQUIRES failed at functional_ops.cc:374 : INTERNAL: No function library\n",
      "2023-02-21 18:04:16.428969: W tensorflow/core/framework/op_kernel.cc:1745] OP_REQUIRES failed at functional_ops.cc:374 : INTERNAL: No function library\n",
      "2023-02-21 18:04:16.456202: W tensorflow/core/framework/op_kernel.cc:1745] OP_REQUIRES failed at functional_ops.cc:374 : INTERNAL: No function library\n",
      "2023-02-21 18:04:16.459332: W tensorflow/core/framework/op_kernel.cc:1745] OP_REQUIRES failed at functional_ops.cc:374 : INTERNAL: No function library\n",
      "2023-02-21 18:04:16.462465: W tensorflow/core/framework/op_kernel.cc:1745] OP_REQUIRES failed at functional_ops.cc:374 : INTERNAL: No function library\n",
      "2023-02-21 18:04:16.467906: W tensorflow/core/framework/op_kernel.cc:1745] OP_REQUIRES failed at functional_ops.cc:374 : INTERNAL: No function library\n",
      "2023-02-21 18:04:16.472794: W tensorflow/core/framework/op_kernel.cc:1745] OP_REQUIRES failed at functional_ops.cc:374 : INTERNAL: No function library\n",
      "2023-02-21 18:04:16.475368: W tensorflow/core/framework/op_kernel.cc:1745] OP_REQUIRES failed at functional_ops.cc:374 : INTERNAL: No function library\n",
      "2023-02-21 18:04:16.792152: I tensorflow/core/grappler/optimizers/custom_graph_optimizer_registry.cc:113] Plugin optimizer for device_type GPU is enabled.\n"
     ]
    },
    {
     "name": "stdout",
     "output_type": "stream",
     "text": [
      "878/878 [==============================] - ETA: 0s - loss: 2.2189 - output_1_loss: 0.0143 - output_2_loss: 0.2375 - output_3_loss: 0.6930 - output_1_r_square: -0.9087 - output_2_r_square: 0.3387 - output_3_r_square: 0.4768 - scaled_soft_loss: 0.4247"
     ]
    },
    {
     "name": "stderr",
     "output_type": "stream",
     "text": [
      "2023-02-21 18:06:39.603014: W tensorflow/core/framework/op_kernel.cc:1745] OP_REQUIRES failed at functional_ops.cc:374 : INTERNAL: No function library\n",
      "2023-02-21 18:06:39.605323: W tensorflow/core/framework/op_kernel.cc:1745] OP_REQUIRES failed at functional_ops.cc:374 : INTERNAL: No function library\n",
      "2023-02-21 18:06:39.640090: W tensorflow/core/framework/op_kernel.cc:1745] OP_REQUIRES failed at functional_ops.cc:374 : INTERNAL: No function library\n",
      "2023-02-21 18:06:39.641995: W tensorflow/core/framework/op_kernel.cc:1745] OP_REQUIRES failed at functional_ops.cc:374 : INTERNAL: No function library\n",
      "2023-02-21 18:06:39.911545: W tensorflow/core/framework/op_kernel.cc:1745] OP_REQUIRES failed at functional_ops.cc:374 : INTERNAL: No function library\n",
      "2023-02-21 18:06:39.913624: W tensorflow/core/framework/op_kernel.cc:1745] OP_REQUIRES failed at functional_ops.cc:374 : INTERNAL: No function library\n",
      "2023-02-21 18:06:39.944964: W tensorflow/core/framework/op_kernel.cc:1745] OP_REQUIRES failed at functional_ops.cc:374 : INTERNAL: No function library\n",
      "2023-02-21 18:06:39.946708: W tensorflow/core/framework/op_kernel.cc:1745] OP_REQUIRES failed at functional_ops.cc:374 : INTERNAL: No function library\n",
      "2023-02-21 18:06:39.978106: W tensorflow/core/framework/op_kernel.cc:1745] OP_REQUIRES failed at functional_ops.cc:374 : INTERNAL: No function library\n",
      "2023-02-21 18:06:39.980443: W tensorflow/core/framework/op_kernel.cc:1745] OP_REQUIRES failed at functional_ops.cc:374 : INTERNAL: No function library\n",
      "2023-02-21 18:06:40.011403: W tensorflow/core/framework/op_kernel.cc:1745] OP_REQUIRES failed at functional_ops.cc:374 : INTERNAL: No function library\n",
      "2023-02-21 18:06:40.014236: W tensorflow/core/framework/op_kernel.cc:1745] OP_REQUIRES failed at functional_ops.cc:374 : INTERNAL: No function library\n",
      "2023-02-21 18:06:40.263808: I tensorflow/core/grappler/optimizers/custom_graph_optimizer_registry.cc:113] Plugin optimizer for device_type GPU is enabled.\n"
     ]
    },
    {
     "name": "stdout",
     "output_type": "stream",
     "text": [
      "878/878 [==============================] - 155s 173ms/step - loss: 2.2189 - output_1_loss: 0.0143 - output_2_loss: 0.2375 - output_3_loss: 0.6930 - output_1_r_square: -0.9087 - output_2_r_square: 0.3387 - output_3_r_square: 0.4768 - scaled_soft_loss: 0.4247 - val_loss: 2.0496 - val_output_1_loss: 0.0050 - val_output_2_loss: 0.1726 - val_output_3_loss: 0.5605 - val_output_1_r_square: 0.3028 - val_output_2_r_square: 0.4894 - val_output_3_r_square: 0.5841 - val_scaled_soft_loss: 0.4372\n",
      "Epoch 2/4\n",
      "878/878 [==============================] - 173s 197ms/step - loss: 2.0810 - output_1_loss: 0.0051 - output_2_loss: 0.1814 - output_3_loss: 0.5636 - output_1_r_square: 0.3196 - output_2_r_square: 0.4950 - output_3_r_square: 0.5745 - scaled_soft_loss: 0.4436 - val_loss: 1.9957 - val_output_1_loss: 0.0021 - val_output_2_loss: 0.1500 - val_output_3_loss: 0.5053 - val_output_1_r_square: 0.7107 - val_output_2_r_square: 0.5564 - val_output_3_r_square: 0.6251 - val_scaled_soft_loss: 0.4461\n",
      "Epoch 3/4\n",
      "878/878 [==============================] - 189s 215ms/step - loss: 2.0328 - output_1_loss: 0.0034 - output_2_loss: 0.1640 - output_3_loss: 0.5184 - output_1_r_square: 0.5495 - output_2_r_square: 0.5434 - output_3_r_square: 0.6087 - scaled_soft_loss: 0.4490 - val_loss: 1.9845 - val_output_1_loss: 0.0025 - val_output_2_loss: 0.1587 - val_output_3_loss: 0.4885 - val_output_1_r_square: 0.6506 - val_output_2_r_square: 0.5305 - val_output_3_r_square: 0.6376 - val_scaled_soft_loss: 0.4449\n",
      "Epoch 4/4\n",
      "626/878 [====================>.........] - ETA: 1:14 - loss: 2.0067 - output_1_loss: 0.0028 - output_2_loss: 0.1538 - output_3_loss: 0.4895 - output_1_r_square: 0.6224 - output_2_r_square: 0.5727 - output_3_r_square: 0.6281 - scaled_soft_loss: 0.4535"
     ]
    },
    {
     "ename": "KeyboardInterrupt",
     "evalue": "",
     "output_type": "error",
     "traceback": [
      "\u001B[0;31m---------------------------------------------------------------------------\u001B[0m",
      "\u001B[0;31mKeyboardInterrupt\u001B[0m                         Traceback (most recent call last)",
      "Cell \u001B[0;32mIn[9], line 1\u001B[0m\n\u001B[0;32m----> 1\u001B[0m \u001B[43mcosy_model\u001B[49m\u001B[38;5;241;43m.\u001B[39;49m\u001B[43mfit\u001B[49m\u001B[43m(\u001B[49m\n\u001B[1;32m      2\u001B[0m \u001B[43m    \u001B[49m\u001B[43mx\u001B[49m\u001B[38;5;241;43m=\u001B[39;49m\u001B[43mX_train\u001B[49m\u001B[43m,\u001B[49m\u001B[43m \u001B[49m\u001B[43my\u001B[49m\u001B[38;5;241;43m=\u001B[39;49m\u001B[43m[\u001B[49m\u001B[43my_N2\u001B[49m\u001B[43m,\u001B[49m\u001B[43m \u001B[49m\u001B[43my_CO2\u001B[49m\u001B[43m,\u001B[49m\u001B[43m \u001B[49m\u001B[43my_SO2\u001B[49m\u001B[43m]\u001B[49m\u001B[43m,\u001B[49m\n\u001B[1;32m      3\u001B[0m \u001B[43m    \u001B[49m\u001B[43mvalidation_data\u001B[49m\u001B[38;5;241;43m=\u001B[39;49m\u001B[43m(\u001B[49m\u001B[43mX_val\u001B[49m\u001B[43m,\u001B[49m\u001B[43m \u001B[49m\u001B[43m[\u001B[49m\u001B[43my_N2_val\u001B[49m\u001B[43m,\u001B[49m\u001B[43m \u001B[49m\u001B[43my_CO2_val\u001B[49m\u001B[43m,\u001B[49m\u001B[43m \u001B[49m\u001B[43my_SO2_val\u001B[49m\u001B[43m]\u001B[49m\u001B[43m)\u001B[49m\u001B[43m,\u001B[49m\n\u001B[1;32m      4\u001B[0m \u001B[43m    \u001B[49m\u001B[43mbatch_size\u001B[49m\u001B[38;5;241;43m=\u001B[39;49m\u001B[38;5;241;43m32\u001B[39;49m\u001B[43m,\u001B[49m\u001B[43m \u001B[49m\u001B[43mepochs\u001B[49m\u001B[43m \u001B[49m\u001B[38;5;241;43m=\u001B[39;49m\u001B[43m \u001B[49m\u001B[38;5;241;43m4\u001B[39;49m\u001B[43m,\u001B[49m\u001B[43m \u001B[49m\u001B[43mverbose\u001B[49m\u001B[38;5;241;43m=\u001B[39;49m\u001B[38;5;241;43m1\u001B[39;49m\n\u001B[1;32m      5\u001B[0m \u001B[43m)\u001B[49m\n",
      "File \u001B[0;32m~/.local/share/virtualenvs/Cosy-QaLDgKkW/lib/python3.9/site-packages/keras/utils/traceback_utils.py:64\u001B[0m, in \u001B[0;36mfilter_traceback.<locals>.error_handler\u001B[0;34m(*args, **kwargs)\u001B[0m\n\u001B[1;32m     62\u001B[0m filtered_tb \u001B[38;5;241m=\u001B[39m \u001B[38;5;28;01mNone\u001B[39;00m\n\u001B[1;32m     63\u001B[0m \u001B[38;5;28;01mtry\u001B[39;00m:\n\u001B[0;32m---> 64\u001B[0m   \u001B[38;5;28;01mreturn\u001B[39;00m \u001B[43mfn\u001B[49m\u001B[43m(\u001B[49m\u001B[38;5;241;43m*\u001B[39;49m\u001B[43margs\u001B[49m\u001B[43m,\u001B[49m\u001B[43m \u001B[49m\u001B[38;5;241;43m*\u001B[39;49m\u001B[38;5;241;43m*\u001B[39;49m\u001B[43mkwargs\u001B[49m\u001B[43m)\u001B[49m\n\u001B[1;32m     65\u001B[0m \u001B[38;5;28;01mexcept\u001B[39;00m \u001B[38;5;167;01mException\u001B[39;00m \u001B[38;5;28;01mas\u001B[39;00m e:  \u001B[38;5;66;03m# pylint: disable=broad-except\u001B[39;00m\n\u001B[1;32m     66\u001B[0m   filtered_tb \u001B[38;5;241m=\u001B[39m _process_traceback_frames(e\u001B[38;5;241m.\u001B[39m__traceback__)\n",
      "File \u001B[0;32m~/.local/share/virtualenvs/Cosy-QaLDgKkW/lib/python3.9/site-packages/keras/engine/training.py:1409\u001B[0m, in \u001B[0;36mModel.fit\u001B[0;34m(self, x, y, batch_size, epochs, verbose, callbacks, validation_split, validation_data, shuffle, class_weight, sample_weight, initial_epoch, steps_per_epoch, validation_steps, validation_batch_size, validation_freq, max_queue_size, workers, use_multiprocessing)\u001B[0m\n\u001B[1;32m   1402\u001B[0m \u001B[38;5;28;01mwith\u001B[39;00m tf\u001B[38;5;241m.\u001B[39mprofiler\u001B[38;5;241m.\u001B[39mexperimental\u001B[38;5;241m.\u001B[39mTrace(\n\u001B[1;32m   1403\u001B[0m     \u001B[38;5;124m'\u001B[39m\u001B[38;5;124mtrain\u001B[39m\u001B[38;5;124m'\u001B[39m,\n\u001B[1;32m   1404\u001B[0m     epoch_num\u001B[38;5;241m=\u001B[39mepoch,\n\u001B[1;32m   1405\u001B[0m     step_num\u001B[38;5;241m=\u001B[39mstep,\n\u001B[1;32m   1406\u001B[0m     batch_size\u001B[38;5;241m=\u001B[39mbatch_size,\n\u001B[1;32m   1407\u001B[0m     _r\u001B[38;5;241m=\u001B[39m\u001B[38;5;241m1\u001B[39m):\n\u001B[1;32m   1408\u001B[0m   callbacks\u001B[38;5;241m.\u001B[39mon_train_batch_begin(step)\n\u001B[0;32m-> 1409\u001B[0m   tmp_logs \u001B[38;5;241m=\u001B[39m \u001B[38;5;28;43mself\u001B[39;49m\u001B[38;5;241;43m.\u001B[39;49m\u001B[43mtrain_function\u001B[49m\u001B[43m(\u001B[49m\u001B[43miterator\u001B[49m\u001B[43m)\u001B[49m\n\u001B[1;32m   1410\u001B[0m   \u001B[38;5;28;01mif\u001B[39;00m data_handler\u001B[38;5;241m.\u001B[39mshould_sync:\n\u001B[1;32m   1411\u001B[0m     context\u001B[38;5;241m.\u001B[39masync_wait()\n",
      "File \u001B[0;32m~/.local/share/virtualenvs/Cosy-QaLDgKkW/lib/python3.9/site-packages/tensorflow/python/util/traceback_utils.py:150\u001B[0m, in \u001B[0;36mfilter_traceback.<locals>.error_handler\u001B[0;34m(*args, **kwargs)\u001B[0m\n\u001B[1;32m    148\u001B[0m filtered_tb \u001B[38;5;241m=\u001B[39m \u001B[38;5;28;01mNone\u001B[39;00m\n\u001B[1;32m    149\u001B[0m \u001B[38;5;28;01mtry\u001B[39;00m:\n\u001B[0;32m--> 150\u001B[0m   \u001B[38;5;28;01mreturn\u001B[39;00m \u001B[43mfn\u001B[49m\u001B[43m(\u001B[49m\u001B[38;5;241;43m*\u001B[39;49m\u001B[43margs\u001B[49m\u001B[43m,\u001B[49m\u001B[43m \u001B[49m\u001B[38;5;241;43m*\u001B[39;49m\u001B[38;5;241;43m*\u001B[39;49m\u001B[43mkwargs\u001B[49m\u001B[43m)\u001B[49m\n\u001B[1;32m    151\u001B[0m \u001B[38;5;28;01mexcept\u001B[39;00m \u001B[38;5;167;01mException\u001B[39;00m \u001B[38;5;28;01mas\u001B[39;00m e:\n\u001B[1;32m    152\u001B[0m   filtered_tb \u001B[38;5;241m=\u001B[39m _process_traceback_frames(e\u001B[38;5;241m.\u001B[39m__traceback__)\n",
      "File \u001B[0;32m~/.local/share/virtualenvs/Cosy-QaLDgKkW/lib/python3.9/site-packages/tensorflow/python/eager/def_function.py:915\u001B[0m, in \u001B[0;36mFunction.__call__\u001B[0;34m(self, *args, **kwds)\u001B[0m\n\u001B[1;32m    912\u001B[0m compiler \u001B[38;5;241m=\u001B[39m \u001B[38;5;124m\"\u001B[39m\u001B[38;5;124mxla\u001B[39m\u001B[38;5;124m\"\u001B[39m \u001B[38;5;28;01mif\u001B[39;00m \u001B[38;5;28mself\u001B[39m\u001B[38;5;241m.\u001B[39m_jit_compile \u001B[38;5;28;01melse\u001B[39;00m \u001B[38;5;124m\"\u001B[39m\u001B[38;5;124mnonXla\u001B[39m\u001B[38;5;124m\"\u001B[39m\n\u001B[1;32m    914\u001B[0m \u001B[38;5;28;01mwith\u001B[39;00m OptionalXlaContext(\u001B[38;5;28mself\u001B[39m\u001B[38;5;241m.\u001B[39m_jit_compile):\n\u001B[0;32m--> 915\u001B[0m   result \u001B[38;5;241m=\u001B[39m \u001B[38;5;28;43mself\u001B[39;49m\u001B[38;5;241;43m.\u001B[39;49m\u001B[43m_call\u001B[49m\u001B[43m(\u001B[49m\u001B[38;5;241;43m*\u001B[39;49m\u001B[43margs\u001B[49m\u001B[43m,\u001B[49m\u001B[43m \u001B[49m\u001B[38;5;241;43m*\u001B[39;49m\u001B[38;5;241;43m*\u001B[39;49m\u001B[43mkwds\u001B[49m\u001B[43m)\u001B[49m\n\u001B[1;32m    917\u001B[0m new_tracing_count \u001B[38;5;241m=\u001B[39m \u001B[38;5;28mself\u001B[39m\u001B[38;5;241m.\u001B[39mexperimental_get_tracing_count()\n\u001B[1;32m    918\u001B[0m without_tracing \u001B[38;5;241m=\u001B[39m (tracing_count \u001B[38;5;241m==\u001B[39m new_tracing_count)\n",
      "File \u001B[0;32m~/.local/share/virtualenvs/Cosy-QaLDgKkW/lib/python3.9/site-packages/tensorflow/python/eager/def_function.py:947\u001B[0m, in \u001B[0;36mFunction._call\u001B[0;34m(self, *args, **kwds)\u001B[0m\n\u001B[1;32m    944\u001B[0m   \u001B[38;5;28mself\u001B[39m\u001B[38;5;241m.\u001B[39m_lock\u001B[38;5;241m.\u001B[39mrelease()\n\u001B[1;32m    945\u001B[0m   \u001B[38;5;66;03m# In this case we have created variables on the first call, so we run the\u001B[39;00m\n\u001B[1;32m    946\u001B[0m   \u001B[38;5;66;03m# defunned version which is guaranteed to never create variables.\u001B[39;00m\n\u001B[0;32m--> 947\u001B[0m   \u001B[38;5;28;01mreturn\u001B[39;00m \u001B[38;5;28;43mself\u001B[39;49m\u001B[38;5;241;43m.\u001B[39;49m\u001B[43m_stateless_fn\u001B[49m\u001B[43m(\u001B[49m\u001B[38;5;241;43m*\u001B[39;49m\u001B[43margs\u001B[49m\u001B[43m,\u001B[49m\u001B[43m \u001B[49m\u001B[38;5;241;43m*\u001B[39;49m\u001B[38;5;241;43m*\u001B[39;49m\u001B[43mkwds\u001B[49m\u001B[43m)\u001B[49m  \u001B[38;5;66;03m# pylint: disable=not-callable\u001B[39;00m\n\u001B[1;32m    948\u001B[0m \u001B[38;5;28;01melif\u001B[39;00m \u001B[38;5;28mself\u001B[39m\u001B[38;5;241m.\u001B[39m_stateful_fn \u001B[38;5;129;01mis\u001B[39;00m \u001B[38;5;129;01mnot\u001B[39;00m \u001B[38;5;28;01mNone\u001B[39;00m:\n\u001B[1;32m    949\u001B[0m   \u001B[38;5;66;03m# Release the lock early so that multiple threads can perform the call\u001B[39;00m\n\u001B[1;32m    950\u001B[0m   \u001B[38;5;66;03m# in parallel.\u001B[39;00m\n\u001B[1;32m    951\u001B[0m   \u001B[38;5;28mself\u001B[39m\u001B[38;5;241m.\u001B[39m_lock\u001B[38;5;241m.\u001B[39mrelease()\n",
      "File \u001B[0;32m~/.local/share/virtualenvs/Cosy-QaLDgKkW/lib/python3.9/site-packages/tensorflow/python/eager/function.py:2453\u001B[0m, in \u001B[0;36mFunction.__call__\u001B[0;34m(self, *args, **kwargs)\u001B[0m\n\u001B[1;32m   2450\u001B[0m \u001B[38;5;28;01mwith\u001B[39;00m \u001B[38;5;28mself\u001B[39m\u001B[38;5;241m.\u001B[39m_lock:\n\u001B[1;32m   2451\u001B[0m   (graph_function,\n\u001B[1;32m   2452\u001B[0m    filtered_flat_args) \u001B[38;5;241m=\u001B[39m \u001B[38;5;28mself\u001B[39m\u001B[38;5;241m.\u001B[39m_maybe_define_function(args, kwargs)\n\u001B[0;32m-> 2453\u001B[0m \u001B[38;5;28;01mreturn\u001B[39;00m \u001B[43mgraph_function\u001B[49m\u001B[38;5;241;43m.\u001B[39;49m\u001B[43m_call_flat\u001B[49m\u001B[43m(\u001B[49m\n\u001B[1;32m   2454\u001B[0m \u001B[43m    \u001B[49m\u001B[43mfiltered_flat_args\u001B[49m\u001B[43m,\u001B[49m\u001B[43m \u001B[49m\u001B[43mcaptured_inputs\u001B[49m\u001B[38;5;241;43m=\u001B[39;49m\u001B[43mgraph_function\u001B[49m\u001B[38;5;241;43m.\u001B[39;49m\u001B[43mcaptured_inputs\u001B[49m\u001B[43m)\u001B[49m\n",
      "File \u001B[0;32m~/.local/share/virtualenvs/Cosy-QaLDgKkW/lib/python3.9/site-packages/tensorflow/python/eager/function.py:1860\u001B[0m, in \u001B[0;36mConcreteFunction._call_flat\u001B[0;34m(self, args, captured_inputs, cancellation_manager)\u001B[0m\n\u001B[1;32m   1856\u001B[0m possible_gradient_type \u001B[38;5;241m=\u001B[39m gradients_util\u001B[38;5;241m.\u001B[39mPossibleTapeGradientTypes(args)\n\u001B[1;32m   1857\u001B[0m \u001B[38;5;28;01mif\u001B[39;00m (possible_gradient_type \u001B[38;5;241m==\u001B[39m gradients_util\u001B[38;5;241m.\u001B[39mPOSSIBLE_GRADIENT_TYPES_NONE\n\u001B[1;32m   1858\u001B[0m     \u001B[38;5;129;01mand\u001B[39;00m executing_eagerly):\n\u001B[1;32m   1859\u001B[0m   \u001B[38;5;66;03m# No tape is watching; skip to running the function.\u001B[39;00m\n\u001B[0;32m-> 1860\u001B[0m   \u001B[38;5;28;01mreturn\u001B[39;00m \u001B[38;5;28mself\u001B[39m\u001B[38;5;241m.\u001B[39m_build_call_outputs(\u001B[38;5;28;43mself\u001B[39;49m\u001B[38;5;241;43m.\u001B[39;49m\u001B[43m_inference_function\u001B[49m\u001B[38;5;241;43m.\u001B[39;49m\u001B[43mcall\u001B[49m\u001B[43m(\u001B[49m\n\u001B[1;32m   1861\u001B[0m \u001B[43m      \u001B[49m\u001B[43mctx\u001B[49m\u001B[43m,\u001B[49m\u001B[43m \u001B[49m\u001B[43margs\u001B[49m\u001B[43m,\u001B[49m\u001B[43m \u001B[49m\u001B[43mcancellation_manager\u001B[49m\u001B[38;5;241;43m=\u001B[39;49m\u001B[43mcancellation_manager\u001B[49m\u001B[43m)\u001B[49m)\n\u001B[1;32m   1862\u001B[0m forward_backward \u001B[38;5;241m=\u001B[39m \u001B[38;5;28mself\u001B[39m\u001B[38;5;241m.\u001B[39m_select_forward_and_backward_functions(\n\u001B[1;32m   1863\u001B[0m     args,\n\u001B[1;32m   1864\u001B[0m     possible_gradient_type,\n\u001B[1;32m   1865\u001B[0m     executing_eagerly)\n\u001B[1;32m   1866\u001B[0m forward_function, args_with_tangents \u001B[38;5;241m=\u001B[39m forward_backward\u001B[38;5;241m.\u001B[39mforward()\n",
      "File \u001B[0;32m~/.local/share/virtualenvs/Cosy-QaLDgKkW/lib/python3.9/site-packages/tensorflow/python/eager/function.py:497\u001B[0m, in \u001B[0;36m_EagerDefinedFunction.call\u001B[0;34m(self, ctx, args, cancellation_manager)\u001B[0m\n\u001B[1;32m    495\u001B[0m \u001B[38;5;28;01mwith\u001B[39;00m _InterpolateFunctionError(\u001B[38;5;28mself\u001B[39m):\n\u001B[1;32m    496\u001B[0m   \u001B[38;5;28;01mif\u001B[39;00m cancellation_manager \u001B[38;5;129;01mis\u001B[39;00m \u001B[38;5;28;01mNone\u001B[39;00m:\n\u001B[0;32m--> 497\u001B[0m     outputs \u001B[38;5;241m=\u001B[39m \u001B[43mexecute\u001B[49m\u001B[38;5;241;43m.\u001B[39;49m\u001B[43mexecute\u001B[49m\u001B[43m(\u001B[49m\n\u001B[1;32m    498\u001B[0m \u001B[43m        \u001B[49m\u001B[38;5;28;43mstr\u001B[39;49m\u001B[43m(\u001B[49m\u001B[38;5;28;43mself\u001B[39;49m\u001B[38;5;241;43m.\u001B[39;49m\u001B[43msignature\u001B[49m\u001B[38;5;241;43m.\u001B[39;49m\u001B[43mname\u001B[49m\u001B[43m)\u001B[49m\u001B[43m,\u001B[49m\n\u001B[1;32m    499\u001B[0m \u001B[43m        \u001B[49m\u001B[43mnum_outputs\u001B[49m\u001B[38;5;241;43m=\u001B[39;49m\u001B[38;5;28;43mself\u001B[39;49m\u001B[38;5;241;43m.\u001B[39;49m\u001B[43m_num_outputs\u001B[49m\u001B[43m,\u001B[49m\n\u001B[1;32m    500\u001B[0m \u001B[43m        \u001B[49m\u001B[43minputs\u001B[49m\u001B[38;5;241;43m=\u001B[39;49m\u001B[43margs\u001B[49m\u001B[43m,\u001B[49m\n\u001B[1;32m    501\u001B[0m \u001B[43m        \u001B[49m\u001B[43mattrs\u001B[49m\u001B[38;5;241;43m=\u001B[39;49m\u001B[43mattrs\u001B[49m\u001B[43m,\u001B[49m\n\u001B[1;32m    502\u001B[0m \u001B[43m        \u001B[49m\u001B[43mctx\u001B[49m\u001B[38;5;241;43m=\u001B[39;49m\u001B[43mctx\u001B[49m\u001B[43m)\u001B[49m\n\u001B[1;32m    503\u001B[0m   \u001B[38;5;28;01melse\u001B[39;00m:\n\u001B[1;32m    504\u001B[0m     outputs \u001B[38;5;241m=\u001B[39m execute\u001B[38;5;241m.\u001B[39mexecute_with_cancellation(\n\u001B[1;32m    505\u001B[0m         \u001B[38;5;28mstr\u001B[39m(\u001B[38;5;28mself\u001B[39m\u001B[38;5;241m.\u001B[39msignature\u001B[38;5;241m.\u001B[39mname),\n\u001B[1;32m    506\u001B[0m         num_outputs\u001B[38;5;241m=\u001B[39m\u001B[38;5;28mself\u001B[39m\u001B[38;5;241m.\u001B[39m_num_outputs,\n\u001B[0;32m   (...)\u001B[0m\n\u001B[1;32m    509\u001B[0m         ctx\u001B[38;5;241m=\u001B[39mctx,\n\u001B[1;32m    510\u001B[0m         cancellation_manager\u001B[38;5;241m=\u001B[39mcancellation_manager)\n",
      "File \u001B[0;32m~/.local/share/virtualenvs/Cosy-QaLDgKkW/lib/python3.9/site-packages/tensorflow/python/eager/execute.py:54\u001B[0m, in \u001B[0;36mquick_execute\u001B[0;34m(op_name, num_outputs, inputs, attrs, ctx, name)\u001B[0m\n\u001B[1;32m     52\u001B[0m \u001B[38;5;28;01mtry\u001B[39;00m:\n\u001B[1;32m     53\u001B[0m   ctx\u001B[38;5;241m.\u001B[39mensure_initialized()\n\u001B[0;32m---> 54\u001B[0m   tensors \u001B[38;5;241m=\u001B[39m \u001B[43mpywrap_tfe\u001B[49m\u001B[38;5;241;43m.\u001B[39;49m\u001B[43mTFE_Py_Execute\u001B[49m\u001B[43m(\u001B[49m\u001B[43mctx\u001B[49m\u001B[38;5;241;43m.\u001B[39;49m\u001B[43m_handle\u001B[49m\u001B[43m,\u001B[49m\u001B[43m \u001B[49m\u001B[43mdevice_name\u001B[49m\u001B[43m,\u001B[49m\u001B[43m \u001B[49m\u001B[43mop_name\u001B[49m\u001B[43m,\u001B[49m\n\u001B[1;32m     55\u001B[0m \u001B[43m                                      \u001B[49m\u001B[43minputs\u001B[49m\u001B[43m,\u001B[49m\u001B[43m \u001B[49m\u001B[43mattrs\u001B[49m\u001B[43m,\u001B[49m\u001B[43m \u001B[49m\u001B[43mnum_outputs\u001B[49m\u001B[43m)\u001B[49m\n\u001B[1;32m     56\u001B[0m \u001B[38;5;28;01mexcept\u001B[39;00m core\u001B[38;5;241m.\u001B[39m_NotOkStatusException \u001B[38;5;28;01mas\u001B[39;00m e:\n\u001B[1;32m     57\u001B[0m   \u001B[38;5;28;01mif\u001B[39;00m name \u001B[38;5;129;01mis\u001B[39;00m \u001B[38;5;129;01mnot\u001B[39;00m \u001B[38;5;28;01mNone\u001B[39;00m:\n",
      "\u001B[0;31mKeyboardInterrupt\u001B[0m: "
     ]
    }
   ],
   "source": [
    "cosy_model.fit(\n",
    "    x=X_train, y=[y_N2, y_CO2, y_SO2],\n",
    "    validation_data=(X_val, [y_N2_val, y_CO2_val, y_SO2_val]),\n",
    "    batch_size=32, epochs = 4, verbose=1\n",
    ")"
   ],
   "metadata": {
    "collapsed": false,
    "pycharm": {
     "name": "#%%\n"
    }
   }
  },
  {
   "cell_type": "code",
   "execution_count": null,
   "outputs": [],
   "source": [
    "models = cosy_model.get_models()"
   ],
   "metadata": {
    "collapsed": false,
    "pycharm": {
     "name": "#%%\n"
    }
   }
  },
  {
   "cell_type": "code",
   "execution_count": null,
   "outputs": [],
   "source": [
    "params = cosy_model._get_parameters()"
   ],
   "metadata": {
    "collapsed": false,
    "pycharm": {
     "name": "#%%\n"
    }
   }
  },
  {
   "cell_type": "code",
   "execution_count": null,
   "outputs": [],
   "source": [
    "from cosy.losses import trace_norm, squared_frobenius_norm"
   ],
   "metadata": {
    "collapsed": false,
    "pycharm": {
     "name": "#%%\n"
    }
   }
  },
  {
   "cell_type": "code",
   "execution_count": null,
   "outputs": [],
   "source": [
    "trace_norm(params, [0.5, 0.5, 0.5])"
   ],
   "metadata": {
    "collapsed": false,
    "pycharm": {
     "name": "#%%\n"
    }
   }
  },
  {
   "cell_type": "code",
   "execution_count": null,
   "outputs": [],
   "source": [
    "squared_frobenius_norm(params, [0.5, 0.5, 0.5])"
   ],
   "metadata": {
    "collapsed": false,
    "pycharm": {
     "name": "#%%\n"
    }
   }
  },
  {
   "cell_type": "code",
   "execution_count": null,
   "outputs": [],
   "source": [
    "from sklearn.metrics import r2_score\n",
    "cosy_model.evaluate(X_test, [y_N2_test, y_CO2_test, y_SO2_test])\n",
    "predictions = cosy_model.predict(X_test)\n",
    "\n",
    "R2 = tfa.metrics.RSquare()\n",
    "\n",
    "pred1 = np.array(predictions[0]).reshape(-1)\n",
    "pred2 = np.array(predictions[1]).reshape(-1)\n",
    "pred3 = np.array(predictions[2]).reshape(-1)\n",
    "\n",
    "\n",
    "print(r2_score(y_N2_test, pred1))\n",
    "print(r2_score(y_CO2_test, pred2))\n",
    "print(r2_score(y_SO2_test, pred3))"
   ],
   "metadata": {
    "collapsed": false,
    "pycharm": {
     "name": "#%%\n"
    }
   }
  },
  {
   "cell_type": "code",
   "execution_count": null,
   "outputs": [],
   "source": [
    "import itertools\n",
    "\n",
    "\n",
    "def squared_frobenius_norm(parameters, lambdas):\n",
    "    \"\"\"Computes the overall loss for soft parameter sharing between multiple neural networks.\"\"\"\n",
    "    losses = []\n",
    "    for W, lambd in zip(parameters, lambdas):\n",
    "        losses.append(pairwise_loss_squared_frobenius(W, lambd))\n",
    "    return tf.reduce_sum(losses)"
   ],
   "metadata": {
    "collapsed": false,
    "pycharm": {
     "name": "#%%\n"
    }
   }
  },
  {
   "cell_type": "code",
   "execution_count": null,
   "outputs": [],
   "source": [
    "import numpy as np\n",
    "parameters = np.array([\n",
    "        [tf.zeros((2, 2)), tf.ones((2, 2)), tf.zeros((2, 2))],\n",
    "        [tf.ones((2, 2)), tf.ones((2, 2)), tf.ones((2, 2))],\n",
    "        [tf.ones((2, 2)), tf.zeros((2, 2)), tf.ones((2, 2))],\n",
    "    ])\n",
    "\n",
    "lambdas = [0.5, 0.5, 0.5]"
   ],
   "metadata": {
    "collapsed": false,
    "pycharm": {
     "name": "#%%\n"
    }
   }
  },
  {
   "cell_type": "code",
   "execution_count": null,
   "outputs": [],
   "source": [
    "loss = 0\n",
    "for lam, param in zip(lambdas, parameters):\n",
    "    norm1 = np.linalg.norm(param[0] - param[1], ord='fro') ** 2\n",
    "    norm2 = np.linalg.norm(param[0] - param[2], ord='fro') ** 2\n",
    "    norm3 = np.linalg.norm(param[1] - param[2], ord='fro') ** 2\n",
    "    loss += lam * (norm1 + norm2 + norm3)"
   ],
   "metadata": {
    "collapsed": false,
    "pycharm": {
     "name": "#%%\n"
    }
   }
  },
  {
   "cell_type": "code",
   "execution_count": null,
   "outputs": [],
   "source": [
    "loss"
   ],
   "metadata": {
    "collapsed": false,
    "pycharm": {
     "name": "#%%\n"
    }
   }
  },
  {
   "cell_type": "code",
   "execution_count": null,
   "outputs": [],
   "source": [
    "loss = 0\n",
    "for lam, param in zip(lambdas, parameters):\n",
    "    norm1 = np.linalg.norm(param[0] - param[1], ord='nuc') ** 2\n",
    "    norm2 = np.linalg.norm(param[0] - param[2], ord='nuc') ** 2\n",
    "    norm3 = np.linalg.norm(param[1] - param[2], ord='nuc') ** 2\n",
    "    loss += lam * (norm1 + norm2 + norm3)"
   ],
   "metadata": {
    "collapsed": false,
    "pycharm": {
     "name": "#%%\n"
    }
   }
  },
  {
   "cell_type": "code",
   "execution_count": null,
   "outputs": [],
   "source": [
    "loss"
   ],
   "metadata": {
    "collapsed": false,
    "pycharm": {
     "name": "#%%\n"
    }
   }
  },
  {
   "cell_type": "code",
   "execution_count": null,
   "outputs": [],
   "source": [
    "weights = [np.array([[1, 2], [3, 4]]), np.array([[2, 4], [6, 8]])]"
   ],
   "metadata": {
    "collapsed": false,
    "pycharm": {
     "name": "#%%\n"
    }
   }
  },
  {
   "cell_type": "code",
   "execution_count": null,
   "outputs": [],
   "source": [
    "def pairwise_loss_squared_frobenius(W, lambd):\n",
    "    \"\"\"Computes the pairwise weight-sharing loss between a list of weight matrices.\"\"\"\n",
    "    squared_norms = []\n",
    "    for Wi, Wj in itertools.combinations(W, 2):\n",
    "        squared_norms.append(tf.norm(Wi - Wj, ord=\"fro\", axis=(0, 1)) ** 2)\n",
    "    loss = lambd * tf.reduce_sum(squared_norms)\n",
    "    return loss\n"
   ],
   "metadata": {
    "collapsed": false,
    "pycharm": {
     "name": "#%%\n"
    }
   }
  },
  {
   "cell_type": "code",
   "execution_count": null,
   "outputs": [],
   "source": [
    "norm1 = np.linalg.norm(weights[0] - weights[1], ord='fro') ** 2"
   ],
   "metadata": {
    "collapsed": false,
    "pycharm": {
     "name": "#%%\n"
    }
   }
  },
  {
   "cell_type": "code",
   "execution_count": null,
   "outputs": [],
   "source": [
    "norm1"
   ],
   "metadata": {
    "collapsed": false,
    "pycharm": {
     "name": "#%%\n"
    }
   }
  },
  {
   "cell_type": "code",
   "execution_count": null,
   "outputs": [],
   "source": [
    "W_tf = [tf.constant(Wi, dtype=tf.float32) for Wi in weights]\n",
    "pairwise_loss_squared_frobenius(W_tf, 1.0)"
   ],
   "metadata": {
    "collapsed": false,
    "pycharm": {
     "name": "#%%\n"
    }
   }
  },
  {
   "cell_type": "code",
   "execution_count": null,
   "outputs": [],
   "source": [],
   "metadata": {
    "collapsed": false,
    "pycharm": {
     "name": "#%%\n"
    }
   }
  },
  {
   "cell_type": "code",
   "execution_count": null,
   "outputs": [],
   "source": [],
   "metadata": {
    "collapsed": false,
    "pycharm": {
     "name": "#%%\n"
    }
   }
  }
 ],
 "metadata": {
  "kernelspec": {
   "display_name": "Python 3",
   "language": "python",
   "name": "python3"
  },
  "language_info": {
   "codemirror_mode": {
    "name": "ipython",
    "version": 2
   },
   "file_extension": ".py",
   "mimetype": "text/x-python",
   "name": "python",
   "nbconvert_exporter": "python",
   "pygments_lexer": "ipython2",
   "version": "2.7.6"
  }
 },
 "nbformat": 4,
 "nbformat_minor": 0
}
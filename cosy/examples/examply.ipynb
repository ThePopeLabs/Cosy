{
 "cells": [
  {
   "cell_type": "code",
   "execution_count": 1,
   "outputs": [],
   "source": [
    "import numpy as np\n",
    "import tensorflow as tf\n",
    "import tensorflow_addons as tfa\n",
    "import pandas as pd\n",
    "from sklearn.model_selection import train_test_split\n",
    "from sklearn.preprocessing import StandardScaler\n",
    "from cosy.models import CosyNetMultiInput\n",
    "from cosy.losses import trace_norm_loss, MaskedMeanSquaredError"
   ],
   "metadata": {
    "collapsed": false,
    "pycharm": {
     "name": "#%%\n"
    }
   }
  },
  {
   "cell_type": "code",
   "execution_count": 2,
   "outputs": [
    {
     "data": {
      "text/plain": "   Unnamed: 0     framework  CO2_tp_lod  N2_tp_lod  SO2_tp_lod  \\\n0           0  GIQXUA_clean    1.918899   0.017520    2.747258   \n1           1  JALPAQ_clean    0.050226   0.027788    0.008087   \n2           2  SAQQEH_clean    2.006302   0.249367    0.533491   \n3           3  BEFNEH_clean    1.036156   0.033717    1.343768   \n4           4  GELVID_clean    0.552087   0.064768    0.027879   \n\n   RDF_electronegativity_2.00  RDF_electronegativity_2.00.1  \\\n0                    0.000605                      0.000606   \n1                    0.000861                      0.000870   \n2                    0.000771                      0.000781   \n3                    0.000899                      0.000899   \n4                    0.000820                      0.000831   \n\n   RDF_electronegativity_2.01  RDF_electronegativity_2.03  \\\n0                    0.000607                    0.000609   \n1                    0.000888                    0.000916   \n2                    0.000802                    0.000833   \n3                    0.000900                    0.000903   \n4                    0.000852                    0.000884   \n\n   RDF_electronegativity_2.04  ...  RDF_vdWaalsVolume_28.53  \\\n0                    0.000614  ...                      0.0   \n1                    0.000954  ...                      0.0   \n2                    0.000876  ...                      0.0   \n3                    0.000910  ...                      0.0   \n4                    0.000928  ...                      0.0   \n\n   RDF_vdWaalsVolume_29.01  RDF_vdWaalsVolume_29.51  RDF_vdWaalsVolume_30.00  \\\n0                      0.0                      0.0                      0.0   \n1                      0.0                      0.0                      0.0   \n2                      0.0                      0.0                      0.0   \n3                      0.0                      0.0                      0.0   \n4                      0.0                      0.0                      0.0   \n\n       PLD       LCD   density       VF       SAv       SAg  \n0  3.86870   4.89334  1.792830  0.13844  2675.750  1492.470  \n1  2.90553   3.97550  1.660880  0.01992   841.869   506.881  \n2  9.13279  10.56525  0.914389  0.35942  2030.210  2220.290  \n3  3.33494   4.26940  2.165640  0.07290  1864.990   861.172  \n4  2.43534   3.61901  1.574130  0.02776  1334.150   847.547  \n\n[5 rows x 350 columns]",
      "text/html": "<div>\n<style scoped>\n    .dataframe tbody tr th:only-of-type {\n        vertical-align: middle;\n    }\n\n    .dataframe tbody tr th {\n        vertical-align: top;\n    }\n\n    .dataframe thead th {\n        text-align: right;\n    }\n</style>\n<table border=\"1\" class=\"dataframe\">\n  <thead>\n    <tr style=\"text-align: right;\">\n      <th></th>\n      <th>Unnamed: 0</th>\n      <th>framework</th>\n      <th>CO2_tp_lod</th>\n      <th>N2_tp_lod</th>\n      <th>SO2_tp_lod</th>\n      <th>RDF_electronegativity_2.00</th>\n      <th>RDF_electronegativity_2.00.1</th>\n      <th>RDF_electronegativity_2.01</th>\n      <th>RDF_electronegativity_2.03</th>\n      <th>RDF_electronegativity_2.04</th>\n      <th>...</th>\n      <th>RDF_vdWaalsVolume_28.53</th>\n      <th>RDF_vdWaalsVolume_29.01</th>\n      <th>RDF_vdWaalsVolume_29.51</th>\n      <th>RDF_vdWaalsVolume_30.00</th>\n      <th>PLD</th>\n      <th>LCD</th>\n      <th>density</th>\n      <th>VF</th>\n      <th>SAv</th>\n      <th>SAg</th>\n    </tr>\n  </thead>\n  <tbody>\n    <tr>\n      <th>0</th>\n      <td>0</td>\n      <td>GIQXUA_clean</td>\n      <td>1.918899</td>\n      <td>0.017520</td>\n      <td>2.747258</td>\n      <td>0.000605</td>\n      <td>0.000606</td>\n      <td>0.000607</td>\n      <td>0.000609</td>\n      <td>0.000614</td>\n      <td>...</td>\n      <td>0.0</td>\n      <td>0.0</td>\n      <td>0.0</td>\n      <td>0.0</td>\n      <td>3.86870</td>\n      <td>4.89334</td>\n      <td>1.792830</td>\n      <td>0.13844</td>\n      <td>2675.750</td>\n      <td>1492.470</td>\n    </tr>\n    <tr>\n      <th>1</th>\n      <td>1</td>\n      <td>JALPAQ_clean</td>\n      <td>0.050226</td>\n      <td>0.027788</td>\n      <td>0.008087</td>\n      <td>0.000861</td>\n      <td>0.000870</td>\n      <td>0.000888</td>\n      <td>0.000916</td>\n      <td>0.000954</td>\n      <td>...</td>\n      <td>0.0</td>\n      <td>0.0</td>\n      <td>0.0</td>\n      <td>0.0</td>\n      <td>2.90553</td>\n      <td>3.97550</td>\n      <td>1.660880</td>\n      <td>0.01992</td>\n      <td>841.869</td>\n      <td>506.881</td>\n    </tr>\n    <tr>\n      <th>2</th>\n      <td>2</td>\n      <td>SAQQEH_clean</td>\n      <td>2.006302</td>\n      <td>0.249367</td>\n      <td>0.533491</td>\n      <td>0.000771</td>\n      <td>0.000781</td>\n      <td>0.000802</td>\n      <td>0.000833</td>\n      <td>0.000876</td>\n      <td>...</td>\n      <td>0.0</td>\n      <td>0.0</td>\n      <td>0.0</td>\n      <td>0.0</td>\n      <td>9.13279</td>\n      <td>10.56525</td>\n      <td>0.914389</td>\n      <td>0.35942</td>\n      <td>2030.210</td>\n      <td>2220.290</td>\n    </tr>\n    <tr>\n      <th>3</th>\n      <td>3</td>\n      <td>BEFNEH_clean</td>\n      <td>1.036156</td>\n      <td>0.033717</td>\n      <td>1.343768</td>\n      <td>0.000899</td>\n      <td>0.000899</td>\n      <td>0.000900</td>\n      <td>0.000903</td>\n      <td>0.000910</td>\n      <td>...</td>\n      <td>0.0</td>\n      <td>0.0</td>\n      <td>0.0</td>\n      <td>0.0</td>\n      <td>3.33494</td>\n      <td>4.26940</td>\n      <td>2.165640</td>\n      <td>0.07290</td>\n      <td>1864.990</td>\n      <td>861.172</td>\n    </tr>\n    <tr>\n      <th>4</th>\n      <td>4</td>\n      <td>GELVID_clean</td>\n      <td>0.552087</td>\n      <td>0.064768</td>\n      <td>0.027879</td>\n      <td>0.000820</td>\n      <td>0.000831</td>\n      <td>0.000852</td>\n      <td>0.000884</td>\n      <td>0.000928</td>\n      <td>...</td>\n      <td>0.0</td>\n      <td>0.0</td>\n      <td>0.0</td>\n      <td>0.0</td>\n      <td>2.43534</td>\n      <td>3.61901</td>\n      <td>1.574130</td>\n      <td>0.02776</td>\n      <td>1334.150</td>\n      <td>847.547</td>\n    </tr>\n  </tbody>\n</table>\n<p>5 rows × 350 columns</p>\n</div>"
     },
     "execution_count": 2,
     "metadata": {},
     "output_type": "execute_result"
    }
   ],
   "source": [
    "df = pd.read_csv(\"/Users/tompope/Documents/python_enviroment/SoftwareDevelopment/soft_parameter_sharing/data/desulferization_data_w_tobacc.csv\")\n",
    "df.head()"
   ],
   "metadata": {
    "collapsed": false,
    "pycharm": {
     "name": "#%%\n"
    }
   }
  },
  {
   "cell_type": "code",
   "execution_count": 3,
   "outputs": [],
   "source": [
    "'''\n",
    "  - read data into dataframe\n",
    "  - generate class data\n",
    "  - extract and split feature and class data\n",
    "  - scale feature data\n",
    "'''\n",
    "\n",
    "\n",
    "df = df.sample(frac=1).reset_index(drop=True)\n",
    "df.drop(columns=['Unnamed: 0'], inplace=True)\n",
    "# df = df[df.framework.str.startswith('str_')]\n",
    "\n",
    "\n",
    "train_df_full, test_df = train_test_split(df, test_size=0.2, random_state=2020)\n",
    "\n",
    "train_df, val_df = train_test_split(train_df_full, test_size=0.1, random_state=2020)\n",
    "\n",
    "X_train = train_df.iloc[:, 4:].to_numpy().astype(np.float32)\n",
    "X_train_CO2 = train_df.iloc[:, 4:-6].to_numpy().astype(np.float32)\n",
    "\n",
    "y_CO2 = train_df.CO2_tp_lod.to_numpy().astype(np.float32)\n",
    "y_N2 = train_df.N2_tp_lod.to_numpy().astype(np.float32)\n",
    "y_SO2 = train_df.SO2_tp_lod.to_numpy().astype(np.float32)\n",
    "\n",
    "X_val = val_df.iloc[:, 4:].to_numpy().astype(np.float32)\n",
    "X_val_CO2 = val_df.iloc[:, 4:-6].to_numpy().astype(np.float32)\n",
    "y_CO2_val = val_df.CO2_tp_lod.to_numpy().astype(np.float32)\n",
    "y_N2_val = val_df.N2_tp_lod.to_numpy().astype(np.float32)\n",
    "y_SO2_val = val_df.SO2_tp_lod.to_numpy().astype(np.float32)\n",
    "\n",
    "X_test = test_df.iloc[:, 4:].to_numpy().astype(np.float32)\n",
    "X_test_CO2 = test_df.iloc[:, 4:-6].to_numpy().astype(np.float32)\n",
    "y_CO2_test =  test_df.CO2_tp_lod.to_numpy().astype(np.float32)\n",
    "y_N2_test = test_df.N2_tp_lod.to_numpy().astype(np.float32)\n",
    "y_SO2_test = test_df.SO2_tp_lod.to_numpy().astype(np.float32)\n",
    "\n",
    "\n",
    "# y_CO2[100:1000] = -1\n",
    "\n",
    "sc = StandardScaler()\n",
    "\n",
    "\n",
    "X_train = sc.fit_transform(X_train)\n",
    "X_val = sc.transform(X_val)\n",
    "X_test = sc.transform(X_test)"
   ],
   "metadata": {
    "collapsed": false,
    "pycharm": {
     "name": "#%%\n"
    }
   }
  },
  {
   "cell_type": "code",
   "execution_count": 4,
   "outputs": [
    {
     "data": {
      "text/plain": "                                         framework  CO2_tp_lod  N2_tp_lod  \\\n0                                   VOZVIR01_clean    0.243592   0.118635   \n1  str_m2_o25_o28_f0_nbo_sym_111_faps_mpnn_charges    0.183181   0.317703   \n2                                     CUNWEO_clean    0.952602   0.138539   \n3   str_m2_o13_o22_f0_pcu_sym_64_faps_mpnn_charges    0.434624   0.228501   \n4    str_m3_o3_o9_f0_nbo_sym_117_faps_mpnn_charges    0.336151   0.251086   \n\n   SO2_tp_lod  RDF_electronegativity_2.00  RDF_electronegativity_2.00.1  \\\n0    0.031885                    0.000714                      0.000723   \n1    0.048971                    0.000758                      0.000768   \n2    0.699509                    0.000740                      0.000753   \n3    0.054699                    0.000782                      0.000793   \n4    0.079782                    0.000745                      0.000756   \n\n   RDF_electronegativity_2.01  RDF_electronegativity_2.03  \\\n0                    0.000740                    0.000766   \n1                    0.000790                    0.000824   \n2                    0.000777                    0.000816   \n3                    0.000816                    0.000852   \n4                    0.000778                    0.000811   \n\n   RDF_electronegativity_2.04  RDF_electronegativity_2.07  ...  \\\n0                    0.000802                    0.000848  ...   \n1                    0.000871                    0.000933  ...   \n2                    0.000870                    0.000940  ...   \n3                    0.000900                    0.000963  ...   \n4                    0.000857                    0.000916  ...   \n\n   RDF_vdWaalsVolume_28.53  RDF_vdWaalsVolume_29.01  RDF_vdWaalsVolume_29.51  \\\n0                 0.000000                 0.000000                 0.000000   \n1                 0.001182                 0.001237                 0.001512   \n2                 0.000000                 0.000000                 0.000000   \n3                 0.000000                 0.000000                 0.000000   \n4                 0.000605                 0.000155                 0.000286   \n\n   RDF_vdWaalsVolume_30.00       PLD       LCD   density       VF      SAv  \\\n0                 0.000000   5.57973   8.87661  1.346080  0.24614  2074.24   \n1                 0.001240  16.49478  25.98730  0.177762  0.81886  1013.90   \n2                 0.000000   6.48545   7.07961  1.231460  0.18212  1539.74   \n3                 0.000000   6.08678   8.27915  0.822739  0.28594  2461.09   \n4                 0.000012  12.95626  16.16932  0.289265  0.68368  1568.94   \n\n       SAg  \n0  1540.95  \n1  5703.65  \n2  1250.34  \n3  2991.33  \n4  5423.89  \n\n[5 rows x 349 columns]",
      "text/html": "<div>\n<style scoped>\n    .dataframe tbody tr th:only-of-type {\n        vertical-align: middle;\n    }\n\n    .dataframe tbody tr th {\n        vertical-align: top;\n    }\n\n    .dataframe thead th {\n        text-align: right;\n    }\n</style>\n<table border=\"1\" class=\"dataframe\">\n  <thead>\n    <tr style=\"text-align: right;\">\n      <th></th>\n      <th>framework</th>\n      <th>CO2_tp_lod</th>\n      <th>N2_tp_lod</th>\n      <th>SO2_tp_lod</th>\n      <th>RDF_electronegativity_2.00</th>\n      <th>RDF_electronegativity_2.00.1</th>\n      <th>RDF_electronegativity_2.01</th>\n      <th>RDF_electronegativity_2.03</th>\n      <th>RDF_electronegativity_2.04</th>\n      <th>RDF_electronegativity_2.07</th>\n      <th>...</th>\n      <th>RDF_vdWaalsVolume_28.53</th>\n      <th>RDF_vdWaalsVolume_29.01</th>\n      <th>RDF_vdWaalsVolume_29.51</th>\n      <th>RDF_vdWaalsVolume_30.00</th>\n      <th>PLD</th>\n      <th>LCD</th>\n      <th>density</th>\n      <th>VF</th>\n      <th>SAv</th>\n      <th>SAg</th>\n    </tr>\n  </thead>\n  <tbody>\n    <tr>\n      <th>0</th>\n      <td>VOZVIR01_clean</td>\n      <td>0.243592</td>\n      <td>0.118635</td>\n      <td>0.031885</td>\n      <td>0.000714</td>\n      <td>0.000723</td>\n      <td>0.000740</td>\n      <td>0.000766</td>\n      <td>0.000802</td>\n      <td>0.000848</td>\n      <td>...</td>\n      <td>0.000000</td>\n      <td>0.000000</td>\n      <td>0.000000</td>\n      <td>0.000000</td>\n      <td>5.57973</td>\n      <td>8.87661</td>\n      <td>1.346080</td>\n      <td>0.24614</td>\n      <td>2074.24</td>\n      <td>1540.95</td>\n    </tr>\n    <tr>\n      <th>1</th>\n      <td>str_m2_o25_o28_f0_nbo_sym_111_faps_mpnn_charges</td>\n      <td>0.183181</td>\n      <td>0.317703</td>\n      <td>0.048971</td>\n      <td>0.000758</td>\n      <td>0.000768</td>\n      <td>0.000790</td>\n      <td>0.000824</td>\n      <td>0.000871</td>\n      <td>0.000933</td>\n      <td>...</td>\n      <td>0.001182</td>\n      <td>0.001237</td>\n      <td>0.001512</td>\n      <td>0.001240</td>\n      <td>16.49478</td>\n      <td>25.98730</td>\n      <td>0.177762</td>\n      <td>0.81886</td>\n      <td>1013.90</td>\n      <td>5703.65</td>\n    </tr>\n    <tr>\n      <th>2</th>\n      <td>CUNWEO_clean</td>\n      <td>0.952602</td>\n      <td>0.138539</td>\n      <td>0.699509</td>\n      <td>0.000740</td>\n      <td>0.000753</td>\n      <td>0.000777</td>\n      <td>0.000816</td>\n      <td>0.000870</td>\n      <td>0.000940</td>\n      <td>...</td>\n      <td>0.000000</td>\n      <td>0.000000</td>\n      <td>0.000000</td>\n      <td>0.000000</td>\n      <td>6.48545</td>\n      <td>7.07961</td>\n      <td>1.231460</td>\n      <td>0.18212</td>\n      <td>1539.74</td>\n      <td>1250.34</td>\n    </tr>\n    <tr>\n      <th>3</th>\n      <td>str_m2_o13_o22_f0_pcu_sym_64_faps_mpnn_charges</td>\n      <td>0.434624</td>\n      <td>0.228501</td>\n      <td>0.054699</td>\n      <td>0.000782</td>\n      <td>0.000793</td>\n      <td>0.000816</td>\n      <td>0.000852</td>\n      <td>0.000900</td>\n      <td>0.000963</td>\n      <td>...</td>\n      <td>0.000000</td>\n      <td>0.000000</td>\n      <td>0.000000</td>\n      <td>0.000000</td>\n      <td>6.08678</td>\n      <td>8.27915</td>\n      <td>0.822739</td>\n      <td>0.28594</td>\n      <td>2461.09</td>\n      <td>2991.33</td>\n    </tr>\n    <tr>\n      <th>4</th>\n      <td>str_m3_o3_o9_f0_nbo_sym_117_faps_mpnn_charges</td>\n      <td>0.336151</td>\n      <td>0.251086</td>\n      <td>0.079782</td>\n      <td>0.000745</td>\n      <td>0.000756</td>\n      <td>0.000778</td>\n      <td>0.000811</td>\n      <td>0.000857</td>\n      <td>0.000916</td>\n      <td>...</td>\n      <td>0.000605</td>\n      <td>0.000155</td>\n      <td>0.000286</td>\n      <td>0.000012</td>\n      <td>12.95626</td>\n      <td>16.16932</td>\n      <td>0.289265</td>\n      <td>0.68368</td>\n      <td>1568.94</td>\n      <td>5423.89</td>\n    </tr>\n  </tbody>\n</table>\n<p>5 rows × 349 columns</p>\n</div>"
     },
     "execution_count": 4,
     "metadata": {},
     "output_type": "execute_result"
    }
   ],
   "source": [
    "df.head()"
   ],
   "metadata": {
    "collapsed": false,
    "pycharm": {
     "name": "#%%\n"
    }
   }
  },
  {
   "cell_type": "code",
   "execution_count": 5,
   "outputs": [
    {
     "name": "stdout",
     "output_type": "stream",
     "text": [
      "Metal device set to: Apple M1\n"
     ]
    },
    {
     "name": "stderr",
     "output_type": "stream",
     "text": [
      "2023-02-20 14:44:34.111893: I tensorflow/core/common_runtime/pluggable_device/pluggable_device_factory.cc:305] Could not identify NUMA node of platform GPU ID 0, defaulting to 0. Your kernel may not have been built with NUMA support.\n",
      "2023-02-20 14:44:34.112338: I tensorflow/core/common_runtime/pluggable_device/pluggable_device_factory.cc:271] Created TensorFlow device (/job:localhost/replica:0/task:0/device:GPU:0 with 0 MB memory) -> physical PluggableDevice (device: 0, name: METAL, pci bus id: <undefined>)\n"
     ]
    }
   ],
   "source": [
    "input_ = tf.keras.Input(shape=(X_train.shape[1]))\n",
    "x = tf.keras.layers.Dense(1200, activation='relu')(input_)\n",
    "x = tf.keras.layers.Dropout(0.1)(x)\n",
    "x = tf.keras.layers.Dense(400, activation='relu')(x)\n",
    "x = tf.keras.layers.Dropout(0.1)(x)\n",
    "x = tf.keras.layers.Dense(500, activation='relu')(x)\n",
    "x = tf.keras.layers.Dropout(0.1)(x)\n",
    "x = tf.keras.layers.Dense(1, activation='relu')(x)\n",
    "\n",
    "model = tf.keras.Model(inputs=input_, outputs=x)"
   ],
   "metadata": {
    "collapsed": false,
    "pycharm": {
     "name": "#%%\n"
    }
   }
  },
  {
   "cell_type": "code",
   "execution_count": 6,
   "outputs": [],
   "source": [
    "input_ = tf.keras.Input(shape=(X_train_CO2.shape[1]))\n",
    "x = tf.keras.layers.Dense(1200, activation='relu')(input_)\n",
    "x = tf.keras.layers.Dropout(0.1)(x)\n",
    "x = tf.keras.layers.Dense(400, activation='relu')(x)\n",
    "x = tf.keras.layers.Dropout(0.1)(x)\n",
    "x = tf.keras.layers.Dense(500, activation='relu')(x)\n",
    "x = tf.keras.layers.Dropout(0.1)(x)\n",
    "x = tf.keras.layers.Dense(1, activation='relu')(x)\n",
    "\n",
    "modelco2 = tf.keras.Model(inputs=input_, outputs=x)"
   ],
   "metadata": {
    "collapsed": false,
    "pycharm": {
     "name": "#%%\n"
    }
   }
  },
  {
   "cell_type": "code",
   "execution_count": 7,
   "outputs": [],
   "source": [
    "cosy_model = CosyNetMultiInput(\n",
    "    model_config=[model.get_config(), modelco2.get_config(), model.get_config()],\n",
    "    number_models=3,\n",
    "    scalar=1.0,\n",
    "    max_layer_cutoff=-1,\n",
    "    min_layer_cutoff=1\n",
    ")"
   ],
   "metadata": {
    "collapsed": false,
    "pycharm": {
     "name": "#%%\n"
    }
   }
  },
  {
   "cell_type": "code",
   "execution_count": 8,
   "outputs": [],
   "source": [
    "opt = tf.keras.optimizers.Adam(learning_rate=0.00025)\n",
    "\n",
    "losses = {\n",
    "    'output_1':MaskedMeanSquaredError(),\n",
    "    'output_2': MaskedMeanSquaredError(),\n",
    "    'output_3': MaskedMeanSquaredError(),\n",
    "    }\n",
    "\n",
    "R2 = tfa.metrics.RSquare()\n",
    "\n",
    "cosy_model.compile(\n",
    "            optimizer=opt,\n",
    "            loss=losses,\n",
    "            metrics=[R2],\n",
    "            )"
   ],
   "metadata": {
    "collapsed": false,
    "pycharm": {
     "name": "#%%\n"
    }
   }
  },
  {
   "cell_type": "code",
   "execution_count": 9,
   "outputs": [
    {
     "name": "stdout",
     "output_type": "stream",
     "text": [
      "Epoch 1/4\n"
     ]
    },
    {
     "name": "stderr",
     "output_type": "stream",
     "text": [
      "2023-02-20 14:44:34.558499: W tensorflow/core/platform/profile_utils/cpu_utils.cc:128] Failed to get CPU frequency: 0 Hz\n",
      "2023-02-20 14:44:35.732045: I tensorflow/core/grappler/optimizers/custom_graph_optimizer_registry.cc:113] Plugin optimizer for device_type GPU is enabled.\n"
     ]
    },
    {
     "name": "stdout",
     "output_type": "stream",
     "text": [
      "878/878 [==============================] - ETA: 0s - loss: 7.6086 - output_1_loss: 0.0216 - output_2_loss: 0.3518 - output_3_loss: 0.6907 - output_1_r_square: -1.8708 - output_2_r_square: 0.0515 - output_3_r_square: 0.4757 - scaled_soft_loss: 2.1797"
     ]
    },
    {
     "name": "stderr",
     "output_type": "stream",
     "text": [
      "2023-02-20 14:44:57.414230: I tensorflow/core/grappler/optimizers/custom_graph_optimizer_registry.cc:113] Plugin optimizer for device_type GPU is enabled.\n"
     ]
    },
    {
     "name": "stdout",
     "output_type": "stream",
     "text": [
      "878/878 [==============================] - 24s 25ms/step - loss: 7.6086 - output_1_loss: 0.0216 - output_2_loss: 0.3518 - output_3_loss: 0.6907 - output_1_r_square: -1.8708 - output_2_r_square: 0.0515 - output_3_r_square: 0.4757 - scaled_soft_loss: 2.1797 - val_loss: 0.9545 - val_output_1_loss: 0.0157 - val_output_2_loss: 0.2996 - val_output_3_loss: 0.5499 - val_output_1_r_square: -1.1535 - val_output_2_r_square: 0.1323 - val_output_3_r_square: 0.5718 - val_scaled_soft_loss: 0.0298\n",
      "Epoch 2/4\n",
      "353/878 [===========>..................] - ETA: 12s - loss: 0.9910 - output_1_loss: 0.0173 - output_2_loss: 0.3047 - output_3_loss: 0.5632 - output_1_r_square: -1.2400 - output_2_r_square: 0.1454 - output_3_r_square: 0.5648 - scaled_soft_loss: 0.0353"
     ]
    },
    {
     "ename": "KeyboardInterrupt",
     "evalue": "",
     "output_type": "error",
     "traceback": [
      "\u001B[0;31m---------------------------------------------------------------------------\u001B[0m",
      "\u001B[0;31mKeyboardInterrupt\u001B[0m                         Traceback (most recent call last)",
      "Cell \u001B[0;32mIn[9], line 1\u001B[0m\n\u001B[0;32m----> 1\u001B[0m \u001B[43mcosy_model\u001B[49m\u001B[38;5;241;43m.\u001B[39;49m\u001B[43mfit\u001B[49m\u001B[43m(\u001B[49m\n\u001B[1;32m      2\u001B[0m \u001B[43m    \u001B[49m\u001B[43mx\u001B[49m\u001B[38;5;241;43m=\u001B[39;49m\u001B[43m[\u001B[49m\u001B[43mX_train\u001B[49m\u001B[43m,\u001B[49m\u001B[43m \u001B[49m\u001B[43mX_train_CO2\u001B[49m\u001B[43m,\u001B[49m\u001B[43m \u001B[49m\u001B[43mX_train\u001B[49m\u001B[43m]\u001B[49m\u001B[43m,\u001B[49m\u001B[43m \u001B[49m\u001B[43my\u001B[49m\u001B[38;5;241;43m=\u001B[39;49m\u001B[43m[\u001B[49m\u001B[43my_N2\u001B[49m\u001B[43m,\u001B[49m\u001B[43m \u001B[49m\u001B[43my_CO2\u001B[49m\u001B[43m,\u001B[49m\u001B[43m \u001B[49m\u001B[43my_SO2\u001B[49m\u001B[43m]\u001B[49m\u001B[43m,\u001B[49m\n\u001B[1;32m      3\u001B[0m \u001B[43m    \u001B[49m\u001B[43mvalidation_data\u001B[49m\u001B[38;5;241;43m=\u001B[39;49m\u001B[43m(\u001B[49m\u001B[43m[\u001B[49m\u001B[43mX_val\u001B[49m\u001B[43m,\u001B[49m\u001B[43m \u001B[49m\u001B[43mX_val_CO2\u001B[49m\u001B[43m,\u001B[49m\u001B[43m \u001B[49m\u001B[43mX_val\u001B[49m\u001B[43m]\u001B[49m\u001B[43m,\u001B[49m\u001B[43m \u001B[49m\u001B[43m[\u001B[49m\u001B[43my_N2_val\u001B[49m\u001B[43m,\u001B[49m\u001B[43m \u001B[49m\u001B[43my_CO2_val\u001B[49m\u001B[43m,\u001B[49m\u001B[43m \u001B[49m\u001B[43my_SO2_val\u001B[49m\u001B[43m]\u001B[49m\u001B[43m)\u001B[49m\u001B[43m,\u001B[49m\n\u001B[1;32m      4\u001B[0m \u001B[43m    \u001B[49m\u001B[43mbatch_size\u001B[49m\u001B[38;5;241;43m=\u001B[39;49m\u001B[38;5;241;43m32\u001B[39;49m\u001B[43m,\u001B[49m\u001B[43m \u001B[49m\u001B[43mepochs\u001B[49m\u001B[43m \u001B[49m\u001B[38;5;241;43m=\u001B[39;49m\u001B[43m \u001B[49m\u001B[38;5;241;43m4\u001B[39;49m\u001B[43m,\u001B[49m\u001B[43m \u001B[49m\u001B[43mverbose\u001B[49m\u001B[38;5;241;43m=\u001B[39;49m\u001B[38;5;241;43m1\u001B[39;49m\n\u001B[1;32m      5\u001B[0m \u001B[43m)\u001B[49m\n",
      "File \u001B[0;32m~/.local/share/virtualenvs/Cosy-QaLDgKkW/lib/python3.9/site-packages/keras/utils/traceback_utils.py:64\u001B[0m, in \u001B[0;36mfilter_traceback.<locals>.error_handler\u001B[0;34m(*args, **kwargs)\u001B[0m\n\u001B[1;32m     62\u001B[0m filtered_tb \u001B[38;5;241m=\u001B[39m \u001B[38;5;28;01mNone\u001B[39;00m\n\u001B[1;32m     63\u001B[0m \u001B[38;5;28;01mtry\u001B[39;00m:\n\u001B[0;32m---> 64\u001B[0m   \u001B[38;5;28;01mreturn\u001B[39;00m \u001B[43mfn\u001B[49m\u001B[43m(\u001B[49m\u001B[38;5;241;43m*\u001B[39;49m\u001B[43margs\u001B[49m\u001B[43m,\u001B[49m\u001B[43m \u001B[49m\u001B[38;5;241;43m*\u001B[39;49m\u001B[38;5;241;43m*\u001B[39;49m\u001B[43mkwargs\u001B[49m\u001B[43m)\u001B[49m\n\u001B[1;32m     65\u001B[0m \u001B[38;5;28;01mexcept\u001B[39;00m \u001B[38;5;167;01mException\u001B[39;00m \u001B[38;5;28;01mas\u001B[39;00m e:  \u001B[38;5;66;03m# pylint: disable=broad-except\u001B[39;00m\n\u001B[1;32m     66\u001B[0m   filtered_tb \u001B[38;5;241m=\u001B[39m _process_traceback_frames(e\u001B[38;5;241m.\u001B[39m__traceback__)\n",
      "File \u001B[0;32m~/.local/share/virtualenvs/Cosy-QaLDgKkW/lib/python3.9/site-packages/keras/engine/training.py:1409\u001B[0m, in \u001B[0;36mModel.fit\u001B[0;34m(self, x, y, batch_size, epochs, verbose, callbacks, validation_split, validation_data, shuffle, class_weight, sample_weight, initial_epoch, steps_per_epoch, validation_steps, validation_batch_size, validation_freq, max_queue_size, workers, use_multiprocessing)\u001B[0m\n\u001B[1;32m   1402\u001B[0m \u001B[38;5;28;01mwith\u001B[39;00m tf\u001B[38;5;241m.\u001B[39mprofiler\u001B[38;5;241m.\u001B[39mexperimental\u001B[38;5;241m.\u001B[39mTrace(\n\u001B[1;32m   1403\u001B[0m     \u001B[38;5;124m'\u001B[39m\u001B[38;5;124mtrain\u001B[39m\u001B[38;5;124m'\u001B[39m,\n\u001B[1;32m   1404\u001B[0m     epoch_num\u001B[38;5;241m=\u001B[39mepoch,\n\u001B[1;32m   1405\u001B[0m     step_num\u001B[38;5;241m=\u001B[39mstep,\n\u001B[1;32m   1406\u001B[0m     batch_size\u001B[38;5;241m=\u001B[39mbatch_size,\n\u001B[1;32m   1407\u001B[0m     _r\u001B[38;5;241m=\u001B[39m\u001B[38;5;241m1\u001B[39m):\n\u001B[1;32m   1408\u001B[0m   callbacks\u001B[38;5;241m.\u001B[39mon_train_batch_begin(step)\n\u001B[0;32m-> 1409\u001B[0m   tmp_logs \u001B[38;5;241m=\u001B[39m \u001B[38;5;28;43mself\u001B[39;49m\u001B[38;5;241;43m.\u001B[39;49m\u001B[43mtrain_function\u001B[49m\u001B[43m(\u001B[49m\u001B[43miterator\u001B[49m\u001B[43m)\u001B[49m\n\u001B[1;32m   1410\u001B[0m   \u001B[38;5;28;01mif\u001B[39;00m data_handler\u001B[38;5;241m.\u001B[39mshould_sync:\n\u001B[1;32m   1411\u001B[0m     context\u001B[38;5;241m.\u001B[39masync_wait()\n",
      "File \u001B[0;32m~/.local/share/virtualenvs/Cosy-QaLDgKkW/lib/python3.9/site-packages/tensorflow/python/util/traceback_utils.py:150\u001B[0m, in \u001B[0;36mfilter_traceback.<locals>.error_handler\u001B[0;34m(*args, **kwargs)\u001B[0m\n\u001B[1;32m    148\u001B[0m filtered_tb \u001B[38;5;241m=\u001B[39m \u001B[38;5;28;01mNone\u001B[39;00m\n\u001B[1;32m    149\u001B[0m \u001B[38;5;28;01mtry\u001B[39;00m:\n\u001B[0;32m--> 150\u001B[0m   \u001B[38;5;28;01mreturn\u001B[39;00m \u001B[43mfn\u001B[49m\u001B[43m(\u001B[49m\u001B[38;5;241;43m*\u001B[39;49m\u001B[43margs\u001B[49m\u001B[43m,\u001B[49m\u001B[43m \u001B[49m\u001B[38;5;241;43m*\u001B[39;49m\u001B[38;5;241;43m*\u001B[39;49m\u001B[43mkwargs\u001B[49m\u001B[43m)\u001B[49m\n\u001B[1;32m    151\u001B[0m \u001B[38;5;28;01mexcept\u001B[39;00m \u001B[38;5;167;01mException\u001B[39;00m \u001B[38;5;28;01mas\u001B[39;00m e:\n\u001B[1;32m    152\u001B[0m   filtered_tb \u001B[38;5;241m=\u001B[39m _process_traceback_frames(e\u001B[38;5;241m.\u001B[39m__traceback__)\n",
      "File \u001B[0;32m~/.local/share/virtualenvs/Cosy-QaLDgKkW/lib/python3.9/site-packages/tensorflow/python/eager/def_function.py:915\u001B[0m, in \u001B[0;36mFunction.__call__\u001B[0;34m(self, *args, **kwds)\u001B[0m\n\u001B[1;32m    912\u001B[0m compiler \u001B[38;5;241m=\u001B[39m \u001B[38;5;124m\"\u001B[39m\u001B[38;5;124mxla\u001B[39m\u001B[38;5;124m\"\u001B[39m \u001B[38;5;28;01mif\u001B[39;00m \u001B[38;5;28mself\u001B[39m\u001B[38;5;241m.\u001B[39m_jit_compile \u001B[38;5;28;01melse\u001B[39;00m \u001B[38;5;124m\"\u001B[39m\u001B[38;5;124mnonXla\u001B[39m\u001B[38;5;124m\"\u001B[39m\n\u001B[1;32m    914\u001B[0m \u001B[38;5;28;01mwith\u001B[39;00m OptionalXlaContext(\u001B[38;5;28mself\u001B[39m\u001B[38;5;241m.\u001B[39m_jit_compile):\n\u001B[0;32m--> 915\u001B[0m   result \u001B[38;5;241m=\u001B[39m \u001B[38;5;28;43mself\u001B[39;49m\u001B[38;5;241;43m.\u001B[39;49m\u001B[43m_call\u001B[49m\u001B[43m(\u001B[49m\u001B[38;5;241;43m*\u001B[39;49m\u001B[43margs\u001B[49m\u001B[43m,\u001B[49m\u001B[43m \u001B[49m\u001B[38;5;241;43m*\u001B[39;49m\u001B[38;5;241;43m*\u001B[39;49m\u001B[43mkwds\u001B[49m\u001B[43m)\u001B[49m\n\u001B[1;32m    917\u001B[0m new_tracing_count \u001B[38;5;241m=\u001B[39m \u001B[38;5;28mself\u001B[39m\u001B[38;5;241m.\u001B[39mexperimental_get_tracing_count()\n\u001B[1;32m    918\u001B[0m without_tracing \u001B[38;5;241m=\u001B[39m (tracing_count \u001B[38;5;241m==\u001B[39m new_tracing_count)\n",
      "File \u001B[0;32m~/.local/share/virtualenvs/Cosy-QaLDgKkW/lib/python3.9/site-packages/tensorflow/python/eager/def_function.py:947\u001B[0m, in \u001B[0;36mFunction._call\u001B[0;34m(self, *args, **kwds)\u001B[0m\n\u001B[1;32m    944\u001B[0m   \u001B[38;5;28mself\u001B[39m\u001B[38;5;241m.\u001B[39m_lock\u001B[38;5;241m.\u001B[39mrelease()\n\u001B[1;32m    945\u001B[0m   \u001B[38;5;66;03m# In this case we have created variables on the first call, so we run the\u001B[39;00m\n\u001B[1;32m    946\u001B[0m   \u001B[38;5;66;03m# defunned version which is guaranteed to never create variables.\u001B[39;00m\n\u001B[0;32m--> 947\u001B[0m   \u001B[38;5;28;01mreturn\u001B[39;00m \u001B[38;5;28;43mself\u001B[39;49m\u001B[38;5;241;43m.\u001B[39;49m\u001B[43m_stateless_fn\u001B[49m\u001B[43m(\u001B[49m\u001B[38;5;241;43m*\u001B[39;49m\u001B[43margs\u001B[49m\u001B[43m,\u001B[49m\u001B[43m \u001B[49m\u001B[38;5;241;43m*\u001B[39;49m\u001B[38;5;241;43m*\u001B[39;49m\u001B[43mkwds\u001B[49m\u001B[43m)\u001B[49m  \u001B[38;5;66;03m# pylint: disable=not-callable\u001B[39;00m\n\u001B[1;32m    948\u001B[0m \u001B[38;5;28;01melif\u001B[39;00m \u001B[38;5;28mself\u001B[39m\u001B[38;5;241m.\u001B[39m_stateful_fn \u001B[38;5;129;01mis\u001B[39;00m \u001B[38;5;129;01mnot\u001B[39;00m \u001B[38;5;28;01mNone\u001B[39;00m:\n\u001B[1;32m    949\u001B[0m   \u001B[38;5;66;03m# Release the lock early so that multiple threads can perform the call\u001B[39;00m\n\u001B[1;32m    950\u001B[0m   \u001B[38;5;66;03m# in parallel.\u001B[39;00m\n\u001B[1;32m    951\u001B[0m   \u001B[38;5;28mself\u001B[39m\u001B[38;5;241m.\u001B[39m_lock\u001B[38;5;241m.\u001B[39mrelease()\n",
      "File \u001B[0;32m~/.local/share/virtualenvs/Cosy-QaLDgKkW/lib/python3.9/site-packages/tensorflow/python/eager/function.py:2453\u001B[0m, in \u001B[0;36mFunction.__call__\u001B[0;34m(self, *args, **kwargs)\u001B[0m\n\u001B[1;32m   2450\u001B[0m \u001B[38;5;28;01mwith\u001B[39;00m \u001B[38;5;28mself\u001B[39m\u001B[38;5;241m.\u001B[39m_lock:\n\u001B[1;32m   2451\u001B[0m   (graph_function,\n\u001B[1;32m   2452\u001B[0m    filtered_flat_args) \u001B[38;5;241m=\u001B[39m \u001B[38;5;28mself\u001B[39m\u001B[38;5;241m.\u001B[39m_maybe_define_function(args, kwargs)\n\u001B[0;32m-> 2453\u001B[0m \u001B[38;5;28;01mreturn\u001B[39;00m \u001B[43mgraph_function\u001B[49m\u001B[38;5;241;43m.\u001B[39;49m\u001B[43m_call_flat\u001B[49m\u001B[43m(\u001B[49m\n\u001B[1;32m   2454\u001B[0m \u001B[43m    \u001B[49m\u001B[43mfiltered_flat_args\u001B[49m\u001B[43m,\u001B[49m\u001B[43m \u001B[49m\u001B[43mcaptured_inputs\u001B[49m\u001B[38;5;241;43m=\u001B[39;49m\u001B[43mgraph_function\u001B[49m\u001B[38;5;241;43m.\u001B[39;49m\u001B[43mcaptured_inputs\u001B[49m\u001B[43m)\u001B[49m\n",
      "File \u001B[0;32m~/.local/share/virtualenvs/Cosy-QaLDgKkW/lib/python3.9/site-packages/tensorflow/python/eager/function.py:1860\u001B[0m, in \u001B[0;36mConcreteFunction._call_flat\u001B[0;34m(self, args, captured_inputs, cancellation_manager)\u001B[0m\n\u001B[1;32m   1856\u001B[0m possible_gradient_type \u001B[38;5;241m=\u001B[39m gradients_util\u001B[38;5;241m.\u001B[39mPossibleTapeGradientTypes(args)\n\u001B[1;32m   1857\u001B[0m \u001B[38;5;28;01mif\u001B[39;00m (possible_gradient_type \u001B[38;5;241m==\u001B[39m gradients_util\u001B[38;5;241m.\u001B[39mPOSSIBLE_GRADIENT_TYPES_NONE\n\u001B[1;32m   1858\u001B[0m     \u001B[38;5;129;01mand\u001B[39;00m executing_eagerly):\n\u001B[1;32m   1859\u001B[0m   \u001B[38;5;66;03m# No tape is watching; skip to running the function.\u001B[39;00m\n\u001B[0;32m-> 1860\u001B[0m   \u001B[38;5;28;01mreturn\u001B[39;00m \u001B[38;5;28mself\u001B[39m\u001B[38;5;241m.\u001B[39m_build_call_outputs(\u001B[38;5;28;43mself\u001B[39;49m\u001B[38;5;241;43m.\u001B[39;49m\u001B[43m_inference_function\u001B[49m\u001B[38;5;241;43m.\u001B[39;49m\u001B[43mcall\u001B[49m\u001B[43m(\u001B[49m\n\u001B[1;32m   1861\u001B[0m \u001B[43m      \u001B[49m\u001B[43mctx\u001B[49m\u001B[43m,\u001B[49m\u001B[43m \u001B[49m\u001B[43margs\u001B[49m\u001B[43m,\u001B[49m\u001B[43m \u001B[49m\u001B[43mcancellation_manager\u001B[49m\u001B[38;5;241;43m=\u001B[39;49m\u001B[43mcancellation_manager\u001B[49m\u001B[43m)\u001B[49m)\n\u001B[1;32m   1862\u001B[0m forward_backward \u001B[38;5;241m=\u001B[39m \u001B[38;5;28mself\u001B[39m\u001B[38;5;241m.\u001B[39m_select_forward_and_backward_functions(\n\u001B[1;32m   1863\u001B[0m     args,\n\u001B[1;32m   1864\u001B[0m     possible_gradient_type,\n\u001B[1;32m   1865\u001B[0m     executing_eagerly)\n\u001B[1;32m   1866\u001B[0m forward_function, args_with_tangents \u001B[38;5;241m=\u001B[39m forward_backward\u001B[38;5;241m.\u001B[39mforward()\n",
      "File \u001B[0;32m~/.local/share/virtualenvs/Cosy-QaLDgKkW/lib/python3.9/site-packages/tensorflow/python/eager/function.py:497\u001B[0m, in \u001B[0;36m_EagerDefinedFunction.call\u001B[0;34m(self, ctx, args, cancellation_manager)\u001B[0m\n\u001B[1;32m    495\u001B[0m \u001B[38;5;28;01mwith\u001B[39;00m _InterpolateFunctionError(\u001B[38;5;28mself\u001B[39m):\n\u001B[1;32m    496\u001B[0m   \u001B[38;5;28;01mif\u001B[39;00m cancellation_manager \u001B[38;5;129;01mis\u001B[39;00m \u001B[38;5;28;01mNone\u001B[39;00m:\n\u001B[0;32m--> 497\u001B[0m     outputs \u001B[38;5;241m=\u001B[39m \u001B[43mexecute\u001B[49m\u001B[38;5;241;43m.\u001B[39;49m\u001B[43mexecute\u001B[49m\u001B[43m(\u001B[49m\n\u001B[1;32m    498\u001B[0m \u001B[43m        \u001B[49m\u001B[38;5;28;43mstr\u001B[39;49m\u001B[43m(\u001B[49m\u001B[38;5;28;43mself\u001B[39;49m\u001B[38;5;241;43m.\u001B[39;49m\u001B[43msignature\u001B[49m\u001B[38;5;241;43m.\u001B[39;49m\u001B[43mname\u001B[49m\u001B[43m)\u001B[49m\u001B[43m,\u001B[49m\n\u001B[1;32m    499\u001B[0m \u001B[43m        \u001B[49m\u001B[43mnum_outputs\u001B[49m\u001B[38;5;241;43m=\u001B[39;49m\u001B[38;5;28;43mself\u001B[39;49m\u001B[38;5;241;43m.\u001B[39;49m\u001B[43m_num_outputs\u001B[49m\u001B[43m,\u001B[49m\n\u001B[1;32m    500\u001B[0m \u001B[43m        \u001B[49m\u001B[43minputs\u001B[49m\u001B[38;5;241;43m=\u001B[39;49m\u001B[43margs\u001B[49m\u001B[43m,\u001B[49m\n\u001B[1;32m    501\u001B[0m \u001B[43m        \u001B[49m\u001B[43mattrs\u001B[49m\u001B[38;5;241;43m=\u001B[39;49m\u001B[43mattrs\u001B[49m\u001B[43m,\u001B[49m\n\u001B[1;32m    502\u001B[0m \u001B[43m        \u001B[49m\u001B[43mctx\u001B[49m\u001B[38;5;241;43m=\u001B[39;49m\u001B[43mctx\u001B[49m\u001B[43m)\u001B[49m\n\u001B[1;32m    503\u001B[0m   \u001B[38;5;28;01melse\u001B[39;00m:\n\u001B[1;32m    504\u001B[0m     outputs \u001B[38;5;241m=\u001B[39m execute\u001B[38;5;241m.\u001B[39mexecute_with_cancellation(\n\u001B[1;32m    505\u001B[0m         \u001B[38;5;28mstr\u001B[39m(\u001B[38;5;28mself\u001B[39m\u001B[38;5;241m.\u001B[39msignature\u001B[38;5;241m.\u001B[39mname),\n\u001B[1;32m    506\u001B[0m         num_outputs\u001B[38;5;241m=\u001B[39m\u001B[38;5;28mself\u001B[39m\u001B[38;5;241m.\u001B[39m_num_outputs,\n\u001B[0;32m   (...)\u001B[0m\n\u001B[1;32m    509\u001B[0m         ctx\u001B[38;5;241m=\u001B[39mctx,\n\u001B[1;32m    510\u001B[0m         cancellation_manager\u001B[38;5;241m=\u001B[39mcancellation_manager)\n",
      "File \u001B[0;32m~/.local/share/virtualenvs/Cosy-QaLDgKkW/lib/python3.9/site-packages/tensorflow/python/eager/execute.py:54\u001B[0m, in \u001B[0;36mquick_execute\u001B[0;34m(op_name, num_outputs, inputs, attrs, ctx, name)\u001B[0m\n\u001B[1;32m     52\u001B[0m \u001B[38;5;28;01mtry\u001B[39;00m:\n\u001B[1;32m     53\u001B[0m   ctx\u001B[38;5;241m.\u001B[39mensure_initialized()\n\u001B[0;32m---> 54\u001B[0m   tensors \u001B[38;5;241m=\u001B[39m \u001B[43mpywrap_tfe\u001B[49m\u001B[38;5;241;43m.\u001B[39;49m\u001B[43mTFE_Py_Execute\u001B[49m\u001B[43m(\u001B[49m\u001B[43mctx\u001B[49m\u001B[38;5;241;43m.\u001B[39;49m\u001B[43m_handle\u001B[49m\u001B[43m,\u001B[49m\u001B[43m \u001B[49m\u001B[43mdevice_name\u001B[49m\u001B[43m,\u001B[49m\u001B[43m \u001B[49m\u001B[43mop_name\u001B[49m\u001B[43m,\u001B[49m\n\u001B[1;32m     55\u001B[0m \u001B[43m                                      \u001B[49m\u001B[43minputs\u001B[49m\u001B[43m,\u001B[49m\u001B[43m \u001B[49m\u001B[43mattrs\u001B[49m\u001B[43m,\u001B[49m\u001B[43m \u001B[49m\u001B[43mnum_outputs\u001B[49m\u001B[43m)\u001B[49m\n\u001B[1;32m     56\u001B[0m \u001B[38;5;28;01mexcept\u001B[39;00m core\u001B[38;5;241m.\u001B[39m_NotOkStatusException \u001B[38;5;28;01mas\u001B[39;00m e:\n\u001B[1;32m     57\u001B[0m   \u001B[38;5;28;01mif\u001B[39;00m name \u001B[38;5;129;01mis\u001B[39;00m \u001B[38;5;129;01mnot\u001B[39;00m \u001B[38;5;28;01mNone\u001B[39;00m:\n",
      "\u001B[0;31mKeyboardInterrupt\u001B[0m: "
     ]
    }
   ],
   "source": [
    "cosy_model.fit(\n",
    "    x=[X_train, X_train_CO2, X_train], y=[y_N2, y_CO2, y_SO2],\n",
    "    validation_data=([X_val, X_val_CO2, X_val], [y_N2_val, y_CO2_val, y_SO2_val]),\n",
    "    batch_size=32, epochs = 4, verbose=1\n",
    ")"
   ],
   "metadata": {
    "collapsed": false,
    "pycharm": {
     "name": "#%%\n"
    }
   }
  },
  {
   "cell_type": "code",
   "execution_count": null,
   "outputs": [],
   "source": [
    "models = cosy_model.get_models()"
   ],
   "metadata": {
    "collapsed": false,
    "pycharm": {
     "name": "#%%\n"
    }
   }
  },
  {
   "cell_type": "code",
   "execution_count": null,
   "outputs": [],
   "source": [
    "from sklearn.metrics import r2_score\n",
    "cosy_model.evaluate([X_test, X_test_CO2, X_test], [y_N2_test, y_CO2_test, y_SO2_test])\n",
    "predictions = cosy_model.predict([X_test, X_test_CO2, X_test])\n",
    "\n",
    "R2 = tfa.metrics.RSquare()\n",
    "\n",
    "pred1 = np.array(predictions[0]).reshape(-1)\n",
    "pred2 = np.array(predictions[1]).reshape(-1)\n",
    "pred3 = np.array(predictions[2]).reshape(-1)\n",
    "\n",
    "\n",
    "print(r2_score(y_N2_test, pred1))\n",
    "print(r2_score(y_CO2_test, pred2))\n",
    "print(r2_score(y_SO2_test, pred3))"
   ],
   "metadata": {
    "collapsed": false,
    "pycharm": {
     "name": "#%%\n"
    }
   }
  },
  {
   "cell_type": "code",
   "execution_count": null,
   "outputs": [],
   "source": [
    "y = y_N2"
   ],
   "metadata": {
    "collapsed": false,
    "pycharm": {
     "name": "#%%\n"
    }
   }
  },
  {
   "cell_type": "code",
   "execution_count": null,
   "outputs": [],
   "source": [
    "np.shape(y)"
   ],
   "metadata": {
    "collapsed": false,
    "pycharm": {
     "name": "#%%\n"
    }
   }
  },
  {
   "cell_type": "code",
   "execution_count": null,
   "outputs": [],
   "source": [
    "y_N2"
   ],
   "metadata": {
    "collapsed": false,
    "pycharm": {
     "name": "#%%\n"
    }
   }
  },
  {
   "cell_type": "code",
   "execution_count": null,
   "outputs": [],
   "source": [
    "masker = tf.not_equal(y, -1)"
   ],
   "metadata": {
    "collapsed": false,
    "pycharm": {
     "name": "#%%\n"
    }
   }
  },
  {
   "cell_type": "code",
   "execution_count": null,
   "outputs": [],
   "source": [
    "masker"
   ],
   "metadata": {
    "collapsed": false,
    "pycharm": {
     "name": "#%%\n"
    }
   }
  },
  {
   "cell_type": "code",
   "execution_count": null,
   "outputs": [],
   "source": [],
   "metadata": {
    "collapsed": false,
    "pycharm": {
     "name": "#%%\n"
    }
   }
  },
  {
   "cell_type": "code",
   "execution_count": null,
   "outputs": [],
   "source": [
    "y = tf.boolean_mask(y, masker)"
   ],
   "metadata": {
    "collapsed": false,
    "pycharm": {
     "name": "#%%\n"
    }
   }
  },
  {
   "cell_type": "code",
   "execution_count": null,
   "outputs": [],
   "source": [
    "y"
   ],
   "metadata": {
    "collapsed": false,
    "pycharm": {
     "name": "#%%\n"
    }
   }
  },
  {
   "cell_type": "code",
   "execution_count": null,
   "outputs": [],
   "source": [
    "models = cosy_model.get_models()"
   ],
   "metadata": {
    "collapsed": false,
    "pycharm": {
     "name": "#%%\n"
    }
   }
  },
  {
   "cell_type": "code",
   "execution_count": null,
   "outputs": [],
   "source": [
    "models[2].layers[1].weights"
   ],
   "metadata": {
    "collapsed": false,
    "pycharm": {
     "name": "#%%\n"
    }
   }
  },
  {
   "cell_type": "code",
   "execution_count": null,
   "outputs": [],
   "source": [
    "for idx, params in enumerate(zip(*[layer.weights for layer in cosy_model.task_nets.layers])):\n",
    "    if \"kernel\" in params[1].name and idx > 0:\n",
    "        print(params)"
   ],
   "metadata": {
    "collapsed": false,
    "pycharm": {
     "name": "#%%\n"
    }
   }
  },
  {
   "cell_type": "code",
   "execution_count": null,
   "outputs": [],
   "source": [],
   "metadata": {
    "collapsed": false,
    "pycharm": {
     "name": "#%%\n"
    }
   }
  }
 ],
 "metadata": {
  "kernelspec": {
   "display_name": "Python 3",
   "language": "python",
   "name": "python3"
  },
  "language_info": {
   "codemirror_mode": {
    "name": "ipython",
    "version": 2
   },
   "file_extension": ".py",
   "mimetype": "text/x-python",
   "name": "python",
   "nbconvert_exporter": "python",
   "pygments_lexer": "ipython2",
   "version": "2.7.6"
  }
 },
 "nbformat": 4,
 "nbformat_minor": 0
}
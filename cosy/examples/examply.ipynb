{
 "cells": [
  {
   "cell_type": "code",
   "execution_count": 1,
   "outputs": [],
   "source": [
    "import numpy as np\n",
    "import tensorflow as tf\n",
    "import tensorflow_addons as tfa\n",
    "import pandas as pd\n",
    "from sklearn.model_selection import train_test_split\n",
    "from sklearn.preprocessing import StandardScaler\n",
    "from cosy.models import CosyNetMultiInput\n",
    "from cosy.losses import trace_norm_loss, MaskedMeanSquaredError"
   ],
   "metadata": {
    "collapsed": false,
    "pycharm": {
     "name": "#%%\n"
    }
   }
  },
  {
   "cell_type": "code",
   "execution_count": 2,
   "outputs": [
    {
     "data": {
      "text/plain": "   Unnamed: 0     framework  CO2_tp_lod  N2_tp_lod  SO2_tp_lod  \\\n0           0  GIQXUA_clean    1.918899   0.017520    2.747258   \n1           1  JALPAQ_clean    0.050226   0.027788    0.008087   \n2           2  SAQQEH_clean    2.006302   0.249367    0.533491   \n3           3  BEFNEH_clean    1.036156   0.033717    1.343768   \n4           4  GELVID_clean    0.552087   0.064768    0.027879   \n\n   RDF_electronegativity_2.00  RDF_electronegativity_2.00.1  \\\n0                    0.000605                      0.000606   \n1                    0.000861                      0.000870   \n2                    0.000771                      0.000781   \n3                    0.000899                      0.000899   \n4                    0.000820                      0.000831   \n\n   RDF_electronegativity_2.01  RDF_electronegativity_2.03  \\\n0                    0.000607                    0.000609   \n1                    0.000888                    0.000916   \n2                    0.000802                    0.000833   \n3                    0.000900                    0.000903   \n4                    0.000852                    0.000884   \n\n   RDF_electronegativity_2.04  ...  RDF_vdWaalsVolume_28.53  \\\n0                    0.000614  ...                      0.0   \n1                    0.000954  ...                      0.0   \n2                    0.000876  ...                      0.0   \n3                    0.000910  ...                      0.0   \n4                    0.000928  ...                      0.0   \n\n   RDF_vdWaalsVolume_29.01  RDF_vdWaalsVolume_29.51  RDF_vdWaalsVolume_30.00  \\\n0                      0.0                      0.0                      0.0   \n1                      0.0                      0.0                      0.0   \n2                      0.0                      0.0                      0.0   \n3                      0.0                      0.0                      0.0   \n4                      0.0                      0.0                      0.0   \n\n       PLD       LCD   density       VF       SAv       SAg  \n0  3.86870   4.89334  1.792830  0.13844  2675.750  1492.470  \n1  2.90553   3.97550  1.660880  0.01992   841.869   506.881  \n2  9.13279  10.56525  0.914389  0.35942  2030.210  2220.290  \n3  3.33494   4.26940  2.165640  0.07290  1864.990   861.172  \n4  2.43534   3.61901  1.574130  0.02776  1334.150   847.547  \n\n[5 rows x 350 columns]",
      "text/html": "<div>\n<style scoped>\n    .dataframe tbody tr th:only-of-type {\n        vertical-align: middle;\n    }\n\n    .dataframe tbody tr th {\n        vertical-align: top;\n    }\n\n    .dataframe thead th {\n        text-align: right;\n    }\n</style>\n<table border=\"1\" class=\"dataframe\">\n  <thead>\n    <tr style=\"text-align: right;\">\n      <th></th>\n      <th>Unnamed: 0</th>\n      <th>framework</th>\n      <th>CO2_tp_lod</th>\n      <th>N2_tp_lod</th>\n      <th>SO2_tp_lod</th>\n      <th>RDF_electronegativity_2.00</th>\n      <th>RDF_electronegativity_2.00.1</th>\n      <th>RDF_electronegativity_2.01</th>\n      <th>RDF_electronegativity_2.03</th>\n      <th>RDF_electronegativity_2.04</th>\n      <th>...</th>\n      <th>RDF_vdWaalsVolume_28.53</th>\n      <th>RDF_vdWaalsVolume_29.01</th>\n      <th>RDF_vdWaalsVolume_29.51</th>\n      <th>RDF_vdWaalsVolume_30.00</th>\n      <th>PLD</th>\n      <th>LCD</th>\n      <th>density</th>\n      <th>VF</th>\n      <th>SAv</th>\n      <th>SAg</th>\n    </tr>\n  </thead>\n  <tbody>\n    <tr>\n      <th>0</th>\n      <td>0</td>\n      <td>GIQXUA_clean</td>\n      <td>1.918899</td>\n      <td>0.017520</td>\n      <td>2.747258</td>\n      <td>0.000605</td>\n      <td>0.000606</td>\n      <td>0.000607</td>\n      <td>0.000609</td>\n      <td>0.000614</td>\n      <td>...</td>\n      <td>0.0</td>\n      <td>0.0</td>\n      <td>0.0</td>\n      <td>0.0</td>\n      <td>3.86870</td>\n      <td>4.89334</td>\n      <td>1.792830</td>\n      <td>0.13844</td>\n      <td>2675.750</td>\n      <td>1492.470</td>\n    </tr>\n    <tr>\n      <th>1</th>\n      <td>1</td>\n      <td>JALPAQ_clean</td>\n      <td>0.050226</td>\n      <td>0.027788</td>\n      <td>0.008087</td>\n      <td>0.000861</td>\n      <td>0.000870</td>\n      <td>0.000888</td>\n      <td>0.000916</td>\n      <td>0.000954</td>\n      <td>...</td>\n      <td>0.0</td>\n      <td>0.0</td>\n      <td>0.0</td>\n      <td>0.0</td>\n      <td>2.90553</td>\n      <td>3.97550</td>\n      <td>1.660880</td>\n      <td>0.01992</td>\n      <td>841.869</td>\n      <td>506.881</td>\n    </tr>\n    <tr>\n      <th>2</th>\n      <td>2</td>\n      <td>SAQQEH_clean</td>\n      <td>2.006302</td>\n      <td>0.249367</td>\n      <td>0.533491</td>\n      <td>0.000771</td>\n      <td>0.000781</td>\n      <td>0.000802</td>\n      <td>0.000833</td>\n      <td>0.000876</td>\n      <td>...</td>\n      <td>0.0</td>\n      <td>0.0</td>\n      <td>0.0</td>\n      <td>0.0</td>\n      <td>9.13279</td>\n      <td>10.56525</td>\n      <td>0.914389</td>\n      <td>0.35942</td>\n      <td>2030.210</td>\n      <td>2220.290</td>\n    </tr>\n    <tr>\n      <th>3</th>\n      <td>3</td>\n      <td>BEFNEH_clean</td>\n      <td>1.036156</td>\n      <td>0.033717</td>\n      <td>1.343768</td>\n      <td>0.000899</td>\n      <td>0.000899</td>\n      <td>0.000900</td>\n      <td>0.000903</td>\n      <td>0.000910</td>\n      <td>...</td>\n      <td>0.0</td>\n      <td>0.0</td>\n      <td>0.0</td>\n      <td>0.0</td>\n      <td>3.33494</td>\n      <td>4.26940</td>\n      <td>2.165640</td>\n      <td>0.07290</td>\n      <td>1864.990</td>\n      <td>861.172</td>\n    </tr>\n    <tr>\n      <th>4</th>\n      <td>4</td>\n      <td>GELVID_clean</td>\n      <td>0.552087</td>\n      <td>0.064768</td>\n      <td>0.027879</td>\n      <td>0.000820</td>\n      <td>0.000831</td>\n      <td>0.000852</td>\n      <td>0.000884</td>\n      <td>0.000928</td>\n      <td>...</td>\n      <td>0.0</td>\n      <td>0.0</td>\n      <td>0.0</td>\n      <td>0.0</td>\n      <td>2.43534</td>\n      <td>3.61901</td>\n      <td>1.574130</td>\n      <td>0.02776</td>\n      <td>1334.150</td>\n      <td>847.547</td>\n    </tr>\n  </tbody>\n</table>\n<p>5 rows × 350 columns</p>\n</div>"
     },
     "execution_count": 2,
     "metadata": {},
     "output_type": "execute_result"
    }
   ],
   "source": [
    "df = pd.read_csv(\"/Users/tompope/Documents/python_enviroment/SoftwareDevelopment/soft_parameter_sharing/data/desulferization_data_w_tobacc.csv\")\n",
    "df.head()"
   ],
   "metadata": {
    "collapsed": false,
    "pycharm": {
     "name": "#%%\n"
    }
   }
  },
  {
   "cell_type": "code",
   "execution_count": 3,
   "outputs": [],
   "source": [
    "'''\n",
    "  - read data into dataframe\n",
    "  - generate class data\n",
    "  - extract and split feature and class data\n",
    "  - scale feature data\n",
    "'''\n",
    "\n",
    "\n",
    "df = df.sample(frac=1).reset_index(drop=True)\n",
    "df.drop(columns=['Unnamed: 0'], inplace=True)\n",
    "# df = df[df.framework.str.startswith('str_')]\n",
    "\n",
    "\n",
    "train_df_full, test_df = train_test_split(df, test_size=0.2, random_state=2020)\n",
    "\n",
    "train_df, val_df = train_test_split(train_df_full, test_size=0.1, random_state=2020)\n",
    "\n",
    "X_train = train_df.iloc[:, 4:].to_numpy().astype(np.float32)\n",
    "X_train_CO2 = train_df.iloc[:, 4:-6].to_numpy().astype(np.float32)\n",
    "\n",
    "y_CO2 = train_df.CO2_tp_lod.to_numpy().astype(np.float32)\n",
    "y_N2 = train_df.N2_tp_lod.to_numpy().astype(np.float32)\n",
    "y_SO2 = train_df.SO2_tp_lod.to_numpy().astype(np.float32)\n",
    "\n",
    "X_val = val_df.iloc[:, 4:].to_numpy().astype(np.float32)\n",
    "X_val_CO2 = val_df.iloc[:, 4:-6].to_numpy().astype(np.float32)\n",
    "y_CO2_val = val_df.CO2_tp_lod.to_numpy().astype(np.float32)\n",
    "y_N2_val = val_df.N2_tp_lod.to_numpy().astype(np.float32)\n",
    "y_SO2_val = val_df.SO2_tp_lod.to_numpy().astype(np.float32)\n",
    "\n",
    "X_test = test_df.iloc[:, 4:].to_numpy().astype(np.float32)\n",
    "X_test_CO2 = test_df.iloc[:, 4:-6].to_numpy().astype(np.float32)\n",
    "y_CO2_test =  test_df.CO2_tp_lod.to_numpy().astype(np.float32)\n",
    "y_N2_test = test_df.N2_tp_lod.to_numpy().astype(np.float32)\n",
    "y_SO2_test = test_df.SO2_tp_lod.to_numpy().astype(np.float32)\n",
    "\n",
    "\n",
    "# y_CO2[100:1000] = -1\n",
    "\n",
    "sc = StandardScaler()\n",
    "\n",
    "\n",
    "X_train = sc.fit_transform(X_train)\n",
    "X_val = sc.transform(X_val)\n",
    "X_test = sc.transform(X_test)"
   ],
   "metadata": {
    "collapsed": false,
    "pycharm": {
     "name": "#%%\n"
    }
   }
  },
  {
   "cell_type": "code",
   "execution_count": 4,
   "outputs": [
    {
     "data": {
      "text/plain": "                                          framework  CO2_tp_lod  N2_tp_lod  \\\n0    str_m3_o6_o22_f0_pcu_sym_105_faps_mpnn_charges    0.140591   0.137672   \n1                  str_m28_o16_wji_out_mpnn_charges    0.331812   0.306155   \n2    str_m2_o3_o10_f0_pcu_sym_100_faps_mpnn_charges    1.200102   0.268655   \n3     str_m9_o6_o23_f0_sra_sym_99_faps_mpnn_charges    0.360538   0.214823   \n4  str_m29_o83_o111_f0_pts_sym_24_faps_mpnn_charges    0.659675   0.246471   \n\n   SO2_tp_lod  RDF_electronegativity_2.00  RDF_electronegativity_2.00.1  \\\n0    0.009904                    0.000454                      0.000461   \n1    0.328909                    0.000685                      0.000698   \n2    1.815579                    0.000711                      0.000722   \n3    0.166560                    0.000673                      0.000683   \n4    4.576828                    0.000663                      0.000675   \n\n   RDF_electronegativity_2.01  RDF_electronegativity_2.03  \\\n0                    0.000477                    0.000501   \n1                    0.000724                    0.000765   \n2                    0.000744                    0.000778   \n3                    0.000703                    0.000733   \n4                    0.000699                    0.000737   \n\n   RDF_electronegativity_2.04  RDF_electronegativity_2.07  ...  \\\n0                    0.000537                    0.000586  ...   \n1                    0.000821                    0.000895  ...   \n2                    0.000825                    0.000885  ...   \n3                    0.000775                    0.000830  ...   \n4                    0.000790                    0.000860  ...   \n\n   RDF_vdWaalsVolume_28.53  RDF_vdWaalsVolume_29.01  RDF_vdWaalsVolume_29.51  \\\n0                 0.000000                   0.0000                 0.000000   \n1                 0.002088                   0.0011                 0.000501   \n2                 0.000000                   0.0000                 0.000000   \n3                 0.000000                   0.0000                 0.000000   \n4                 0.000000                   0.0000                 0.000000   \n\n   RDF_vdWaalsVolume_30.00       PLD       LCD   density       VF      SAv  \\\n0                 0.000000   8.81252  11.61770  0.640023  0.42430  2224.30   \n1                 0.000158  24.32915  25.51339  0.261124  0.72232  1446.19   \n2                 0.000000   8.24056   9.49506  0.559317  0.42300  2704.99   \n3                 0.000000  10.97711  11.50512  0.598658  0.44380  2290.26   \n4                 0.000000   6.87780   9.76524  0.666541  0.38238  2471.08   \n\n       SAg  \n0  3475.34  \n1  5538.32  \n2  4836.23  \n3  3825.66  \n4  3707.32  \n\n[5 rows x 349 columns]",
      "text/html": "<div>\n<style scoped>\n    .dataframe tbody tr th:only-of-type {\n        vertical-align: middle;\n    }\n\n    .dataframe tbody tr th {\n        vertical-align: top;\n    }\n\n    .dataframe thead th {\n        text-align: right;\n    }\n</style>\n<table border=\"1\" class=\"dataframe\">\n  <thead>\n    <tr style=\"text-align: right;\">\n      <th></th>\n      <th>framework</th>\n      <th>CO2_tp_lod</th>\n      <th>N2_tp_lod</th>\n      <th>SO2_tp_lod</th>\n      <th>RDF_electronegativity_2.00</th>\n      <th>RDF_electronegativity_2.00.1</th>\n      <th>RDF_electronegativity_2.01</th>\n      <th>RDF_electronegativity_2.03</th>\n      <th>RDF_electronegativity_2.04</th>\n      <th>RDF_electronegativity_2.07</th>\n      <th>...</th>\n      <th>RDF_vdWaalsVolume_28.53</th>\n      <th>RDF_vdWaalsVolume_29.01</th>\n      <th>RDF_vdWaalsVolume_29.51</th>\n      <th>RDF_vdWaalsVolume_30.00</th>\n      <th>PLD</th>\n      <th>LCD</th>\n      <th>density</th>\n      <th>VF</th>\n      <th>SAv</th>\n      <th>SAg</th>\n    </tr>\n  </thead>\n  <tbody>\n    <tr>\n      <th>0</th>\n      <td>str_m3_o6_o22_f0_pcu_sym_105_faps_mpnn_charges</td>\n      <td>0.140591</td>\n      <td>0.137672</td>\n      <td>0.009904</td>\n      <td>0.000454</td>\n      <td>0.000461</td>\n      <td>0.000477</td>\n      <td>0.000501</td>\n      <td>0.000537</td>\n      <td>0.000586</td>\n      <td>...</td>\n      <td>0.000000</td>\n      <td>0.0000</td>\n      <td>0.000000</td>\n      <td>0.000000</td>\n      <td>8.81252</td>\n      <td>11.61770</td>\n      <td>0.640023</td>\n      <td>0.42430</td>\n      <td>2224.30</td>\n      <td>3475.34</td>\n    </tr>\n    <tr>\n      <th>1</th>\n      <td>str_m28_o16_wji_out_mpnn_charges</td>\n      <td>0.331812</td>\n      <td>0.306155</td>\n      <td>0.328909</td>\n      <td>0.000685</td>\n      <td>0.000698</td>\n      <td>0.000724</td>\n      <td>0.000765</td>\n      <td>0.000821</td>\n      <td>0.000895</td>\n      <td>...</td>\n      <td>0.002088</td>\n      <td>0.0011</td>\n      <td>0.000501</td>\n      <td>0.000158</td>\n      <td>24.32915</td>\n      <td>25.51339</td>\n      <td>0.261124</td>\n      <td>0.72232</td>\n      <td>1446.19</td>\n      <td>5538.32</td>\n    </tr>\n    <tr>\n      <th>2</th>\n      <td>str_m2_o3_o10_f0_pcu_sym_100_faps_mpnn_charges</td>\n      <td>1.200102</td>\n      <td>0.268655</td>\n      <td>1.815579</td>\n      <td>0.000711</td>\n      <td>0.000722</td>\n      <td>0.000744</td>\n      <td>0.000778</td>\n      <td>0.000825</td>\n      <td>0.000885</td>\n      <td>...</td>\n      <td>0.000000</td>\n      <td>0.0000</td>\n      <td>0.000000</td>\n      <td>0.000000</td>\n      <td>8.24056</td>\n      <td>9.49506</td>\n      <td>0.559317</td>\n      <td>0.42300</td>\n      <td>2704.99</td>\n      <td>4836.23</td>\n    </tr>\n    <tr>\n      <th>3</th>\n      <td>str_m9_o6_o23_f0_sra_sym_99_faps_mpnn_charges</td>\n      <td>0.360538</td>\n      <td>0.214823</td>\n      <td>0.166560</td>\n      <td>0.000673</td>\n      <td>0.000683</td>\n      <td>0.000703</td>\n      <td>0.000733</td>\n      <td>0.000775</td>\n      <td>0.000830</td>\n      <td>...</td>\n      <td>0.000000</td>\n      <td>0.0000</td>\n      <td>0.000000</td>\n      <td>0.000000</td>\n      <td>10.97711</td>\n      <td>11.50512</td>\n      <td>0.598658</td>\n      <td>0.44380</td>\n      <td>2290.26</td>\n      <td>3825.66</td>\n    </tr>\n    <tr>\n      <th>4</th>\n      <td>str_m29_o83_o111_f0_pts_sym_24_faps_mpnn_charges</td>\n      <td>0.659675</td>\n      <td>0.246471</td>\n      <td>4.576828</td>\n      <td>0.000663</td>\n      <td>0.000675</td>\n      <td>0.000699</td>\n      <td>0.000737</td>\n      <td>0.000790</td>\n      <td>0.000860</td>\n      <td>...</td>\n      <td>0.000000</td>\n      <td>0.0000</td>\n      <td>0.000000</td>\n      <td>0.000000</td>\n      <td>6.87780</td>\n      <td>9.76524</td>\n      <td>0.666541</td>\n      <td>0.38238</td>\n      <td>2471.08</td>\n      <td>3707.32</td>\n    </tr>\n  </tbody>\n</table>\n<p>5 rows × 349 columns</p>\n</div>"
     },
     "execution_count": 4,
     "metadata": {},
     "output_type": "execute_result"
    }
   ],
   "source": [
    "df.head()"
   ],
   "metadata": {
    "collapsed": false,
    "pycharm": {
     "name": "#%%\n"
    }
   }
  },
  {
   "cell_type": "code",
   "execution_count": 5,
   "outputs": [
    {
     "name": "stdout",
     "output_type": "stream",
     "text": [
      "Metal device set to: Apple M1\n"
     ]
    },
    {
     "name": "stderr",
     "output_type": "stream",
     "text": [
      "2023-02-20 12:50:18.695465: I tensorflow/core/common_runtime/pluggable_device/pluggable_device_factory.cc:305] Could not identify NUMA node of platform GPU ID 0, defaulting to 0. Your kernel may not have been built with NUMA support.\n",
      "2023-02-20 12:50:18.695562: I tensorflow/core/common_runtime/pluggable_device/pluggable_device_factory.cc:271] Created TensorFlow device (/job:localhost/replica:0/task:0/device:GPU:0 with 0 MB memory) -> physical PluggableDevice (device: 0, name: METAL, pci bus id: <undefined>)\n"
     ]
    }
   ],
   "source": [
    "input_ = tf.keras.Input(shape=(X_train.shape[1]))\n",
    "x = tf.keras.layers.Dense(1200, activation='relu')(input_)\n",
    "x = tf.keras.layers.Dropout(0.1)(x)\n",
    "x = tf.keras.layers.Dense(400, activation='relu')(x)\n",
    "x = tf.keras.layers.Dropout(0.1)(x)\n",
    "x = tf.keras.layers.Dense(500, activation='relu')(x)\n",
    "x = tf.keras.layers.Dropout(0.1)(x)\n",
    "x = tf.keras.layers.Dense(1, activation='relu')(x)\n",
    "\n",
    "model = tf.keras.Model(inputs=input_, outputs=x)"
   ],
   "metadata": {
    "collapsed": false,
    "pycharm": {
     "name": "#%%\n"
    }
   }
  },
  {
   "cell_type": "code",
   "execution_count": 6,
   "outputs": [],
   "source": [
    "input_ = tf.keras.Input(shape=(X_train_CO2.shape[1]))\n",
    "x = tf.keras.layers.Dense(1200, activation='relu')(input_)\n",
    "x = tf.keras.layers.Dropout(0.1)(x)\n",
    "x = tf.keras.layers.Dense(400, activation='relu')(x)\n",
    "x = tf.keras.layers.Dropout(0.1)(x)\n",
    "x = tf.keras.layers.Dense(500, activation='relu')(x)\n",
    "x = tf.keras.layers.Dropout(0.1)(x)\n",
    "x = tf.keras.layers.Dense(1, activation='relu')(x)\n",
    "\n",
    "modelco2 = tf.keras.Model(inputs=input_, outputs=x)"
   ],
   "metadata": {
    "collapsed": false,
    "pycharm": {
     "name": "#%%\n"
    }
   }
  },
  {
   "cell_type": "code",
   "execution_count": 7,
   "outputs": [],
   "source": [
    "cosy_model = CosyNetMultiInput(\n",
    "    model_config=[model.get_config(), modelco2.get_config(), model.get_config()],\n",
    "    number_models=3,\n",
    "    scalar=1.0,\n",
    "    layer_cutoff=-1,\n",
    ")"
   ],
   "metadata": {
    "collapsed": false,
    "pycharm": {
     "name": "#%%\n"
    }
   }
  },
  {
   "cell_type": "code",
   "execution_count": 8,
   "outputs": [],
   "source": [
    "opt = tf.keras.optimizers.Adam(learning_rate=0.00025)\n",
    "\n",
    "losses = {\n",
    "    'output_1':MaskedMeanSquaredError(),\n",
    "    'output_2': MaskedMeanSquaredError(),\n",
    "    'output_3': MaskedMeanSquaredError(),\n",
    "    }\n",
    "\n",
    "R2 = tfa.metrics.RSquare()\n",
    "\n",
    "cosy_model.compile(\n",
    "            optimizer=opt,\n",
    "            loss=losses,\n",
    "            metrics=[R2],\n",
    "            )"
   ],
   "metadata": {
    "collapsed": false,
    "pycharm": {
     "name": "#%%\n"
    }
   }
  },
  {
   "cell_type": "code",
   "execution_count": 9,
   "outputs": [
    {
     "ename": "ValueError",
     "evalue": "Expected a symbolic Tensor for the metric value, received: <function CosyNetMultiInput.call.<locals>.<lambda> at 0x2d0601160>",
     "output_type": "error",
     "traceback": [
      "\u001B[0;31m---------------------------------------------------------------------------\u001B[0m",
      "\u001B[0;31mValueError\u001B[0m                                Traceback (most recent call last)",
      "Cell \u001B[0;32mIn[9], line 1\u001B[0m\n\u001B[0;32m----> 1\u001B[0m \u001B[43mcosy_model\u001B[49m\u001B[38;5;241;43m.\u001B[39;49m\u001B[43msummary\u001B[49m\u001B[43m(\u001B[49m\u001B[43m)\u001B[49m\n",
      "File \u001B[0;32m~/Documents/python_enviroment/SoftwareDevelopment/Cosy/cosy/models/cosy_net.py:86\u001B[0m, in \u001B[0;36mCosyNetMultiInput.summary\u001B[0;34m(self)\u001B[0m\n\u001B[1;32m     84\u001B[0m \u001B[38;5;28;01mdef\u001B[39;00m \u001B[38;5;21msummary\u001B[39m(\u001B[38;5;28mself\u001B[39m):\n\u001B[1;32m     85\u001B[0m     x \u001B[38;5;241m=\u001B[39m tf\u001B[38;5;241m.\u001B[39mkeras\u001B[38;5;241m.\u001B[39mInput(shape\u001B[38;5;241m=\u001B[39m(\u001B[38;5;241m24\u001B[39m, \u001B[38;5;241m24\u001B[39m, \u001B[38;5;241m3\u001B[39m))\n\u001B[0;32m---> 86\u001B[0m     model \u001B[38;5;241m=\u001B[39m tf\u001B[38;5;241m.\u001B[39mkeras\u001B[38;5;241m.\u001B[39mModel(inputs\u001B[38;5;241m=\u001B[39m[x], outputs\u001B[38;5;241m=\u001B[39m\u001B[38;5;28;43mself\u001B[39;49m\u001B[38;5;241;43m.\u001B[39;49m\u001B[43mcall\u001B[49m\u001B[43m(\u001B[49m\u001B[43mx\u001B[49m\u001B[43m)\u001B[49m)\n\u001B[1;32m     87\u001B[0m     \u001B[38;5;28;01mreturn\u001B[39;00m model\u001B[38;5;241m.\u001B[39msummary()\n",
      "File \u001B[0;32m~/Documents/python_enviroment/SoftwareDevelopment/Cosy/cosy/models/cosy_net.py:81\u001B[0m, in \u001B[0;36mCosyNetMultiInput.call\u001B[0;34m(self, inputs)\u001B[0m\n\u001B[1;32m     79\u001B[0m soft_sharing_loss \u001B[38;5;241m=\u001B[39m \u001B[38;5;28mself\u001B[39m\u001B[38;5;241m.\u001B[39msoft_loss()\n\u001B[1;32m     80\u001B[0m [net\u001B[38;5;241m.\u001B[39madd_loss(\u001B[38;5;28;01mlambda\u001B[39;00m: soft_sharing_loss) \u001B[38;5;28;01mfor\u001B[39;00m net \u001B[38;5;129;01min\u001B[39;00m \u001B[38;5;28mself\u001B[39m\u001B[38;5;241m.\u001B[39mtask_nets]\n\u001B[0;32m---> 81\u001B[0m \u001B[38;5;28;43mself\u001B[39;49m\u001B[38;5;241;43m.\u001B[39;49m\u001B[43madd_metric\u001B[49m\u001B[43m(\u001B[49m\u001B[38;5;28;43;01mlambda\u001B[39;49;00m\u001B[43m:\u001B[49m\u001B[43m \u001B[49m\u001B[43msoft_sharing_loss\u001B[49m\u001B[43m,\u001B[49m\u001B[43m \u001B[49m\u001B[43mname\u001B[49m\u001B[38;5;241;43m=\u001B[39;49m\u001B[38;5;124;43m\"\u001B[39;49m\u001B[38;5;124;43mscaled_soft_loss\u001B[39;49m\u001B[38;5;124;43m\"\u001B[39;49m\u001B[43m,\u001B[49m\u001B[43m \u001B[49m\u001B[43maggregation\u001B[49m\u001B[38;5;241;43m=\u001B[39;49m\u001B[38;5;124;43m\"\u001B[39;49m\u001B[38;5;124;43mmean\u001B[39;49m\u001B[38;5;124;43m\"\u001B[39;49m\u001B[43m)\u001B[49m\n\u001B[1;32m     82\u001B[0m \u001B[38;5;28;01mreturn\u001B[39;00m \u001B[38;5;28mtuple\u001B[39m(task_net(inputs[i]) \u001B[38;5;28;01mfor\u001B[39;00m i, task_net \u001B[38;5;129;01min\u001B[39;00m \u001B[38;5;28menumerate\u001B[39m(\u001B[38;5;28mself\u001B[39m\u001B[38;5;241m.\u001B[39mtask_nets))\n",
      "File \u001B[0;32m~/.local/share/virtualenvs/Cosy-QaLDgKkW/lib/python3.9/site-packages/keras/engine/base_layer.py:1498\u001B[0m, in \u001B[0;36mLayer.add_metric\u001B[0;34m(self, value, name, **kwargs)\u001B[0m\n\u001B[1;32m   1495\u001B[0m   name \u001B[38;5;241m=\u001B[39m value\u001B[38;5;241m.\u001B[39m_metric_obj\u001B[38;5;241m.\u001B[39mname\n\u001B[1;32m   1497\u001B[0m \u001B[38;5;28;01mif\u001B[39;00m \u001B[38;5;129;01mnot\u001B[39;00m in_call_context \u001B[38;5;129;01mand\u001B[39;00m \u001B[38;5;129;01mnot\u001B[39;00m is_symbolic:\n\u001B[0;32m-> 1498\u001B[0m   \u001B[38;5;28;01mraise\u001B[39;00m \u001B[38;5;167;01mValueError\u001B[39;00m(\u001B[38;5;124m'\u001B[39m\u001B[38;5;124mExpected a symbolic Tensor for the metric value, \u001B[39m\u001B[38;5;124m'\u001B[39m\n\u001B[1;32m   1499\u001B[0m                    \u001B[38;5;124m'\u001B[39m\u001B[38;5;124mreceived: \u001B[39m\u001B[38;5;124m'\u001B[39m \u001B[38;5;241m+\u001B[39m \u001B[38;5;28mstr\u001B[39m(value))\n\u001B[1;32m   1501\u001B[0m \u001B[38;5;66;03m# If a metric was added in a Layer's `call` or `build`.\u001B[39;00m\n\u001B[1;32m   1502\u001B[0m \u001B[38;5;28;01mif\u001B[39;00m in_call_context \u001B[38;5;129;01mor\u001B[39;00m \u001B[38;5;129;01mnot\u001B[39;00m \u001B[38;5;28mgetattr\u001B[39m(\u001B[38;5;28mself\u001B[39m, \u001B[38;5;124m'\u001B[39m\u001B[38;5;124m_is_graph_network\u001B[39m\u001B[38;5;124m'\u001B[39m, \u001B[38;5;28;01mFalse\u001B[39;00m):\n\u001B[1;32m   1503\u001B[0m   \u001B[38;5;66;03m# TF Function path should take the eager path.\u001B[39;00m\n\u001B[1;32m   1504\u001B[0m \n\u001B[1;32m   1505\u001B[0m   \u001B[38;5;66;03m# If the given metric is available in `metrics` list we just update state\u001B[39;00m\n\u001B[1;32m   1506\u001B[0m   \u001B[38;5;66;03m# on it, otherwise we create a new metric instance and\u001B[39;00m\n\u001B[1;32m   1507\u001B[0m   \u001B[38;5;66;03m# add it to the `metrics` list.\u001B[39;00m\n",
      "\u001B[0;31mValueError\u001B[0m: Expected a symbolic Tensor for the metric value, received: <function CosyNetMultiInput.call.<locals>.<lambda> at 0x2d0601160>"
     ]
    }
   ],
   "source": [
    "cosy_model.summary()"
   ],
   "metadata": {
    "collapsed": false,
    "pycharm": {
     "name": "#%%\n"
    }
   }
  },
  {
   "cell_type": "code",
   "execution_count": null,
   "outputs": [],
   "source": [
    "cosy_model.fit(\n",
    "    x=[X_train, X_train_CO2, X_train], y=[y_N2, y_CO2, y_SO2],\n",
    "    validation_data=([X_val, X_val_CO2, X_val], [y_N2_val, y_CO2_val, y_SO2_val]),\n",
    "    batch_size=32, epochs = 4, verbose=1\n",
    ")"
   ],
   "metadata": {
    "collapsed": false,
    "pycharm": {
     "name": "#%%\n"
    }
   }
  },
  {
   "cell_type": "code",
   "execution_count": null,
   "outputs": [],
   "source": [
    "models = cosy_model.get_models()"
   ],
   "metadata": {
    "collapsed": false,
    "pycharm": {
     "name": "#%%\n"
    }
   }
  },
  {
   "cell_type": "code",
   "execution_count": null,
   "outputs": [],
   "source": [
    "from sklearn.metrics import r2_score\n",
    "cosy_model.evaluate([X_test, X_test_CO2, X_test], [y_N2_test, y_CO2_test, y_SO2_test])\n",
    "predictions = cosy_model.predict([X_test, X_test_CO2, X_test])\n",
    "\n",
    "R2 = tfa.metrics.RSquare()\n",
    "\n",
    "pred1 = np.array(predictions[0]).reshape(-1)\n",
    "pred2 = np.array(predictions[1]).reshape(-1)\n",
    "pred3 = np.array(predictions[2]).reshape(-1)\n",
    "\n",
    "\n",
    "print(r2_score(y_N2_test, pred1))\n",
    "print(r2_score(y_CO2_test, pred2))\n",
    "print(r2_score(y_SO2_test, pred3))"
   ],
   "metadata": {
    "collapsed": false,
    "pycharm": {
     "name": "#%%\n"
    }
   }
  },
  {
   "cell_type": "code",
   "execution_count": null,
   "outputs": [],
   "source": [
    "y = y_N2"
   ],
   "metadata": {
    "collapsed": false,
    "pycharm": {
     "name": "#%%\n"
    }
   }
  },
  {
   "cell_type": "code",
   "execution_count": null,
   "outputs": [],
   "source": [
    "np.shape(y)"
   ],
   "metadata": {
    "collapsed": false,
    "pycharm": {
     "name": "#%%\n"
    }
   }
  },
  {
   "cell_type": "code",
   "execution_count": null,
   "outputs": [],
   "source": [
    "y_N2"
   ],
   "metadata": {
    "collapsed": false,
    "pycharm": {
     "name": "#%%\n"
    }
   }
  },
  {
   "cell_type": "code",
   "execution_count": null,
   "outputs": [],
   "source": [
    "masker = tf.not_equal(y, -1)"
   ],
   "metadata": {
    "collapsed": false,
    "pycharm": {
     "name": "#%%\n"
    }
   }
  },
  {
   "cell_type": "code",
   "execution_count": null,
   "outputs": [],
   "source": [
    "masker"
   ],
   "metadata": {
    "collapsed": false,
    "pycharm": {
     "name": "#%%\n"
    }
   }
  },
  {
   "cell_type": "code",
   "execution_count": null,
   "outputs": [],
   "source": [],
   "metadata": {
    "collapsed": false,
    "pycharm": {
     "name": "#%%\n"
    }
   }
  },
  {
   "cell_type": "code",
   "execution_count": null,
   "outputs": [],
   "source": [
    "y = tf.boolean_mask(y, masker)"
   ],
   "metadata": {
    "collapsed": false,
    "pycharm": {
     "name": "#%%\n"
    }
   }
  },
  {
   "cell_type": "code",
   "execution_count": null,
   "outputs": [],
   "source": [
    "y"
   ],
   "metadata": {
    "collapsed": false,
    "pycharm": {
     "name": "#%%\n"
    }
   }
  },
  {
   "cell_type": "code",
   "execution_count": null,
   "outputs": [],
   "source": [
    "models = cosy_model.get_models()"
   ],
   "metadata": {
    "collapsed": false,
    "pycharm": {
     "name": "#%%\n"
    }
   }
  },
  {
   "cell_type": "code",
   "execution_count": null,
   "outputs": [],
   "source": [
    "models[2].layers[1].weights"
   ],
   "metadata": {
    "collapsed": false,
    "pycharm": {
     "name": "#%%\n"
    }
   }
  },
  {
   "cell_type": "code",
   "execution_count": null,
   "outputs": [],
   "source": [
    "for idx, params in enumerate(zip(*[layer.weights for layer in cosy_model.task_nets.layers])):\n",
    "    if \"kernel\" in params[1].name and idx > 0:\n",
    "        print(params)"
   ],
   "metadata": {
    "collapsed": false,
    "pycharm": {
     "name": "#%%\n"
    }
   }
  },
  {
   "cell_type": "code",
   "execution_count": null,
   "outputs": [],
   "source": [],
   "metadata": {
    "collapsed": false,
    "pycharm": {
     "name": "#%%\n"
    }
   }
  }
 ],
 "metadata": {
  "kernelspec": {
   "display_name": "Python 3",
   "language": "python",
   "name": "python3"
  },
  "language_info": {
   "codemirror_mode": {
    "name": "ipython",
    "version": 2
   },
   "file_extension": ".py",
   "mimetype": "text/x-python",
   "name": "python",
   "nbconvert_exporter": "python",
   "pygments_lexer": "ipython2",
   "version": "2.7.6"
  }
 },
 "nbformat": 4,
 "nbformat_minor": 0
}